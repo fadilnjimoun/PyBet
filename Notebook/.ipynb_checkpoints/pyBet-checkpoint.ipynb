{
 "cells": [
  {
   "cell_type": "markdown",
   "metadata": {},
   "source": [
    "# PyBet : Beat the bookmakers"
   ]
  },
  {
   "cell_type": "markdown",
   "metadata": {},
   "source": [
    "#### The objective of this project is to try to beat bookmakers' algorithms on estimating the probability of a team winning a tennis match. In a first step we will study and apply methods to clean the dataset. Once the dataset is clean, a second step is to extract from the match history the characteristics that seem to be relevant to estimate the performance of a player (ranking, type of tournament, etc.). Finally, from these features, we will estimate the probability that a player A beats a player B."
   ]
  },
  {
   "cell_type": "markdown",
   "metadata": {},
   "source": [
    "#### The dataset comes from the website (kaggle https://www.kaggle.com/edouardthomas/atp-matches-dataset) . This is a csv file csv atp_data.csv (from website tennis.co.uk data) listing all tennis matches between the years 2000 and 2018. The dataset contains 23 variables and 44 708 matches (rows)."
   ]
  },
  {
   "cell_type": "markdown",
   "metadata": {
    "id": "4404e207"
   },
   "source": [
    "## Contents:\n",
    "\n",
    "1. Data Exploration\n",
    "2. Data Visualisation\n",
    "3. Features engineering\n",
    "4. ML\n",
    "5. ML test function\n",
    "6. Interpretability"
   ]
  },
  {
   "cell_type": "markdown",
   "metadata": {
    "id": "23ea5678"
   },
   "source": [
    "# 0. Loading of librairies"
   ]
  },
  {
   "cell_type": "code",
   "execution_count": 52,
   "metadata": {
    "id": "7e5e693f"
   },
   "outputs": [],
   "source": [
    "import pandas as pd\n",
    "import numpy as np\n",
    "import matplotlib.pyplot as plt\n",
    "%matplotlib inline\n",
    "import seaborn as sns\n",
    "from datetime import datetime, timedelta\n",
    "\n",
    "from sklearn.model_selection import GridSearchCV, train_test_split, cross_val_score\n",
    "from sklearn.preprocessing import StandardScaler, OneHotEncoder, LabelEncoder\n",
    "\n",
    "# Classification models that will be used\n",
    "from sklearn.linear_model import LogisticRegression\n",
    "from sklearn.neighbors import KNeighborsClassifier\n",
    "from sklearn.ensemble import RandomForestClassifier\n",
    "from sklearn.model_selection import GridSearchCV\n",
    "from sklearn.tree import DecisionTreeClassifier\n",
    "\n",
    "from joblib import dump, load\n",
    "\n",
    "# Models evaluation\n",
    "from sklearn.metrics import classification_report, accuracy_score, roc_curve, auc"
   ]
  },
  {
   "cell_type": "markdown",
   "metadata": {
    "id": "18f77620"
   },
   "source": [
    "# 1. Data Exploration & Cleaning"
   ]
  },
  {
   "cell_type": "code",
   "execution_count": 53,
   "metadata": {
    "colab": {
     "base_uri": "https://localhost:8080/",
     "height": 207
    },
    "id": "453b430b",
    "outputId": "bc7c467d-061d-425f-a803-4b831d7f7197"
   },
   "outputs": [
    {
     "data": {
      "text/html": [
       "<div>\n",
       "<style scoped>\n",
       "    .dataframe tbody tr th:only-of-type {\n",
       "        vertical-align: middle;\n",
       "    }\n",
       "\n",
       "    .dataframe tbody tr th {\n",
       "        vertical-align: top;\n",
       "    }\n",
       "\n",
       "    .dataframe thead th {\n",
       "        text-align: right;\n",
       "    }\n",
       "</style>\n",
       "<table border=\"1\" class=\"dataframe\">\n",
       "  <thead>\n",
       "    <tr style=\"text-align: right;\">\n",
       "      <th></th>\n",
       "      <th>ATP</th>\n",
       "      <th>Location</th>\n",
       "      <th>Tournament</th>\n",
       "      <th>Date</th>\n",
       "      <th>Series</th>\n",
       "      <th>Court</th>\n",
       "      <th>Surface</th>\n",
       "      <th>Round</th>\n",
       "      <th>Best of</th>\n",
       "      <th>Winner</th>\n",
       "    </tr>\n",
       "  </thead>\n",
       "  <tbody>\n",
       "    <tr>\n",
       "      <th>0</th>\n",
       "      <td>1</td>\n",
       "      <td>Adelaide</td>\n",
       "      <td>Australian Hardcourt Championships</td>\n",
       "      <td>2000-01-03</td>\n",
       "      <td>International</td>\n",
       "      <td>Outdoor</td>\n",
       "      <td>Hard</td>\n",
       "      <td>1st Round</td>\n",
       "      <td>3</td>\n",
       "      <td>Dosedel S.</td>\n",
       "    </tr>\n",
       "    <tr>\n",
       "      <th>1</th>\n",
       "      <td>3</td>\n",
       "      <td>Doha</td>\n",
       "      <td>Qatar Open</td>\n",
       "      <td>2000-01-03</td>\n",
       "      <td>International</td>\n",
       "      <td>Outdoor</td>\n",
       "      <td>Hard</td>\n",
       "      <td>1st Round</td>\n",
       "      <td>3</td>\n",
       "      <td>Kiefer N.</td>\n",
       "    </tr>\n",
       "  </tbody>\n",
       "</table>\n",
       "</div>"
      ],
      "text/plain": [
       "   ATP  Location                          Tournament        Date  \\\n",
       "0    1  Adelaide  Australian Hardcourt Championships  2000-01-03   \n",
       "1    3      Doha                          Qatar Open  2000-01-03   \n",
       "\n",
       "          Series    Court Surface      Round  Best of      Winner  \n",
       "0  International  Outdoor    Hard  1st Round        3  Dosedel S.  \n",
       "1  International  Outdoor    Hard  1st Round        3   Kiefer N.  "
      ]
     },
     "metadata": {},
     "output_type": "display_data"
    },
    {
     "data": {
      "text/html": [
       "<div>\n",
       "<style scoped>\n",
       "    .dataframe tbody tr th:only-of-type {\n",
       "        vertical-align: middle;\n",
       "    }\n",
       "\n",
       "    .dataframe tbody tr th {\n",
       "        vertical-align: top;\n",
       "    }\n",
       "\n",
       "    .dataframe thead th {\n",
       "        text-align: right;\n",
       "    }\n",
       "</style>\n",
       "<table border=\"1\" class=\"dataframe\">\n",
       "  <thead>\n",
       "    <tr style=\"text-align: right;\">\n",
       "      <th></th>\n",
       "      <th>Loser</th>\n",
       "      <th>WRank</th>\n",
       "      <th>LRank</th>\n",
       "      <th>Wsets</th>\n",
       "      <th>Lsets</th>\n",
       "      <th>Comment</th>\n",
       "      <th>PSW</th>\n",
       "      <th>PSL</th>\n",
       "      <th>B365W</th>\n",
       "      <th>B365L</th>\n",
       "      <th>elo_winner</th>\n",
       "      <th>elo_loser</th>\n",
       "      <th>proba_elo</th>\n",
       "    </tr>\n",
       "  </thead>\n",
       "  <tbody>\n",
       "    <tr>\n",
       "      <th>0</th>\n",
       "      <td>Ljubicic I.</td>\n",
       "      <td>63</td>\n",
       "      <td>77</td>\n",
       "      <td>2.0</td>\n",
       "      <td>0.0</td>\n",
       "      <td>Completed</td>\n",
       "      <td>NaN</td>\n",
       "      <td>NaN</td>\n",
       "      <td>NaN</td>\n",
       "      <td>NaN</td>\n",
       "      <td>1500.0</td>\n",
       "      <td>1500.0</td>\n",
       "      <td>0.5</td>\n",
       "    </tr>\n",
       "    <tr>\n",
       "      <th>1</th>\n",
       "      <td>Tarango J.</td>\n",
       "      <td>6</td>\n",
       "      <td>59</td>\n",
       "      <td>2.0</td>\n",
       "      <td>0.0</td>\n",
       "      <td>Completed</td>\n",
       "      <td>NaN</td>\n",
       "      <td>NaN</td>\n",
       "      <td>NaN</td>\n",
       "      <td>NaN</td>\n",
       "      <td>1500.0</td>\n",
       "      <td>1500.0</td>\n",
       "      <td>0.5</td>\n",
       "    </tr>\n",
       "  </tbody>\n",
       "</table>\n",
       "</div>"
      ],
      "text/plain": [
       "         Loser  WRank  LRank  Wsets  Lsets    Comment  PSW  PSL  B365W  B365L  \\\n",
       "0  Ljubicic I.     63     77    2.0    0.0  Completed  NaN  NaN    NaN    NaN   \n",
       "1   Tarango J.      6     59    2.0    0.0  Completed  NaN  NaN    NaN    NaN   \n",
       "\n",
       "   elo_winner  elo_loser  proba_elo  \n",
       "0      1500.0     1500.0        0.5  \n",
       "1      1500.0     1500.0        0.5  "
      ]
     },
     "metadata": {},
     "output_type": "display_data"
    }
   ],
   "source": [
    "#1er look of the dataset\n",
    "url = \"https://raw.githubusercontent.com/fadilnjimoun/PyBet/main/Data/atp_data.csv\"\n",
    "df = pd.read_csv(url)\n",
    "display(df.iloc[:,:10].head(2))\n",
    "display(df.iloc[:,10:].head(2))"
   ]
  },
  {
   "cell_type": "code",
   "execution_count": 54,
   "metadata": {
    "colab": {
     "base_uri": "https://localhost:8080/"
    },
    "id": "ab354d31",
    "outputId": "df07b779-8327-46e4-99b1-75e66c9218f2",
    "scrolled": true
   },
   "outputs": [
    {
     "name": "stdout",
     "output_type": "stream",
     "text": [
      "<class 'pandas.core.frame.DataFrame'>\n",
      "RangeIndex: 44708 entries, 0 to 44707\n",
      "Data columns (total 23 columns):\n",
      "ATP           44708 non-null int64\n",
      "Location      44708 non-null object\n",
      "Tournament    44708 non-null object\n",
      "Date          44708 non-null object\n",
      "Series        44708 non-null object\n",
      "Court         44708 non-null object\n",
      "Surface       44708 non-null object\n",
      "Round         44708 non-null object\n",
      "Best of       44708 non-null int64\n",
      "Winner        44708 non-null object\n",
      "Loser         44708 non-null object\n",
      "WRank         44708 non-null int64\n",
      "LRank         44708 non-null int64\n",
      "Wsets         44521 non-null float64\n",
      "Lsets         44521 non-null float64\n",
      "Comment       44708 non-null object\n",
      "PSW           32743 non-null float64\n",
      "PSL           32743 non-null float64\n",
      "B365W         39037 non-null float64\n",
      "B365L         39057 non-null float64\n",
      "elo_winner    44708 non-null float64\n",
      "elo_loser     44708 non-null float64\n",
      "proba_elo     44708 non-null float64\n",
      "dtypes: float64(9), int64(4), object(10)\n",
      "memory usage: 7.8+ MB\n"
     ]
    }
   ],
   "source": [
    "# Some information on the variables\n",
    "df.info()"
   ]
  },
  {
   "cell_type": "markdown",
   "metadata": {
    "id": "20864a6b"
   },
   "source": [
    "##### We have 23 variables, 13 of whom continuous (quantitatives) et 10 categoricals (qualitatives)"
   ]
  },
  {
   "cell_type": "code",
   "execution_count": 55,
   "metadata": {
    "colab": {
     "base_uri": "https://localhost:8080/"
    },
    "id": "4b264ad2",
    "outputId": "fc8188a5-a85d-4769-b43c-2f28ebe42254"
   },
   "outputs": [
    {
     "data": {
      "text/plain": [
       "ATP              69\n",
       "Location        115\n",
       "Tournament      207\n",
       "Date           4104\n",
       "Series            8\n",
       "Court             2\n",
       "Surface           4\n",
       "Round             8\n",
       "Best of           2\n",
       "Winner          899\n",
       "Loser          1400\n",
       "WRank           587\n",
       "LRank           920\n",
       "Wsets             4\n",
       "Lsets             3\n",
       "Comment           4\n",
       "PSW            1177\n",
       "PSL            1580\n",
       "B365W           133\n",
       "B365L           137\n",
       "elo_winner    44297\n",
       "elo_loser     43522\n",
       "proba_elo     44555\n",
       "dtype: int64"
      ]
     },
     "execution_count": 55,
     "metadata": {},
     "output_type": "execute_result"
    }
   ],
   "source": [
    "# The dataset does not have a priori description, let us try to understand the different variables and describe them\n",
    "\n",
    "df.nunique()"
   ]
  },
  {
   "cell_type": "code",
   "execution_count": 56,
   "metadata": {
    "colab": {
     "base_uri": "https://localhost:8080/"
    },
    "id": "446b63d4",
    "outputId": "9e84ec91-48da-447f-9deb-350edbe9a145"
   },
   "outputs": [
    {
     "data": {
      "text/plain": [
       "array(['Completed', 'Retired', 'Walkover', 'Disqualified'], dtype=object)"
      ]
     },
     "execution_count": 56,
     "metadata": {},
     "output_type": "execute_result"
    }
   ],
   "source": [
    "# Variable 'Comment'\n",
    "df.Comment.unique()\n",
    "# This variable lets you know if the match has come to an end"
   ]
  },
  {
   "cell_type": "code",
   "execution_count": 57,
   "metadata": {
    "colab": {
     "base_uri": "https://localhost:8080/"
    },
    "id": "6aa057c8",
    "outputId": "9ec3bad1-f146-41ad-d221-ce9126f35730"
   },
   "outputs": [
    {
     "data": {
      "text/plain": [
       "array(['International', 'Grand Slam', 'International Gold', 'Masters',\n",
       "       'Masters Cup', 'ATP250', 'ATP500', 'Masters 1000'], dtype=object)"
      ]
     },
     "execution_count": 57,
     "metadata": {},
     "output_type": "execute_result"
    }
   ],
   "source": [
    "# Variable 'Series'\n",
    "df.Series.unique()\n",
    "# Tournament type"
   ]
  },
  {
   "cell_type": "code",
   "execution_count": 58,
   "metadata": {
    "colab": {
     "base_uri": "https://localhost:8080/"
    },
    "id": "348a89b5",
    "outputId": "b426bf2a-9c06-44d6-9298-71bf5e2b3c60"
   },
   "outputs": [
    {
     "data": {
      "text/plain": [
       "array(['1st Round', 'Semifinals', 'Quarterfinals', '2nd Round',\n",
       "       'The Final', '3rd Round', '4th Round', 'Round Robin'], dtype=object)"
      ]
     },
     "execution_count": 58,
     "metadata": {},
     "output_type": "execute_result"
    }
   ],
   "source": [
    "# Variable 'Round'\n",
    "df.Round.unique()\n",
    "# Competition stage"
   ]
  },
  {
   "cell_type": "code",
   "execution_count": 59,
   "metadata": {
    "colab": {
     "base_uri": "https://localhost:8080/"
    },
    "id": "056fdb4d",
    "outputId": "bdf43430-0377-4f0e-df7b-0651740c48de"
   },
   "outputs": [
    {
     "data": {
      "text/plain": [
       "array([' Hajek J.', 'Abel M.', 'Acasuso J.', 'Agassi A.', 'Agenor R.',\n",
       "       'Aguilar J.', 'Ahouda A.', 'Al Ghareeb M.', 'Alami K.', 'Albot R.',\n",
       "       'Aldi F.', 'Allegro Y.', 'Almagro N.', 'Alonso J.', 'Altmaier D.',\n",
       "       'Alund M.', 'Alvarez E.', 'Alves T.', 'Amritraj P.', 'Ancic I.',\n",
       "       'Ancic M.', 'Andersen J.F.', 'Anderson K.', 'Andreev I.',\n",
       "       'Andreozzi G.', 'Andujar P.', 'Arazi H.', 'Arguello F.',\n",
       "       'Armando H.', 'Arnaboldi A.', 'Arthurs W.', 'Ascione A.',\n",
       "       'Ascione T.', 'Auckland J.', 'Baccanello P.', 'Bachelot J.F',\n",
       "       'Bachinger M.', 'Baghdatis M.', 'Bagnis F.', 'Bai Y.', 'Baker B.',\n",
       "       'Baker J.', 'Balazs A.', 'Balcells J.', 'Ball C.', 'Balleret B.',\n",
       "       'Barton M.', 'Basic M.', 'Basilashvili N.', 'Bastl G.',\n",
       "       'Bautista Agut R.', 'Bautista R.', 'Beck A.', 'Beck K.',\n",
       "       'Becker B.', 'Bedene A.', 'Behrend T.', 'Bellucci T.',\n",
       "       'Bemelmans R.', 'Benneteau J.', 'Berankis R.', 'Berasategui A.',\n",
       "       'Berdych T.', 'Berdych T. ', 'Berlocq C.', 'Berrer M.',\n",
       "       'Berrettini M.', 'Bhambri Y.', 'Bjorkman J.', 'Black B.',\n",
       "       'Black W.', 'Blake J.', 'Blake T.', 'Blanco G.', 'Bloomfield R.',\n",
       "       'Boeker M.', 'Bogdanovic A.', 'Bogomolov A.', 'Bogomolov Jr. A.',\n",
       "       'Bogomolov Jr.A.', 'Bohli S.', 'Bolelli S.', 'Bonzi B.',\n",
       "       'Bopanna R.', 'Bourgue M.', 'Boutter J.', 'Bower J.',\n",
       "       'Bozoljac I.', 'Braasch K.', 'Bracciali D.', 'Brands D.',\n",
       "       'Brasington J.', 'Broady L.', 'Brown D.', 'Browne F.',\n",
       "       'Bruguera S.', 'Brugues-Davi A.', 'Bryan B.', 'Bryan M.',\n",
       "       'Brzezicki J.P.', 'Bubka S.', 'Bublik A.', 'Burgsmuller L.',\n",
       "       'Burrieza O.', 'Cacic N.', 'Cadart R.', 'Cakl T.', 'Calatrava A.',\n",
       "       'Calleri A.', 'Canas G.', 'Capalik K.', 'Capdeville P.',\n",
       "       'Caratti C.', 'Carballes Baena R.', 'Carlsen K.', 'Carraz G.',\n",
       "       'Carreno Busta P.', 'Carreno-Busta P.', 'Carretero R.',\n",
       "       'Cecchinato M.', 'Cermak F.', 'Cervantes I.', 'Cervenak P.',\n",
       "       'Chadaj A.', 'Chang M.', 'Chardy J.', 'Chardy J. ',\n",
       "       'Charpentier M.', 'Chela J.', 'Chela J.I.', 'Cherkasov A.',\n",
       "       'Childs L.', 'Chiudinelli M.', 'Chiudinelli M. ', 'Chung H.',\n",
       "       'Cilic M.', 'Cilic M. ', 'Cipolla F.', 'Clavet F.', 'Clemens T.',\n",
       "       'Clement A.', 'Clezar G.', 'Copil M.', 'Coria G.', 'Coric B.',\n",
       "       'Corretja A.', 'Costa A.', 'Courier J.', 'Coutelot N.', 'Cowan B.',\n",
       "       'Crabb J.', 'Crivoi V.', 'Cruciat A.', 'Cuadrado C.', 'Cuevas P.',\n",
       "       'Cuevas P. ', 'Dabul B.', 'Damm M.', 'Dancevic F.', 'Daniel M.',\n",
       "       'Daniel T.', 'Darcis S.', 'Dasnieres de Veigy J.', 'Davydenko N.',\n",
       "       'Davydenko N. ', 'De Bakker T.', 'De Chaunac S.', 'De Greef A.',\n",
       "       'De Heart R.', 'De Minaur A.', 'De Schepper K.', 'De Voest R.',\n",
       "       'Decoud S.', 'Del Bonis F.', 'Del Potro J.', 'Del Potro J. M.',\n",
       "       'Del Potro J.M.', 'Delbonis F.', 'Delgado J.', 'Delgado R.',\n",
       "       'Delic A.', \"Dell'Acqua M.\", 'Demoliner M.', 'Dent T.',\n",
       "       'Devilder N.', 'Devvarman S.', 'Dewulf F.', 'Di Mauro A.',\n",
       "       'Di Pasquale A.', 'Diaz J.', 'Diez S.', 'Dimitrov G.', 'Djere L.',\n",
       "       'Djokovic N.', 'Djokovic N. ', 'Dlouhy L.', 'Dodig I.',\n",
       "       'Dolgopolov O.', 'Domingues J.', 'Donaldson J.', 'Donati M.',\n",
       "       'Donskoy E.', 'Dosedel S.', 'Draper S.', 'Duckworth J.',\n",
       "       'Duclos P.L.', 'Dupuis A.', 'Dutra Da Silva R.', 'Dutra Silva R.',\n",
       "       'Dzumhur D.', 'Eaton C.', 'Ebden M.', 'Economidis K.', 'Edmund K.',\n",
       "       'Eitzinger R.', 'El Aarej M.', 'El Amrani R.', 'El Aynaoui Y.',\n",
       "       'Eleskovic E.', 'Elgin M.', 'Elias G.', 'Elseneer G.', 'Elsner D.',\n",
       "       'Enqvist T.', 'Erlich J.', 'Eschauer W.', 'Escobedo E.',\n",
       "       'Escude N.', 'Estrella Burgos V.', 'Etlis G.', 'Eubanks C.',\n",
       "       'Evans B.', 'Evans D.', 'Fabbiano T.', 'Falla A.', 'Farah R.',\n",
       "       'Faurel J.C.', 'Federer R.', 'Federer R. ', 'Ferreira W.',\n",
       "       'Ferreiro F.', 'Ferrer D.', 'Ferrer D. ', 'Ferrero J.',\n",
       "       'Ferrero J.C.', 'Fischer M.', 'Fish M.', 'Flanagan I.',\n",
       "       'Fleishman Z.', 'Flygt K.', 'Fognini F.', 'Fogues F.', 'Fraile G.',\n",
       "       'Fratangelo B.', 'Friedl L.', 'Fritz T.', 'Froberg J.',\n",
       "       'Fromberg R.', 'Fucsovics M.', 'Fukarek O.', 'Furlan R.',\n",
       "       'Gabashvili T.', 'Gaio F.', 'Galan D.E.', 'Galimberti G.',\n",
       "       'Galvani S.', 'Gambill J. M.', 'Gambill J.M.', 'Gamonal H.',\n",
       "       'Garcia A.', 'Garcia-Lopez G.', 'Garcia-Lopez G. ', 'Garin C.',\n",
       "       'Gasquet R.', 'Gasquet R. ', 'Gaudenzi A.', 'Gaudio G.',\n",
       "       'Gensse A.', 'Ghem A.', 'Giannessi A.', 'Gicquel M.', 'Gil F.',\n",
       "       'Gimelstob J.', 'Gimeno-Traver D.', 'Ginepri R.', 'Giner J.',\n",
       "       'Giraldo S.', 'Godwin N.', 'Goellner M.K.', 'Goffin D.',\n",
       "       'Gojowczyk P.', 'Goldstein P.', 'Golmard J.', 'Golubev A.',\n",
       "       'Gombos N.', 'Gomez A.', 'Gomez E.', 'Gonzalez A.', 'Gonzalez F.',\n",
       "       'Gonzalez M.', 'Gonzalez S.', 'Goodall J.', 'Granollers M.',\n",
       "       'Gregorc L.', 'Gremelmayr D.', 'Greul S.', 'Griekspoor T.',\n",
       "       'Grosjean S.', 'Gross O.', 'Groth S.', 'Guardiola T.',\n",
       "       'Guccione A.', 'Guccione C.', 'Guez D.', 'Gulbis E.', 'Gumy H.',\n",
       "       'Gustafsson M.', 'Gutierrez-Ferrol S.', 'Guzman J.P.', 'Haas T.',\n",
       "       'Haase R.', 'Hadad A.', 'Haehnel J.', 'Haider-Mauer A.',\n",
       "       'Haider-Maurer A.', 'Hajek J.', 'Halys Q.', 'Hanescu V.',\n",
       "       'Hanfmann Y.', 'Hantschek M.', 'Hantschk M.', 'Harrison C.',\n",
       "       'Harrison R.', 'Hartfield D.', 'Healey N.', 'Hemery C.',\n",
       "       'Hemmes F.', 'Henman T.', 'Herbert P.H', 'Herbert P.H.',\n",
       "       'Hernandez A.', 'Hernandez O.', 'Hernych J.', 'Hernych J. ',\n",
       "       'Heuberger I.', 'Hewitt L.', 'Hill M.', 'Hilton M.', 'Hipfl M.',\n",
       "       'Hippensteel K.', 'Hood M.', 'Horna L.', 'Hrbaty D.', 'Huet S.',\n",
       "       'Huta Galung J.', 'Ianni S.', 'Ilhan M.', 'Ilie A.', 'Isner J.',\n",
       "       'Isner J. ', 'Istomin D.', 'Ito T.', 'Ivanisevic G.', 'Ivashka I.',\n",
       "       'Iwabuchi S.', 'Iwami T.', 'Janowicz J.', 'Jarry N.', 'Jasika O.',\n",
       "       'Jaziri M.', 'Jeanpierre J.', 'Jelenic P.', 'Jenkins S.',\n",
       "       'Johansson J.', 'Johansson T.', 'Johnson S.', 'Jones A.',\n",
       "       'Jones G.', 'Jonsson F.', 'Jouan R.', 'Joyce M.', 'Jun W.S.',\n",
       "       'Junqueira D.', 'Kafelnikov Y.', 'Kamke T.', 'Karanusic R.',\n",
       "       'Karatsev A.', 'Karlovic I.', 'Kavcic B.', 'Kempes E.',\n",
       "       'Kendrick R.', 'Ketola T.', 'Khachanov K.', 'Kicker N.',\n",
       "       'Kiefer N.', 'Kim A.', 'Kim K.', 'Kindlmann D.', 'King D.',\n",
       "       'King E.', 'King P.', 'Klaasen R.', 'Klahn B.', 'Klec I.',\n",
       "       'Klein B.', 'Klizan M.', 'Knippschild J.', 'Knittel B.',\n",
       "       'Knowle J.', 'Koellerer D.', 'Kohlmann M.', 'Kohlschreiber P.',\n",
       "       'Kokkinakis T.', 'Kontinen H.', 'Korolev E.', 'Korolev E. ',\n",
       "       'Kosakowski D.', 'Koubek S.', 'Kovalik J.', 'Kozlov S.',\n",
       "       'Krajan Z.', 'Krajicek A.', 'Krajicek R.', 'Krajinovic F.',\n",
       "       'Kralert P.', 'Kratochvil M.', 'Kravchuk K.', 'Kroslak J.',\n",
       "       'Krueger M.', 'Kubot L.', 'Kucera K.', 'Kucera V.', 'Kudla D.',\n",
       "       'Kudryavtsev A.', 'Kuerten G.', 'Kukushkin M.', 'Kunitsyn I.',\n",
       "       'Kutrovsky D.', 'Kutsenko V.', 'Kuznetsov A.', 'Kuznetsov Al.',\n",
       "       'Kuznetsov An.', 'Kyrgios N.', 'Laaksonen H.', 'Labadze I.',\n",
       "       'Lacko L.', 'Lajovic D.', 'Lamasine T.', 'Lammer M.', 'Lammer M. ',\n",
       "       'Langer N.', 'Lapentti G.', 'Lapentti N.', 'Lareau S.',\n",
       "       'Larkham T.', 'Larose S.', 'Larsson M.', 'Ledovskikh M.',\n",
       "       'Lee H.T.', 'Lee M.', 'Lejnieks K.', 'Levine J.', 'Levy H.',\n",
       "       'Lindahl N.', 'Lindell C.', 'Lisnard J.', 'Lisnard J.R.',\n",
       "       'Liukko V.', 'Ljubicic I.', 'Llodra M.', 'Lopez F.', 'Lopez F. ',\n",
       "       'Lopez M.', 'Lopez-Jaen M.A.', 'Lopez-Moron A.', 'Lorenzi P.',\n",
       "       'Lu H.', 'Lu Y.H.', 'Luczak P.', 'Luzzi F.', 'MacPhie B.',\n",
       "       'Machado R.', 'Maden Y.', 'Mahut N.', 'Malisse X.', 'Mamiit C.',\n",
       "       'Mannarino A.', 'Manta L.', 'Mantilla F.', 'Marach O.',\n",
       "       'Marcaccio G.', 'Marchenko I.', 'Marin J.A', 'Marin J.A.',\n",
       "       'Marray J.', 'Marrero D.', 'Martelli M.', 'Marterer M.',\n",
       "       'Marti J.', 'Martin A.', 'Martin T.', 'Massa E.', 'Massu N.',\n",
       "       'Mathieu P.H.', 'Matosevic M.', 'Matsui T.', 'Matsukevitch D.',\n",
       "       'Mayer F.', 'Mayer L.', 'Mayer L. ', 'Mcclune M.', 'Mcdonald M.',\n",
       "       'Mecir M.', 'Medvedev A.', 'Medvedev D.', 'Meffert D.',\n",
       "       'Mektic N.', 'Meligeni F.', 'Mello R.', 'Melo D.', 'Melzer G.',\n",
       "       'Melzer J.', 'Menendez-Maceiras A.', 'Mergea F.', 'Mertens Y.',\n",
       "       'Mertinak M.', 'Mertl J.', 'Millman J.', 'Millot V.', 'Mina G.',\n",
       "       'Minar I.', 'Miranda I.', 'Mirnyi M.', 'Mmoh M.', 'Moldovan I.',\n",
       "       'Monaco J.', 'Monaco J. ', 'Monfils G.', 'Monfils G. ',\n",
       "       'Montanes A.', 'Montanes A. ', 'Montcourt M.', 'Monteiro T.',\n",
       "       'Moodie W.', 'Moriya H.', 'Morrison J.', 'Mota B.', 'Motomura G.',\n",
       "       'Moutet C.', 'Moya C.', 'Muller G.', 'Munar J.',\n",
       "       'Munoz De La Nava D.', 'Munoz-De La Nava D.', 'Murray A.',\n",
       "       'Murray A. ', 'Mutis O.', 'Nadal R.', 'Nadal-Parera R.',\n",
       "       'Nalbandian D.', 'Napolitano S.', 'Nargiso D.', 'Naso G.',\n",
       "       'Navarro S.', 'Navarro-Pastor I.', 'Nestor D.', 'Nielsen M.',\n",
       "       'Niemeyer F.', 'Nieminen J.', 'Nieminen J. ', 'Nishikori K.',\n",
       "       'Nishioka Y.', 'Norman D.', 'Norman M.', 'Norrie C.', 'Novak D.',\n",
       "       'Novak J.', 'Novikov D.', \"O'Brien A.\", 'Odesnik W.', 'Ofner S.',\n",
       "       'Ogorodov O.', 'Ojeda Lara R.', 'Okun N.', 'Olaso G.',\n",
       "       'Olivetti A.', 'Olivo R.', 'Opelka R.', 'Ortegren J.', 'Oswald P.',\n",
       "       'Ouahab L.', 'Ouanna J.', 'Oudsema S.', 'Paes L.', 'Paire B.',\n",
       "       'Palmer J.', 'Parmar A.', 'Pashanski B.', 'Patience O.', 'Paul T.',\n",
       "       'Pavel A.', 'Pavic A.', 'Pavic M.', 'Pavlasek A.', 'Peliwo F.',\n",
       "       'Pella G.', 'Perez D.', 'Pescariu D.', 'Pescosolido S.',\n",
       "       'Petrovic D.', 'Petzschner P.', 'Peya A.', 'Phau B.',\n",
       "       'Philippoussis M.', 'Pioline C.', 'Pless K.', 'Polansky P.',\n",
       "       'Popp A.', 'Portas A.', 'Pospisil J.', 'Pospisil V.', 'Pouille L.',\n",
       "       'Pozzi G.', 'Pretzsch A.', 'Prieto S.', 'Prinosil D.', 'Prodon E.',\n",
       "       'Prpic F.', 'Przysiezny M.', 'Puentes G.', 'Puerta M.',\n",
       "       'Querrey S.', 'Querry S.', 'Quinzi G.', 'Quiroz R.', 'Qureshi A.',\n",
       "       'Qureshi A.U.H.', 'Radic M.', 'Rafter P.', 'Ram A.', 'Ram R.',\n",
       "       'Ramanathan R.', 'Ramirez Hidalgo R.', 'Ramirez-Hidalgo R.',\n",
       "       'Ramos A.', 'Ramos-Vinolas A.', 'Raonic M.', 'Rastogi K.',\n",
       "       'Recouderc L.', 'Rehnquist B.', 'Reid T.', 'Reister J.', 'Reix C.',\n",
       "       'Renavand N.', 'Reneberg R.', 'Rettenmaier T.', 'Reynolds B.',\n",
       "       'Riba P.', 'Rieschick S.', 'Rios M.', 'Robert S.', 'Robredo R.',\n",
       "       'Robredo T.', 'Robredo T. ', 'Rocha D.', 'Rochus C.', 'Rochus O.',\n",
       "       'Roddick A.', 'Rodrigues M.', 'Rodriguez M.', 'Roger-Vasselin E.',\n",
       "       'Roitman S.', 'Rola B.', 'Rosenholm P.', 'Rosol L.', 'Rosset M.',\n",
       "       'Roux L.', 'Rubin N.', 'Rublev A.', 'Rufin G.', 'Rusedski G.',\n",
       "       'Russell M.', 'Ruud C.', 'Ryderstedt M.', 'Sa A.', 'Sabau R.',\n",
       "       'Sadecky A.', 'Safin M.', 'Safwat M.', 'Sakharov G.',\n",
       "       'Salzenstein J.', 'Sampras P.', 'Sanchez D.', 'Sandgren T.',\n",
       "       'Sanguinetti D.', 'Santillan A.', 'Santoro F.', 'Saoudi S.',\n",
       "       'Saretta F.', 'Sargsian S.', 'Sarkissian A.', 'Satral J.',\n",
       "       'Saulnier C.', 'Savolt A.', 'Schalken S.', 'Scherrer J.C.',\n",
       "       'Schiessling T.', 'Schoorel T.', 'Schranz W.', 'Schuettler P.',\n",
       "       'Schuettler R.', 'Schukin Y.', 'Schwank E.', 'Schwartzman D.',\n",
       "       'Sekulov J.', 'Sela D.', 'Sell M.', 'Seppi A.', 'Seppi A. ',\n",
       "       'Sergeyev I.', 'Serra F.', 'Serra F. ', 'Settergren J.',\n",
       "       'Shapovalov D.', 'Sherwood D.', 'Sidorenko A.', 'Siemerink J.',\n",
       "       'Sijsling I.', 'Silva F.F.', 'Silva J.', 'Simon G.', 'Simon G. ',\n",
       "       'Simoni A.', 'Sirianni J.', 'Skugor F.', 'Slanar M.', 'Sluiter R.',\n",
       "       'Smeets R.', 'Smith J.P.', 'Smyczek T.', 'Sock J.', 'Soderling R.',\n",
       "       'Soderlund C.', 'Soeda G.', 'Sonego L.', 'Sorensen L.', 'Sousa J.',\n",
       "       'Sousa P.', 'Souza J.', 'Spadea V.', 'Squillari F.',\n",
       "       'Srichaphan N.', 'Srichaphan P.', 'Stadler S.', 'Stafford G.',\n",
       "       'Stakhovsky S.', 'Stanoytchev O.', 'Starace P.', 'Statham J.',\n",
       "       'Stebe C-M.', 'Stebe C.M.', 'Stepanek M.', 'Stepanek R.',\n",
       "       'Stepanek R. ', 'Stoliarov A.', 'Stoltenberg J.', 'Stoppini A.',\n",
       "       'Struff J.L.', 'Sugita Y.', 'Summerer T.', 'Sun P.', 'Suzuki T.',\n",
       "       'Sweeting R.', 'Tabara M.', 'Taberner C.', 'Tahiri M.', 'Taino E.',\n",
       "       'Tarallo S.', 'Tarango J.', 'Tavares L.', 'Teixeira M.',\n",
       "       'Tenconi T.', 'Terachi T.', 'Thiem D.', 'Thomann N.',\n",
       "       'Thompson J.', 'Tiafoe F.', 'Tieleman L.', 'Tillstrom M.',\n",
       "       'Tipsarevic J.', 'Tipsarevic J. ', 'Tomic B.', 'Travaglia S.',\n",
       "       'Trinker B.', 'Troicki V.', 'Troicki V. ', 'Trujillo G.',\n",
       "       'Trungelliti M.', 'Tsitsipas S.', 'Tsonga J.W.', 'Tuksar S.',\n",
       "       'Tursunov D.', 'Uchiyama Y.', 'Udomchoke D.', 'Ulihrach B.',\n",
       "       'Ullyett K.', 'Ungur A.', 'Vacek D.', 'Vacek J.', 'Vagnozzi S.',\n",
       "       'Vahaly B.', 'Van Der Merwe I.', 'Van Lottum J.',\n",
       "       'Van der Merwe I.', 'Vanek J.', 'Vanni L.', 'Varlet J.',\n",
       "       'Vassallo-Arguello M.', 'Veic A.', 'Vemic D.', 'Ventura S.',\n",
       "       'Venus M.', 'Verdasco F.', 'Verdasco F. ', 'Verdasco M.',\n",
       "       'Verkerk M.', 'Veronelli D.', 'Vesely J.', 'Vicente F.', 'Vico U.',\n",
       "       'Vik R.', 'Viloca J.A.', 'Vinciguerra A.', 'Vinck C.', 'Viola M.',\n",
       "       'Vliegen K.', 'Voinea A.', 'Volandri F.', 'Voltchkov V.',\n",
       "       'Wang J.', 'Wang Y. Jr', 'Wang Y.T.', 'Warburg S.', 'Ward J.',\n",
       "       'Washington M.', 'Waske A.', 'Wassen R.', 'Wawrinka S.',\n",
       "       'Wawrinka S. ', 'Weiner G.', 'Weintraub A.', 'Wessels L.',\n",
       "       'Wessels P.', 'Wheaton D.', 'Whitehouse W.', 'Whittington A.',\n",
       "       'Widom T.', 'Willems R.', 'Williams R.', 'Willis M.', 'Wilson B.',\n",
       "       'Wiltschnig H.', 'Witten J.', 'Wolmarans F.', 'Woodbridge T.',\n",
       "       'Woodforde M.', 'Woodruff C.', 'Wu D.', 'Yani M.', 'Ymer E.',\n",
       "       'Ymer M.', 'Yoon Y.', 'Young D.', 'Youzhny A.', 'Youzhny M.',\n",
       "       'Youzhny M. ', 'Zabaleta M.', 'Zampieri C.', 'Zeballos H.',\n",
       "       'Zekic M.', 'Zemlja G.', 'Zeng S.X.', 'Zhang Z.', 'Zhang Ze',\n",
       "       'Zhang Zh.', 'Zhu B.Q.', 'Zib T.', 'Zimonjic N.', 'Zopp J.',\n",
       "       'Zovko L.', 'Zverev A.', 'Zverev M.', 'de Chaunac S.',\n",
       "       'de Voest R.', 'di Mauro A.', 'di Pasquale A.', 'van Gemerden M.',\n",
       "       'van Lottum J.', 'van Scheppingen D.'], dtype=object)"
      ]
     },
     "execution_count": 59,
     "metadata": {},
     "output_type": "execute_result"
    }
   ],
   "source": [
    "# Variable 'Winner'\n",
    "df.Winner.sort_values().unique()"
   ]
  },
  {
   "cell_type": "markdown",
   "metadata": {
    "id": "9156922e"
   },
   "source": [
    "##### There are duplicates for the following reasons:\n",
    "\n",
    "- Spaces before and after some names. Ex: \"Federer\". Solution: Remove spaces\n",
    "- Forgotten abbreviation points. Ex: 'Marin J.A', 'Marin J.A.'. Solution: Add the points\n",
    "- Dashes forgotten on compound names. Ex: 'Carreno-Busta P.'. Solution: Add the dashes\n",
    "\n",
    "\n",
    "Let us apply to this column of functions which correct these errors."
   ]
  },
  {
   "cell_type": "code",
   "execution_count": 60,
   "metadata": {
    "id": "702fb5e4"
   },
   "outputs": [],
   "source": [
    "def remove_space(nom):\n",
    "    if type(nom) == str:\n",
    "        resultat = nom\n",
    "        if nom[0] == ' ':\n",
    "            resultat = nom[1:]\n",
    "        if resultat[-1] == ' ':\n",
    "            resultat = resultat[:-1]\n",
    "        return resultat\n",
    "    return nom\n",
    "\n",
    "def add_mark(nom):\n",
    "    if type(nom) == str:\n",
    "        if nom[-1] != '.' and nom != np.nan:\n",
    "            return nom + '.'\n",
    "        return nom\n",
    "    return nom\n",
    "\n",
    "def add_dash(nom):\n",
    "    if type(nom) == str:\n",
    "        compteur = 0\n",
    "        indice = 0\n",
    "        for i,j in enumerate(reversed(nom)):\n",
    "            if j == ' ':\n",
    "                compteur += 1\n",
    "                indice = i\n",
    "        if compteur == 2:\n",
    "            return nom[:indice-1] + '-' + nom[indice:]\n",
    "    return nom"
   ]
  },
  {
   "cell_type": "code",
   "execution_count": 61,
   "metadata": {
    "id": "0ff7a2d4"
   },
   "outputs": [],
   "source": [
    "df[['Winner', 'Loser']] = df.apply({'Winner' : remove_space, 'Loser' : remove_space})\n",
    "df[['Winner', 'Loser']] = df.apply({'Winner' : add_dash, 'Loser' : add_dash})\n",
    "df[['Winner', 'Loser']] = df.apply({'Winner' : add_mark, 'Loser' : add_mark})"
   ]
  },
  {
   "cell_type": "code",
   "execution_count": 62,
   "metadata": {
    "colab": {
     "base_uri": "https://localhost:8080/",
     "height": 441
    },
    "id": "2d907884",
    "outputId": "b357014f-d01e-46ec-faa8-3d0632ba0317"
   },
   "outputs": [
    {
     "data": {
      "text/plain": [
       "array([ 1.   ,  1.007,  1.008, ..., 41.   , 46.   ,    nan])"
      ]
     },
     "metadata": {},
     "output_type": "display_data"
    },
    {
     "data": {
      "text/html": [
       "<div>\n",
       "<style scoped>\n",
       "    .dataframe tbody tr th:only-of-type {\n",
       "        vertical-align: middle;\n",
       "    }\n",
       "\n",
       "    .dataframe tbody tr th {\n",
       "        vertical-align: top;\n",
       "    }\n",
       "\n",
       "    .dataframe thead th {\n",
       "        text-align: right;\n",
       "    }\n",
       "</style>\n",
       "<table border=\"1\" class=\"dataframe\">\n",
       "  <thead>\n",
       "    <tr style=\"text-align: right;\">\n",
       "      <th></th>\n",
       "      <th>Loser</th>\n",
       "      <th>WRank</th>\n",
       "      <th>LRank</th>\n",
       "      <th>Wsets</th>\n",
       "      <th>Lsets</th>\n",
       "      <th>Comment</th>\n",
       "      <th>PSW</th>\n",
       "      <th>PSL</th>\n",
       "      <th>B365W</th>\n",
       "      <th>B365L</th>\n",
       "      <th>elo_winner</th>\n",
       "      <th>elo_loser</th>\n",
       "      <th>proba_elo</th>\n",
       "    </tr>\n",
       "  </thead>\n",
       "  <tbody>\n",
       "    <tr>\n",
       "      <th>8678</th>\n",
       "      <td>Kiefer N.</td>\n",
       "      <td>246</td>\n",
       "      <td>58</td>\n",
       "      <td>2.0</td>\n",
       "      <td>0.0</td>\n",
       "      <td>Completed</td>\n",
       "      <td>2.210</td>\n",
       "      <td>1.719</td>\n",
       "      <td>2.200</td>\n",
       "      <td>1.615</td>\n",
       "      <td>1486.195239</td>\n",
       "      <td>1618.182210</td>\n",
       "      <td>0.318694</td>\n",
       "    </tr>\n",
       "    <tr>\n",
       "      <th>8679</th>\n",
       "      <td>Schuettler R.</td>\n",
       "      <td>43</td>\n",
       "      <td>6</td>\n",
       "      <td>2.0</td>\n",
       "      <td>0.0</td>\n",
       "      <td>Completed</td>\n",
       "      <td>3.250</td>\n",
       "      <td>1.385</td>\n",
       "      <td>2.875</td>\n",
       "      <td>1.364</td>\n",
       "      <td>1615.057648</td>\n",
       "      <td>1820.759485</td>\n",
       "      <td>0.234313</td>\n",
       "    </tr>\n",
       "    <tr>\n",
       "      <th>8680</th>\n",
       "      <td>Carraz G.</td>\n",
       "      <td>39</td>\n",
       "      <td>67</td>\n",
       "      <td>2.0</td>\n",
       "      <td>1.0</td>\n",
       "      <td>Completed</td>\n",
       "      <td>1.746</td>\n",
       "      <td>2.180</td>\n",
       "      <td>1.571</td>\n",
       "      <td>2.250</td>\n",
       "      <td>1654.468551</td>\n",
       "      <td>1588.330984</td>\n",
       "      <td>0.594046</td>\n",
       "    </tr>\n",
       "    <tr>\n",
       "      <th>8682</th>\n",
       "      <td>Pless K.</td>\n",
       "      <td>97</td>\n",
       "      <td>440</td>\n",
       "      <td>2.0</td>\n",
       "      <td>0.0</td>\n",
       "      <td>Completed</td>\n",
       "      <td>1.562</td>\n",
       "      <td>2.580</td>\n",
       "      <td>1.571</td>\n",
       "      <td>2.250</td>\n",
       "      <td>1533.308961</td>\n",
       "      <td>1473.299803</td>\n",
       "      <td>0.585511</td>\n",
       "    </tr>\n",
       "    <tr>\n",
       "      <th>8683</th>\n",
       "      <td>Portas A.</td>\n",
       "      <td>111</td>\n",
       "      <td>85</td>\n",
       "      <td>2.0</td>\n",
       "      <td>0.0</td>\n",
       "      <td>Completed</td>\n",
       "      <td>1.641</td>\n",
       "      <td>2.360</td>\n",
       "      <td>1.570</td>\n",
       "      <td>2.250</td>\n",
       "      <td>1401.283125</td>\n",
       "      <td>1418.621881</td>\n",
       "      <td>0.475068</td>\n",
       "    </tr>\n",
       "    <tr>\n",
       "      <th>8684</th>\n",
       "      <td>Enqvist T.</td>\n",
       "      <td>52</td>\n",
       "      <td>96</td>\n",
       "      <td>2.0</td>\n",
       "      <td>1.0</td>\n",
       "      <td>Completed</td>\n",
       "      <td>2.060</td>\n",
       "      <td>1.820</td>\n",
       "      <td>2.100</td>\n",
       "      <td>1.667</td>\n",
       "      <td>1584.479208</td>\n",
       "      <td>1569.027967</td>\n",
       "      <td>0.522221</td>\n",
       "    </tr>\n",
       "    <tr>\n",
       "      <th>8685</th>\n",
       "      <td>Blanco G.</td>\n",
       "      <td>92</td>\n",
       "      <td>99</td>\n",
       "      <td>2.0</td>\n",
       "      <td>0.0</td>\n",
       "      <td>Completed</td>\n",
       "      <td>1.455</td>\n",
       "      <td>2.900</td>\n",
       "      <td>1.444</td>\n",
       "      <td>2.625</td>\n",
       "      <td>1452.260713</td>\n",
       "      <td>1493.478855</td>\n",
       "      <td>0.440959</td>\n",
       "    </tr>\n",
       "    <tr>\n",
       "      <th>8686</th>\n",
       "      <td>Ramirez-Hidalgo R.</td>\n",
       "      <td>88</td>\n",
       "      <td>80</td>\n",
       "      <td>2.0</td>\n",
       "      <td>0.0</td>\n",
       "      <td>Completed</td>\n",
       "      <td>1.463</td>\n",
       "      <td>2.910</td>\n",
       "      <td>1.500</td>\n",
       "      <td>2.500</td>\n",
       "      <td>1536.771336</td>\n",
       "      <td>1433.117749</td>\n",
       "      <td>0.644896</td>\n",
       "    </tr>\n",
       "    <tr>\n",
       "      <th>8688</th>\n",
       "      <td>Verdasco F.</td>\n",
       "      <td>71</td>\n",
       "      <td>109</td>\n",
       "      <td>2.0</td>\n",
       "      <td>1.0</td>\n",
       "      <td>Completed</td>\n",
       "      <td>1.885</td>\n",
       "      <td>1.971</td>\n",
       "      <td>1.727</td>\n",
       "      <td>2.000</td>\n",
       "      <td>1555.497316</td>\n",
       "      <td>1496.242628</td>\n",
       "      <td>0.584457</td>\n",
       "    </tr>\n",
       "    <tr>\n",
       "      <th>8689</th>\n",
       "      <td>Popp A.</td>\n",
       "      <td>78</td>\n",
       "      <td>90</td>\n",
       "      <td>2.0</td>\n",
       "      <td>1.0</td>\n",
       "      <td>Completed</td>\n",
       "      <td>1.820</td>\n",
       "      <td>2.060</td>\n",
       "      <td>1.727</td>\n",
       "      <td>2.000</td>\n",
       "      <td>1482.880405</td>\n",
       "      <td>1526.843026</td>\n",
       "      <td>0.437068</td>\n",
       "    </tr>\n",
       "    <tr>\n",
       "      <th>8690</th>\n",
       "      <td>Sanchez D.</td>\n",
       "      <td>15</td>\n",
       "      <td>50</td>\n",
       "      <td>2.0</td>\n",
       "      <td>0.0</td>\n",
       "      <td>Completed</td>\n",
       "      <td>1.131</td>\n",
       "      <td>6.850</td>\n",
       "      <td>1.083</td>\n",
       "      <td>7.000</td>\n",
       "      <td>1825.757862</td>\n",
       "      <td>1516.098846</td>\n",
       "      <td>0.856010</td>\n",
       "    </tr>\n",
       "    <tr>\n",
       "      <th>8691</th>\n",
       "      <td>Mutis O.</td>\n",
       "      <td>107</td>\n",
       "      <td>104</td>\n",
       "      <td>2.0</td>\n",
       "      <td>0.0</td>\n",
       "      <td>Completed</td>\n",
       "      <td>1.714</td>\n",
       "      <td>2.240</td>\n",
       "      <td>1.727</td>\n",
       "      <td>2.000</td>\n",
       "      <td>1486.120450</td>\n",
       "      <td>1519.694171</td>\n",
       "      <td>0.451833</td>\n",
       "    </tr>\n",
       "    <tr>\n",
       "      <th>8692</th>\n",
       "      <td>Melzer J.</td>\n",
       "      <td>29</td>\n",
       "      <td>79</td>\n",
       "      <td>2.0</td>\n",
       "      <td>0.0</td>\n",
       "      <td>Completed</td>\n",
       "      <td>1.465</td>\n",
       "      <td>2.900</td>\n",
       "      <td>NaN</td>\n",
       "      <td>NaN</td>\n",
       "      <td>1608.634937</td>\n",
       "      <td>1478.351303</td>\n",
       "      <td>0.679173</td>\n",
       "    </tr>\n",
       "    <tr>\n",
       "      <th>8693</th>\n",
       "      <td>Horna L.</td>\n",
       "      <td>33</td>\n",
       "      <td>64</td>\n",
       "      <td>2.0</td>\n",
       "      <td>0.0</td>\n",
       "      <td>Completed</td>\n",
       "      <td>1.241</td>\n",
       "      <td>4.550</td>\n",
       "      <td>1.160</td>\n",
       "      <td>4.500</td>\n",
       "      <td>1756.126614</td>\n",
       "      <td>1579.509707</td>\n",
       "      <td>0.734327</td>\n",
       "    </tr>\n",
       "    <tr>\n",
       "      <th>8694</th>\n",
       "      <td>Ancic M.</td>\n",
       "      <td>54</td>\n",
       "      <td>74</td>\n",
       "      <td>2.0</td>\n",
       "      <td>1.0</td>\n",
       "      <td>Completed</td>\n",
       "      <td>2.170</td>\n",
       "      <td>1.752</td>\n",
       "      <td>2.000</td>\n",
       "      <td>1.720</td>\n",
       "      <td>1536.873593</td>\n",
       "      <td>1512.328047</td>\n",
       "      <td>0.535265</td>\n",
       "    </tr>\n",
       "    <tr>\n",
       "      <th>8695</th>\n",
       "      <td>Vahaly B.</td>\n",
       "      <td>66</td>\n",
       "      <td>75</td>\n",
       "      <td>2.0</td>\n",
       "      <td>0.0</td>\n",
       "      <td>Completed</td>\n",
       "      <td>1.730</td>\n",
       "      <td>2.210</td>\n",
       "      <td>1.830</td>\n",
       "      <td>1.830</td>\n",
       "      <td>1440.645322</td>\n",
       "      <td>1437.517013</td>\n",
       "      <td>0.504502</td>\n",
       "    </tr>\n",
       "    <tr>\n",
       "      <th>8696</th>\n",
       "      <td>Moodie W.</td>\n",
       "      <td>36</td>\n",
       "      <td>82</td>\n",
       "      <td>2.0</td>\n",
       "      <td>1.0</td>\n",
       "      <td>Completed</td>\n",
       "      <td>1.459</td>\n",
       "      <td>2.930</td>\n",
       "      <td>1.400</td>\n",
       "      <td>2.750</td>\n",
       "      <td>1607.464175</td>\n",
       "      <td>1475.619049</td>\n",
       "      <td>0.681128</td>\n",
       "    </tr>\n",
       "    <tr>\n",
       "      <th>8697</th>\n",
       "      <td>Rochus C.</td>\n",
       "      <td>0</td>\n",
       "      <td>84</td>\n",
       "      <td>2.0</td>\n",
       "      <td>0.0</td>\n",
       "      <td>Completed</td>\n",
       "      <td>1.758</td>\n",
       "      <td>2.160</td>\n",
       "      <td>NaN</td>\n",
       "      <td>NaN</td>\n",
       "      <td>1571.716453</td>\n",
       "      <td>1444.073719</td>\n",
       "      <td>0.675851</td>\n",
       "    </tr>\n",
       "    <tr>\n",
       "      <th>8698</th>\n",
       "      <td>Karlovic I.</td>\n",
       "      <td>117</td>\n",
       "      <td>73</td>\n",
       "      <td>2.0</td>\n",
       "      <td>1.0</td>\n",
       "      <td>Completed</td>\n",
       "      <td>1.862</td>\n",
       "      <td>2.000</td>\n",
       "      <td>1.800</td>\n",
       "      <td>1.909</td>\n",
       "      <td>1487.438669</td>\n",
       "      <td>1537.704762</td>\n",
       "      <td>0.428162</td>\n",
       "    </tr>\n",
       "    <tr>\n",
       "      <th>8699</th>\n",
       "      <td>Montanes A.</td>\n",
       "      <td>11</td>\n",
       "      <td>81</td>\n",
       "      <td>2.0</td>\n",
       "      <td>0.0</td>\n",
       "      <td>Completed</td>\n",
       "      <td>1.154</td>\n",
       "      <td>5.850</td>\n",
       "      <td>1.143</td>\n",
       "      <td>5.000</td>\n",
       "      <td>1714.418317</td>\n",
       "      <td>1440.082630</td>\n",
       "      <td>0.829092</td>\n",
       "    </tr>\n",
       "    <tr>\n",
       "      <th>8700</th>\n",
       "      <td>Udomchoke D.</td>\n",
       "      <td>18</td>\n",
       "      <td>162</td>\n",
       "      <td>2.0</td>\n",
       "      <td>0.0</td>\n",
       "      <td>Completed</td>\n",
       "      <td>1.133</td>\n",
       "      <td>6.500</td>\n",
       "      <td>1.100</td>\n",
       "      <td>6.500</td>\n",
       "      <td>1680.147270</td>\n",
       "      <td>1471.650860</td>\n",
       "      <td>0.768561</td>\n",
       "    </tr>\n",
       "    <tr>\n",
       "      <th>8702</th>\n",
       "      <td>Okun N.</td>\n",
       "      <td>7</td>\n",
       "      <td>168</td>\n",
       "      <td>2.0</td>\n",
       "      <td>0.0</td>\n",
       "      <td>Completed</td>\n",
       "      <td>1.148</td>\n",
       "      <td>6.000</td>\n",
       "      <td>1.143</td>\n",
       "      <td>5.000</td>\n",
       "      <td>1778.074395</td>\n",
       "      <td>1442.912337</td>\n",
       "      <td>0.873177</td>\n",
       "    </tr>\n",
       "    <tr>\n",
       "      <th>8703</th>\n",
       "      <td>Gambill J.M.</td>\n",
       "      <td>60</td>\n",
       "      <td>51</td>\n",
       "      <td>2.0</td>\n",
       "      <td>1.0</td>\n",
       "      <td>Completed</td>\n",
       "      <td>1.952</td>\n",
       "      <td>1.901</td>\n",
       "      <td>2.000</td>\n",
       "      <td>1.727</td>\n",
       "      <td>1574.448782</td>\n",
       "      <td>1529.033083</td>\n",
       "      <td>0.564989</td>\n",
       "    </tr>\n",
       "    <tr>\n",
       "      <th>8704</th>\n",
       "      <td>Mathieu P.H.</td>\n",
       "      <td>108</td>\n",
       "      <td>83</td>\n",
       "      <td>1.0</td>\n",
       "      <td>0.0</td>\n",
       "      <td>Retired</td>\n",
       "      <td>2.300</td>\n",
       "      <td>1.676</td>\n",
       "      <td>2.200</td>\n",
       "      <td>1.615</td>\n",
       "      <td>1502.716542</td>\n",
       "      <td>1602.655610</td>\n",
       "      <td>0.360016</td>\n",
       "    </tr>\n",
       "    <tr>\n",
       "      <th>8705</th>\n",
       "      <td>Tursunov D.</td>\n",
       "      <td>21</td>\n",
       "      <td>98</td>\n",
       "      <td>2.0</td>\n",
       "      <td>1.0</td>\n",
       "      <td>Completed</td>\n",
       "      <td>1.529</td>\n",
       "      <td>2.690</td>\n",
       "      <td>1.400</td>\n",
       "      <td>2.750</td>\n",
       "      <td>1645.234147</td>\n",
       "      <td>1506.003201</td>\n",
       "      <td>0.690290</td>\n",
       "    </tr>\n",
       "    <tr>\n",
       "      <th>8706</th>\n",
       "      <td>Nadal R.</td>\n",
       "      <td>102</td>\n",
       "      <td>49</td>\n",
       "      <td>2.0</td>\n",
       "      <td>0.0</td>\n",
       "      <td>Completed</td>\n",
       "      <td>2.900</td>\n",
       "      <td>1.465</td>\n",
       "      <td>2.750</td>\n",
       "      <td>1.400</td>\n",
       "      <td>1477.371091</td>\n",
       "      <td>1559.144668</td>\n",
       "      <td>0.384444</td>\n",
       "    </tr>\n",
       "    <tr>\n",
       "      <th>8707</th>\n",
       "      <td>Voltchkov V.</td>\n",
       "      <td>56</td>\n",
       "      <td>120</td>\n",
       "      <td>0.0</td>\n",
       "      <td>0.0</td>\n",
       "      <td>Retired</td>\n",
       "      <td>1.855</td>\n",
       "      <td>2.010</td>\n",
       "      <td>1.833</td>\n",
       "      <td>1.833</td>\n",
       "      <td>1498.980200</td>\n",
       "      <td>1514.278321</td>\n",
       "      <td>0.477998</td>\n",
       "    </tr>\n",
       "    <tr>\n",
       "      <th>8708</th>\n",
       "      <td>Stepanek R.</td>\n",
       "      <td>30</td>\n",
       "      <td>46</td>\n",
       "      <td>1.0</td>\n",
       "      <td>0.0</td>\n",
       "      <td>Retired</td>\n",
       "      <td>1.885</td>\n",
       "      <td>1.971</td>\n",
       "      <td>1.667</td>\n",
       "      <td>2.100</td>\n",
       "      <td>1693.162591</td>\n",
       "      <td>1576.687129</td>\n",
       "      <td>0.661612</td>\n",
       "    </tr>\n",
       "    <tr>\n",
       "      <th>8709</th>\n",
       "      <td>Philippoussis M.</td>\n",
       "      <td>53</td>\n",
       "      <td>9</td>\n",
       "      <td>2.0</td>\n",
       "      <td>1.0</td>\n",
       "      <td>Completed</td>\n",
       "      <td>3.250</td>\n",
       "      <td>1.392</td>\n",
       "      <td>2.875</td>\n",
       "      <td>1.364</td>\n",
       "      <td>1514.136215</td>\n",
       "      <td>1729.260267</td>\n",
       "      <td>0.224723</td>\n",
       "    </tr>\n",
       "    <tr>\n",
       "      <th>8710</th>\n",
       "      <td>Davydenko N.</td>\n",
       "      <td>1</td>\n",
       "      <td>44</td>\n",
       "      <td>2.0</td>\n",
       "      <td>0.0</td>\n",
       "      <td>Completed</td>\n",
       "      <td>1.143</td>\n",
       "      <td>6.250</td>\n",
       "      <td>1.063</td>\n",
       "      <td>8.000</td>\n",
       "      <td>1933.654008</td>\n",
       "      <td>1488.519786</td>\n",
       "      <td>0.928402</td>\n",
       "    </tr>\n",
       "    <tr>\n",
       "      <th>...</th>\n",
       "      <td>...</td>\n",
       "      <td>...</td>\n",
       "      <td>...</td>\n",
       "      <td>...</td>\n",
       "      <td>...</td>\n",
       "      <td>...</td>\n",
       "      <td>...</td>\n",
       "      <td>...</td>\n",
       "      <td>...</td>\n",
       "      <td>...</td>\n",
       "      <td>...</td>\n",
       "      <td>...</td>\n",
       "      <td>...</td>\n",
       "    </tr>\n",
       "    <tr>\n",
       "      <th>44678</th>\n",
       "      <td>Pella G.</td>\n",
       "      <td>73</td>\n",
       "      <td>57</td>\n",
       "      <td>2.0</td>\n",
       "      <td>1.0</td>\n",
       "      <td>Completed</td>\n",
       "      <td>2.660</td>\n",
       "      <td>1.540</td>\n",
       "      <td>2.500</td>\n",
       "      <td>1.500</td>\n",
       "      <td>1548.897986</td>\n",
       "      <td>1653.280325</td>\n",
       "      <td>0.354144</td>\n",
       "    </tr>\n",
       "    <tr>\n",
       "      <th>44679</th>\n",
       "      <td>Clezar G.</td>\n",
       "      <td>22</td>\n",
       "      <td>225</td>\n",
       "      <td>2.0</td>\n",
       "      <td>0.0</td>\n",
       "      <td>Completed</td>\n",
       "      <td>1.270</td>\n",
       "      <td>4.260</td>\n",
       "      <td>1.280</td>\n",
       "      <td>3.500</td>\n",
       "      <td>1621.513858</td>\n",
       "      <td>1426.781353</td>\n",
       "      <td>0.754169</td>\n",
       "    </tr>\n",
       "    <tr>\n",
       "      <th>44680</th>\n",
       "      <td>Monfils G.</td>\n",
       "      <td>69</td>\n",
       "      <td>35</td>\n",
       "      <td>2.0</td>\n",
       "      <td>1.0</td>\n",
       "      <td>Completed</td>\n",
       "      <td>3.310</td>\n",
       "      <td>1.380</td>\n",
       "      <td>3.250</td>\n",
       "      <td>1.330</td>\n",
       "      <td>1584.894729</td>\n",
       "      <td>1832.558139</td>\n",
       "      <td>0.193775</td>\n",
       "    </tr>\n",
       "    <tr>\n",
       "      <th>44681</th>\n",
       "      <td>Donskoy E.</td>\n",
       "      <td>34</td>\n",
       "      <td>74</td>\n",
       "      <td>2.0</td>\n",
       "      <td>0.0</td>\n",
       "      <td>Completed</td>\n",
       "      <td>1.640</td>\n",
       "      <td>2.450</td>\n",
       "      <td>1.610</td>\n",
       "      <td>2.300</td>\n",
       "      <td>1627.224617</td>\n",
       "      <td>1528.448309</td>\n",
       "      <td>0.638441</td>\n",
       "    </tr>\n",
       "    <tr>\n",
       "      <th>44682</th>\n",
       "      <td>Coric B.</td>\n",
       "      <td>23</td>\n",
       "      <td>50</td>\n",
       "      <td>2.0</td>\n",
       "      <td>0.0</td>\n",
       "      <td>Completed</td>\n",
       "      <td>1.670</td>\n",
       "      <td>2.380</td>\n",
       "      <td>1.530</td>\n",
       "      <td>2.500</td>\n",
       "      <td>1819.698366</td>\n",
       "      <td>1694.208420</td>\n",
       "      <td>0.673130</td>\n",
       "    </tr>\n",
       "    <tr>\n",
       "      <th>44683</th>\n",
       "      <td>Kokkinakis T.</td>\n",
       "      <td>38</td>\n",
       "      <td>199</td>\n",
       "      <td>2.0</td>\n",
       "      <td>0.0</td>\n",
       "      <td>Completed</td>\n",
       "      <td>1.940</td>\n",
       "      <td>1.960</td>\n",
       "      <td>1.830</td>\n",
       "      <td>1.830</td>\n",
       "      <td>1708.094723</td>\n",
       "      <td>1587.551808</td>\n",
       "      <td>0.666834</td>\n",
       "    </tr>\n",
       "    <tr>\n",
       "      <th>44684</th>\n",
       "      <td>Sugita Y.</td>\n",
       "      <td>15</td>\n",
       "      <td>42</td>\n",
       "      <td>2.0</td>\n",
       "      <td>1.0</td>\n",
       "      <td>Completed</td>\n",
       "      <td>1.470</td>\n",
       "      <td>2.950</td>\n",
       "      <td>1.440</td>\n",
       "      <td>2.750</td>\n",
       "      <td>1826.056775</td>\n",
       "      <td>1651.452705</td>\n",
       "      <td>0.732060</td>\n",
       "    </tr>\n",
       "    <tr>\n",
       "      <th>44685</th>\n",
       "      <td>Tsitsipas S.</td>\n",
       "      <td>117</td>\n",
       "      <td>82</td>\n",
       "      <td>2.0</td>\n",
       "      <td>1.0</td>\n",
       "      <td>Completed</td>\n",
       "      <td>2.650</td>\n",
       "      <td>1.560</td>\n",
       "      <td>2.500</td>\n",
       "      <td>1.530</td>\n",
       "      <td>1549.836638</td>\n",
       "      <td>1556.179030</td>\n",
       "      <td>0.490874</td>\n",
       "    </tr>\n",
       "    <tr>\n",
       "      <th>44686</th>\n",
       "      <td>Harrison R.</td>\n",
       "      <td>5</td>\n",
       "      <td>60</td>\n",
       "      <td>2.0</td>\n",
       "      <td>0.0</td>\n",
       "      <td>Completed</td>\n",
       "      <td>1.320</td>\n",
       "      <td>3.790</td>\n",
       "      <td>1.280</td>\n",
       "      <td>3.750</td>\n",
       "      <td>1872.573339</td>\n",
       "      <td>1723.305319</td>\n",
       "      <td>0.702505</td>\n",
       "    </tr>\n",
       "    <tr>\n",
       "      <th>44687</th>\n",
       "      <td>Shapovalov D.</td>\n",
       "      <td>6</td>\n",
       "      <td>45</td>\n",
       "      <td>2.0</td>\n",
       "      <td>0.0</td>\n",
       "      <td>Completed</td>\n",
       "      <td>1.750</td>\n",
       "      <td>2.210</td>\n",
       "      <td>1.720</td>\n",
       "      <td>2.000</td>\n",
       "      <td>1829.304358</td>\n",
       "      <td>1662.783318</td>\n",
       "      <td>0.722836</td>\n",
       "    </tr>\n",
       "    <tr>\n",
       "      <th>44688</th>\n",
       "      <td>Gojowczyk P.</td>\n",
       "      <td>5</td>\n",
       "      <td>51</td>\n",
       "      <td>2.0</td>\n",
       "      <td>0.0</td>\n",
       "      <td>Completed</td>\n",
       "      <td>1.280</td>\n",
       "      <td>4.060</td>\n",
       "      <td>1.280</td>\n",
       "      <td>3.500</td>\n",
       "      <td>1882.093175</td>\n",
       "      <td>1700.237992</td>\n",
       "      <td>0.740168</td>\n",
       "    </tr>\n",
       "    <tr>\n",
       "      <th>44689</th>\n",
       "      <td>Lopez F.</td>\n",
       "      <td>59</td>\n",
       "      <td>38</td>\n",
       "      <td>2.0</td>\n",
       "      <td>0.0</td>\n",
       "      <td>Completed</td>\n",
       "      <td>1.930</td>\n",
       "      <td>2.000</td>\n",
       "      <td>1.800</td>\n",
       "      <td>2.000</td>\n",
       "      <td>1627.875258</td>\n",
       "      <td>1718.756031</td>\n",
       "      <td>0.372116</td>\n",
       "    </tr>\n",
       "    <tr>\n",
       "      <th>44690</th>\n",
       "      <td>Ferrer D.</td>\n",
       "      <td>9</td>\n",
       "      <td>39</td>\n",
       "      <td>2.0</td>\n",
       "      <td>1.0</td>\n",
       "      <td>Completed</td>\n",
       "      <td>1.330</td>\n",
       "      <td>3.700</td>\n",
       "      <td>1.330</td>\n",
       "      <td>3.250</td>\n",
       "      <td>1933.959487</td>\n",
       "      <td>1745.678333</td>\n",
       "      <td>0.747219</td>\n",
       "    </tr>\n",
       "    <tr>\n",
       "      <th>44691</th>\n",
       "      <td>Mannarino A.</td>\n",
       "      <td>8</td>\n",
       "      <td>24</td>\n",
       "      <td>2.0</td>\n",
       "      <td>0.0</td>\n",
       "      <td>Completed</td>\n",
       "      <td>1.390</td>\n",
       "      <td>3.280</td>\n",
       "      <td>1.360</td>\n",
       "      <td>3.000</td>\n",
       "      <td>1815.693937</td>\n",
       "      <td>1759.923257</td>\n",
       "      <td>0.579578</td>\n",
       "    </tr>\n",
       "    <tr>\n",
       "      <th>44692</th>\n",
       "      <td>Thiem D.</td>\n",
       "      <td>9</td>\n",
       "      <td>6</td>\n",
       "      <td>2.0</td>\n",
       "      <td>0.0</td>\n",
       "      <td>Completed</td>\n",
       "      <td>1.770</td>\n",
       "      <td>2.200</td>\n",
       "      <td>1.800</td>\n",
       "      <td>2.000</td>\n",
       "      <td>1942.048487</td>\n",
       "      <td>1838.173611</td>\n",
       "      <td>0.645188</td>\n",
       "    </tr>\n",
       "    <tr>\n",
       "      <th>44693</th>\n",
       "      <td>Chung H.</td>\n",
       "      <td>8</td>\n",
       "      <td>29</td>\n",
       "      <td>2.0</td>\n",
       "      <td>0.0</td>\n",
       "      <td>Completed</td>\n",
       "      <td>1.740</td>\n",
       "      <td>2.260</td>\n",
       "      <td>1.720</td>\n",
       "      <td>2.100</td>\n",
       "      <td>1829.147436</td>\n",
       "      <td>1794.933822</td>\n",
       "      <td>0.549079</td>\n",
       "    </tr>\n",
       "    <tr>\n",
       "      <th>44694</th>\n",
       "      <td>Jaziri M.</td>\n",
       "      <td>23</td>\n",
       "      <td>117</td>\n",
       "      <td>2.0</td>\n",
       "      <td>0.0</td>\n",
       "      <td>Completed</td>\n",
       "      <td>1.200</td>\n",
       "      <td>5.370</td>\n",
       "      <td>1.200</td>\n",
       "      <td>4.500</td>\n",
       "      <td>1830.158190</td>\n",
       "      <td>1566.128684</td>\n",
       "      <td>0.820520</td>\n",
       "    </tr>\n",
       "    <tr>\n",
       "      <th>44695</th>\n",
       "      <td>Garcia-Lopez G.</td>\n",
       "      <td>20</td>\n",
       "      <td>67</td>\n",
       "      <td>2.0</td>\n",
       "      <td>0.0</td>\n",
       "      <td>Completed</td>\n",
       "      <td>1.480</td>\n",
       "      <td>2.920</td>\n",
       "      <td>1.440</td>\n",
       "      <td>2.750</td>\n",
       "      <td>1798.021195</td>\n",
       "      <td>1559.550154</td>\n",
       "      <td>0.797824</td>\n",
       "    </tr>\n",
       "    <tr>\n",
       "      <th>44696</th>\n",
       "      <td>Kicker N.</td>\n",
       "      <td>106</td>\n",
       "      <td>96</td>\n",
       "      <td>2.0</td>\n",
       "      <td>0.0</td>\n",
       "      <td>Completed</td>\n",
       "      <td>1.840</td>\n",
       "      <td>2.080</td>\n",
       "      <td>1.830</td>\n",
       "      <td>1.830</td>\n",
       "      <td>1428.623173</td>\n",
       "      <td>1536.276162</td>\n",
       "      <td>0.349850</td>\n",
       "    </tr>\n",
       "    <tr>\n",
       "      <th>44697</th>\n",
       "      <td>Ramos-Vinolas A.</td>\n",
       "      <td>73</td>\n",
       "      <td>22</td>\n",
       "      <td>2.0</td>\n",
       "      <td>1.0</td>\n",
       "      <td>Completed</td>\n",
       "      <td>2.300</td>\n",
       "      <td>1.710</td>\n",
       "      <td>2.370</td>\n",
       "      <td>1.570</td>\n",
       "      <td>1569.565379</td>\n",
       "      <td>1629.380461</td>\n",
       "      <td>0.414760</td>\n",
       "    </tr>\n",
       "    <tr>\n",
       "      <th>44698</th>\n",
       "      <td>Krajinovic F.</td>\n",
       "      <td>15</td>\n",
       "      <td>34</td>\n",
       "      <td>2.0</td>\n",
       "      <td>1.0</td>\n",
       "      <td>Completed</td>\n",
       "      <td>1.660</td>\n",
       "      <td>2.400</td>\n",
       "      <td>1.570</td>\n",
       "      <td>2.370</td>\n",
       "      <td>1834.630840</td>\n",
       "      <td>1638.794519</td>\n",
       "      <td>0.755345</td>\n",
       "    </tr>\n",
       "    <tr>\n",
       "      <th>44699</th>\n",
       "      <td>Dutra S-lva R.</td>\n",
       "      <td>69</td>\n",
       "      <td>106</td>\n",
       "      <td>2.0</td>\n",
       "      <td>1.0</td>\n",
       "      <td>Completed</td>\n",
       "      <td>1.880</td>\n",
       "      <td>2.050</td>\n",
       "      <td>1.800</td>\n",
       "      <td>2.000</td>\n",
       "      <td>1610.693929</td>\n",
       "      <td>1449.427986</td>\n",
       "      <td>0.716735</td>\n",
       "    </tr>\n",
       "    <tr>\n",
       "      <th>44700</th>\n",
       "      <td>Mayer L.</td>\n",
       "      <td>31</td>\n",
       "      <td>49</td>\n",
       "      <td>2.0</td>\n",
       "      <td>1.0</td>\n",
       "      <td>Completed</td>\n",
       "      <td>1.810</td>\n",
       "      <td>2.150</td>\n",
       "      <td>1.720</td>\n",
       "      <td>2.100</td>\n",
       "      <td>1639.369372</td>\n",
       "      <td>1667.333204</td>\n",
       "      <td>0.459843</td>\n",
       "    </tr>\n",
       "    <tr>\n",
       "      <th>44701</th>\n",
       "      <td>Cuevas P.</td>\n",
       "      <td>20</td>\n",
       "      <td>31</td>\n",
       "      <td>2.0</td>\n",
       "      <td>0.0</td>\n",
       "      <td>Completed</td>\n",
       "      <td>1.750</td>\n",
       "      <td>2.240</td>\n",
       "      <td>1.660</td>\n",
       "      <td>2.200</td>\n",
       "      <td>1804.490826</td>\n",
       "      <td>1656.654380</td>\n",
       "      <td>0.700780</td>\n",
       "    </tr>\n",
       "    <tr>\n",
       "      <th>44702</th>\n",
       "      <td>Zverev A.</td>\n",
       "      <td>9</td>\n",
       "      <td>5</td>\n",
       "      <td>2.0</td>\n",
       "      <td>0.0</td>\n",
       "      <td>Completed</td>\n",
       "      <td>1.980</td>\n",
       "      <td>1.940</td>\n",
       "      <td>1.900</td>\n",
       "      <td>1.900</td>\n",
       "      <td>1953.402484</td>\n",
       "      <td>1890.407795</td>\n",
       "      <td>0.589676</td>\n",
       "    </tr>\n",
       "    <tr>\n",
       "      <th>44703</th>\n",
       "      <td>Pouille L.</td>\n",
       "      <td>23</td>\n",
       "      <td>15</td>\n",
       "      <td>2.0</td>\n",
       "      <td>0.0</td>\n",
       "      <td>Completed</td>\n",
       "      <td>1.650</td>\n",
       "      <td>2.430</td>\n",
       "      <td>1.660</td>\n",
       "      <td>2.200</td>\n",
       "      <td>1835.901543</td>\n",
       "      <td>1842.459807</td>\n",
       "      <td>0.490563</td>\n",
       "    </tr>\n",
       "    <tr>\n",
       "      <th>44704</th>\n",
       "      <td>Donaldson J.</td>\n",
       "      <td>8</td>\n",
       "      <td>59</td>\n",
       "      <td>2.0</td>\n",
       "      <td>1.0</td>\n",
       "      <td>Completed</td>\n",
       "      <td>1.340</td>\n",
       "      <td>3.630</td>\n",
       "      <td>1.300</td>\n",
       "      <td>3.500</td>\n",
       "      <td>1843.576914</td>\n",
       "      <td>1647.967561</td>\n",
       "      <td>0.755103</td>\n",
       "    </tr>\n",
       "    <tr>\n",
       "      <th>44705</th>\n",
       "      <td>Zeballos H.</td>\n",
       "      <td>73</td>\n",
       "      <td>69</td>\n",
       "      <td>2.0</td>\n",
       "      <td>1.0</td>\n",
       "      <td>Completed</td>\n",
       "      <td>1.850</td>\n",
       "      <td>2.090</td>\n",
       "      <td>1.900</td>\n",
       "      <td>1.900</td>\n",
       "      <td>1588.293069</td>\n",
       "      <td>1619.758421</td>\n",
       "      <td>0.454841</td>\n",
       "    </tr>\n",
       "    <tr>\n",
       "      <th>44706</th>\n",
       "      <td>Anderson K.</td>\n",
       "      <td>9</td>\n",
       "      <td>8</td>\n",
       "      <td>2.0</td>\n",
       "      <td>0.0</td>\n",
       "      <td>Completed</td>\n",
       "      <td>1.520</td>\n",
       "      <td>2.750</td>\n",
       "      <td>1.500</td>\n",
       "      <td>2.620</td>\n",
       "      <td>1966.532849</td>\n",
       "      <td>1851.413609</td>\n",
       "      <td>0.659862</td>\n",
       "    </tr>\n",
       "    <tr>\n",
       "      <th>44707</th>\n",
       "      <td>Jarry N.</td>\n",
       "      <td>20</td>\n",
       "      <td>73</td>\n",
       "      <td>2.0</td>\n",
       "      <td>1.0</td>\n",
       "      <td>Completed</td>\n",
       "      <td>1.380</td>\n",
       "      <td>3.380</td>\n",
       "      <td>1.360</td>\n",
       "      <td>3.250</td>\n",
       "      <td>1814.065865</td>\n",
       "      <td>1605.738153</td>\n",
       "      <td>0.768388</td>\n",
       "    </tr>\n",
       "  </tbody>\n",
       "</table>\n",
       "<p>32736 rows × 13 columns</p>\n",
       "</div>"
      ],
      "text/plain": [
       "                    Loser  WRank  LRank  Wsets  Lsets    Comment    PSW  \\\n",
       "8678            Kiefer N.    246     58    2.0    0.0  Completed  2.210   \n",
       "8679        Schuettler R.     43      6    2.0    0.0  Completed  3.250   \n",
       "8680            Carraz G.     39     67    2.0    1.0  Completed  1.746   \n",
       "8682             Pless K.     97    440    2.0    0.0  Completed  1.562   \n",
       "8683            Portas A.    111     85    2.0    0.0  Completed  1.641   \n",
       "8684           Enqvist T.     52     96    2.0    1.0  Completed  2.060   \n",
       "8685            Blanco G.     92     99    2.0    0.0  Completed  1.455   \n",
       "8686   Ramirez-Hidalgo R.     88     80    2.0    0.0  Completed  1.463   \n",
       "8688          Verdasco F.     71    109    2.0    1.0  Completed  1.885   \n",
       "8689              Popp A.     78     90    2.0    1.0  Completed  1.820   \n",
       "8690           Sanchez D.     15     50    2.0    0.0  Completed  1.131   \n",
       "8691             Mutis O.    107    104    2.0    0.0  Completed  1.714   \n",
       "8692            Melzer J.     29     79    2.0    0.0  Completed  1.465   \n",
       "8693             Horna L.     33     64    2.0    0.0  Completed  1.241   \n",
       "8694             Ancic M.     54     74    2.0    1.0  Completed  2.170   \n",
       "8695            Vahaly B.     66     75    2.0    0.0  Completed  1.730   \n",
       "8696            Moodie W.     36     82    2.0    1.0  Completed  1.459   \n",
       "8697            Rochus C.      0     84    2.0    0.0  Completed  1.758   \n",
       "8698          Karlovic I.    117     73    2.0    1.0  Completed  1.862   \n",
       "8699          Montanes A.     11     81    2.0    0.0  Completed  1.154   \n",
       "8700         Udomchoke D.     18    162    2.0    0.0  Completed  1.133   \n",
       "8702              Okun N.      7    168    2.0    0.0  Completed  1.148   \n",
       "8703         Gambill J.M.     60     51    2.0    1.0  Completed  1.952   \n",
       "8704         Mathieu P.H.    108     83    1.0    0.0    Retired  2.300   \n",
       "8705          Tursunov D.     21     98    2.0    1.0  Completed  1.529   \n",
       "8706             Nadal R.    102     49    2.0    0.0  Completed  2.900   \n",
       "8707         Voltchkov V.     56    120    0.0    0.0    Retired  1.855   \n",
       "8708          Stepanek R.     30     46    1.0    0.0    Retired  1.885   \n",
       "8709     Philippoussis M.     53      9    2.0    1.0  Completed  3.250   \n",
       "8710         Davydenko N.      1     44    2.0    0.0  Completed  1.143   \n",
       "...                   ...    ...    ...    ...    ...        ...    ...   \n",
       "44678            Pella G.     73     57    2.0    1.0  Completed  2.660   \n",
       "44679           Clezar G.     22    225    2.0    0.0  Completed  1.270   \n",
       "44680          Monfils G.     69     35    2.0    1.0  Completed  3.310   \n",
       "44681          Donskoy E.     34     74    2.0    0.0  Completed  1.640   \n",
       "44682            Coric B.     23     50    2.0    0.0  Completed  1.670   \n",
       "44683       Kokkinakis T.     38    199    2.0    0.0  Completed  1.940   \n",
       "44684           Sugita Y.     15     42    2.0    1.0  Completed  1.470   \n",
       "44685        Tsitsipas S.    117     82    2.0    1.0  Completed  2.650   \n",
       "44686         Harrison R.      5     60    2.0    0.0  Completed  1.320   \n",
       "44687       Shapovalov D.      6     45    2.0    0.0  Completed  1.750   \n",
       "44688        Gojowczyk P.      5     51    2.0    0.0  Completed  1.280   \n",
       "44689            Lopez F.     59     38    2.0    0.0  Completed  1.930   \n",
       "44690           Ferrer D.      9     39    2.0    1.0  Completed  1.330   \n",
       "44691        Mannarino A.      8     24    2.0    0.0  Completed  1.390   \n",
       "44692            Thiem D.      9      6    2.0    0.0  Completed  1.770   \n",
       "44693            Chung H.      8     29    2.0    0.0  Completed  1.740   \n",
       "44694           Jaziri M.     23    117    2.0    0.0  Completed  1.200   \n",
       "44695     Garcia-Lopez G.     20     67    2.0    0.0  Completed  1.480   \n",
       "44696           Kicker N.    106     96    2.0    0.0  Completed  1.840   \n",
       "44697    Ramos-Vinolas A.     73     22    2.0    1.0  Completed  2.300   \n",
       "44698       Krajinovic F.     15     34    2.0    1.0  Completed  1.660   \n",
       "44699      Dutra S-lva R.     69    106    2.0    1.0  Completed  1.880   \n",
       "44700            Mayer L.     31     49    2.0    1.0  Completed  1.810   \n",
       "44701           Cuevas P.     20     31    2.0    0.0  Completed  1.750   \n",
       "44702           Zverev A.      9      5    2.0    0.0  Completed  1.980   \n",
       "44703          Pouille L.     23     15    2.0    0.0  Completed  1.650   \n",
       "44704        Donaldson J.      8     59    2.0    1.0  Completed  1.340   \n",
       "44705         Zeballos H.     73     69    2.0    1.0  Completed  1.850   \n",
       "44706         Anderson K.      9      8    2.0    0.0  Completed  1.520   \n",
       "44707            Jarry N.     20     73    2.0    1.0  Completed  1.380   \n",
       "\n",
       "         PSL  B365W  B365L   elo_winner    elo_loser  proba_elo  \n",
       "8678   1.719  2.200  1.615  1486.195239  1618.182210   0.318694  \n",
       "8679   1.385  2.875  1.364  1615.057648  1820.759485   0.234313  \n",
       "8680   2.180  1.571  2.250  1654.468551  1588.330984   0.594046  \n",
       "8682   2.580  1.571  2.250  1533.308961  1473.299803   0.585511  \n",
       "8683   2.360  1.570  2.250  1401.283125  1418.621881   0.475068  \n",
       "8684   1.820  2.100  1.667  1584.479208  1569.027967   0.522221  \n",
       "8685   2.900  1.444  2.625  1452.260713  1493.478855   0.440959  \n",
       "8686   2.910  1.500  2.500  1536.771336  1433.117749   0.644896  \n",
       "8688   1.971  1.727  2.000  1555.497316  1496.242628   0.584457  \n",
       "8689   2.060  1.727  2.000  1482.880405  1526.843026   0.437068  \n",
       "8690   6.850  1.083  7.000  1825.757862  1516.098846   0.856010  \n",
       "8691   2.240  1.727  2.000  1486.120450  1519.694171   0.451833  \n",
       "8692   2.900    NaN    NaN  1608.634937  1478.351303   0.679173  \n",
       "8693   4.550  1.160  4.500  1756.126614  1579.509707   0.734327  \n",
       "8694   1.752  2.000  1.720  1536.873593  1512.328047   0.535265  \n",
       "8695   2.210  1.830  1.830  1440.645322  1437.517013   0.504502  \n",
       "8696   2.930  1.400  2.750  1607.464175  1475.619049   0.681128  \n",
       "8697   2.160    NaN    NaN  1571.716453  1444.073719   0.675851  \n",
       "8698   2.000  1.800  1.909  1487.438669  1537.704762   0.428162  \n",
       "8699   5.850  1.143  5.000  1714.418317  1440.082630   0.829092  \n",
       "8700   6.500  1.100  6.500  1680.147270  1471.650860   0.768561  \n",
       "8702   6.000  1.143  5.000  1778.074395  1442.912337   0.873177  \n",
       "8703   1.901  2.000  1.727  1574.448782  1529.033083   0.564989  \n",
       "8704   1.676  2.200  1.615  1502.716542  1602.655610   0.360016  \n",
       "8705   2.690  1.400  2.750  1645.234147  1506.003201   0.690290  \n",
       "8706   1.465  2.750  1.400  1477.371091  1559.144668   0.384444  \n",
       "8707   2.010  1.833  1.833  1498.980200  1514.278321   0.477998  \n",
       "8708   1.971  1.667  2.100  1693.162591  1576.687129   0.661612  \n",
       "8709   1.392  2.875  1.364  1514.136215  1729.260267   0.224723  \n",
       "8710   6.250  1.063  8.000  1933.654008  1488.519786   0.928402  \n",
       "...      ...    ...    ...          ...          ...        ...  \n",
       "44678  1.540  2.500  1.500  1548.897986  1653.280325   0.354144  \n",
       "44679  4.260  1.280  3.500  1621.513858  1426.781353   0.754169  \n",
       "44680  1.380  3.250  1.330  1584.894729  1832.558139   0.193775  \n",
       "44681  2.450  1.610  2.300  1627.224617  1528.448309   0.638441  \n",
       "44682  2.380  1.530  2.500  1819.698366  1694.208420   0.673130  \n",
       "44683  1.960  1.830  1.830  1708.094723  1587.551808   0.666834  \n",
       "44684  2.950  1.440  2.750  1826.056775  1651.452705   0.732060  \n",
       "44685  1.560  2.500  1.530  1549.836638  1556.179030   0.490874  \n",
       "44686  3.790  1.280  3.750  1872.573339  1723.305319   0.702505  \n",
       "44687  2.210  1.720  2.000  1829.304358  1662.783318   0.722836  \n",
       "44688  4.060  1.280  3.500  1882.093175  1700.237992   0.740168  \n",
       "44689  2.000  1.800  2.000  1627.875258  1718.756031   0.372116  \n",
       "44690  3.700  1.330  3.250  1933.959487  1745.678333   0.747219  \n",
       "44691  3.280  1.360  3.000  1815.693937  1759.923257   0.579578  \n",
       "44692  2.200  1.800  2.000  1942.048487  1838.173611   0.645188  \n",
       "44693  2.260  1.720  2.100  1829.147436  1794.933822   0.549079  \n",
       "44694  5.370  1.200  4.500  1830.158190  1566.128684   0.820520  \n",
       "44695  2.920  1.440  2.750  1798.021195  1559.550154   0.797824  \n",
       "44696  2.080  1.830  1.830  1428.623173  1536.276162   0.349850  \n",
       "44697  1.710  2.370  1.570  1569.565379  1629.380461   0.414760  \n",
       "44698  2.400  1.570  2.370  1834.630840  1638.794519   0.755345  \n",
       "44699  2.050  1.800  2.000  1610.693929  1449.427986   0.716735  \n",
       "44700  2.150  1.720  2.100  1639.369372  1667.333204   0.459843  \n",
       "44701  2.240  1.660  2.200  1804.490826  1656.654380   0.700780  \n",
       "44702  1.940  1.900  1.900  1953.402484  1890.407795   0.589676  \n",
       "44703  2.430  1.660  2.200  1835.901543  1842.459807   0.490563  \n",
       "44704  3.630  1.300  3.500  1843.576914  1647.967561   0.755103  \n",
       "44705  2.090  1.900  1.900  1588.293069  1619.758421   0.454841  \n",
       "44706  2.750  1.500  2.620  1966.532849  1851.413609   0.659862  \n",
       "44707  3.380  1.360  3.250  1814.065865  1605.738153   0.768388  \n",
       "\n",
       "[32736 rows x 13 columns]"
      ]
     },
     "execution_count": 62,
     "metadata": {},
     "output_type": "execute_result"
    }
   ],
   "source": [
    "# Variable 'PSW'\n",
    "display(df.PSW.sort_values().unique())\n",
    "df.iloc[:,10:].loc[df.PSW >1]\n",
    "\n",
    "# 'PS_', 'B365_' bookmakers odds"
   ]
  },
  {
   "cell_type": "code",
   "execution_count": 63,
   "metadata": {
    "id": "3f2ba13f"
   },
   "outputs": [],
   "source": [
    "# Variable 'elo_', 'proba_elo' : elo ranking"
   ]
  },
  {
   "cell_type": "code",
   "execution_count": 64,
   "metadata": {
    "colab": {
     "base_uri": "https://localhost:8080/",
     "height": 87
    },
    "id": "96a6782a",
    "outputId": "34662ae9-c30b-4bf6-bd77-727e893527f9"
   },
   "outputs": [
    {
     "data": {
      "text/plain": [
       "\" \\n0 ATP : ATP number of the tournament\\n1 Location : City's match\\n2 Tournament : Tournament name \\n3 Date : Match day \\n4 Series : Tournament type\\n5 Court : Indoor / Outdoor \\n6 Surface : Pitch type\\n7 Round : Competition stage\\n8 Best of : Best score\\n9 Winner : Match winner \\n10 Loser : Match loser \\n11 WRank : Winner ATP rankig   \\n12 LRank : Loser ATP rankig\\n13 Wsets : Winner score\\n14 Lsets : Loser score\\n15 Comment : Finshed or unfinished match ? \""
      ]
     },
     "execution_count": 64,
     "metadata": {},
     "output_type": "execute_result"
    }
   ],
   "source": [
    "# Description des variables\n",
    "\"\"\" \n",
    "0 ATP : ATP number of the tournament\n",
    "1 Location : City's match\n",
    "2 Tournament : Tournament name \n",
    "3 Date : Match day \n",
    "4 Series : Tournament type\n",
    "5 Court : Indoor / Outdoor \n",
    "6 Surface : Pitch type\n",
    "7 Round : Competition stage\n",
    "8 Best of : Best score\n",
    "9 Winner : Match winner \n",
    "10 Loser : Match loser \n",
    "11 WRank : Winner ATP rankig   \n",
    "12 LRank : Loser ATP rankig\n",
    "13 Wsets : Winner score\n",
    "14 Lsets : Loser score\n",
    "15 Comment : Finshed or unfinished match ? \"\"\""
   ]
  },
  {
   "cell_type": "code",
   "execution_count": 65,
   "metadata": {
    "colab": {
     "base_uri": "https://localhost:8080/"
    },
    "id": "c9935e99",
    "outputId": "ef50a77f-4be7-4f93-9511-4a85e7427db6"
   },
   "outputs": [
    {
     "data": {
      "text/plain": [
       "0"
      ]
     },
     "execution_count": 65,
     "metadata": {},
     "output_type": "execute_result"
    }
   ],
   "source": [
    "# Duplicates presence ?\n",
    "df.duplicated().sum()"
   ]
  },
  {
   "cell_type": "markdown",
   "metadata": {
    "id": "693797fb"
   },
   "source": [
    "### Missing values"
   ]
  },
  {
   "cell_type": "code",
   "execution_count": 66,
   "metadata": {
    "colab": {
     "base_uri": "https://localhost:8080/"
    },
    "id": "a059f3dd",
    "outputId": "09cf9b37-ecd1-4e01-d39b-155db8b25aa5",
    "scrolled": true
   },
   "outputs": [
    {
     "data": {
      "text/plain": [
       "ATP               0\n",
       "Location          0\n",
       "Tournament        0\n",
       "Date              0\n",
       "Series            0\n",
       "Court             0\n",
       "Surface           0\n",
       "Round             0\n",
       "Best of           0\n",
       "Winner            0\n",
       "Loser             0\n",
       "WRank             0\n",
       "LRank             0\n",
       "Wsets           187\n",
       "Lsets           187\n",
       "Comment           0\n",
       "PSW           11965\n",
       "PSL           11965\n",
       "B365W          5671\n",
       "B365L          5651\n",
       "elo_winner        0\n",
       "elo_loser         0\n",
       "proba_elo         0\n",
       "dtype: int64"
      ]
     },
     "execution_count": 66,
     "metadata": {},
     "output_type": "execute_result"
    }
   ],
   "source": [
    "# Missing values presence\n",
    "df.isnull().sum()"
   ]
  },
  {
   "cell_type": "code",
   "execution_count": 67,
   "metadata": {
    "scrolled": true
   },
   "outputs": [
    {
     "data": {
      "text/plain": [
       "ATP               0\n",
       "Location          0\n",
       "Tournament        0\n",
       "Date              0\n",
       "Series            0\n",
       "Court             0\n",
       "Surface           0\n",
       "Round             0\n",
       "Best of           0\n",
       "Winner            0\n",
       "Loser             0\n",
       "WRank             0\n",
       "LRank             0\n",
       "Wsets           187\n",
       "Lsets           187\n",
       "Comment           0\n",
       "PSW           11965\n",
       "PSL           11965\n",
       "B365W          5671\n",
       "B365L          5651\n",
       "elo_winner        0\n",
       "elo_loser         0\n",
       "proba_elo         0\n",
       "dtype: int64"
      ]
     },
     "execution_count": 67,
     "metadata": {},
     "output_type": "execute_result"
    }
   ],
   "source": [
    "df.isnull().sum()"
   ]
  },
  {
   "cell_type": "markdown",
   "metadata": {
    "id": "a6a6b5e4"
   },
   "source": [
    "##### The uncompleted matches or whose socre are not known are a limited interest in the card of this analysis.\n",
    "#### Thus, we are going to focus on the matches including \"How = 'Completed'\" and whose scores are known."
   ]
  },
  {
   "cell_type": "code",
   "execution_count": 68,
   "metadata": {
    "colab": {
     "base_uri": "https://localhost:8080/"
    },
    "id": "1be1d251",
    "outputId": "690841e3-60ce-48cc-cc48-99766752a4e6"
   },
   "outputs": [
    {
     "data": {
      "text/html": [
       "<div>\n",
       "<style scoped>\n",
       "    .dataframe tbody tr th:only-of-type {\n",
       "        vertical-align: middle;\n",
       "    }\n",
       "\n",
       "    .dataframe tbody tr th {\n",
       "        vertical-align: top;\n",
       "    }\n",
       "\n",
       "    .dataframe thead th {\n",
       "        text-align: right;\n",
       "    }\n",
       "</style>\n",
       "<table border=\"1\" class=\"dataframe\">\n",
       "  <thead>\n",
       "    <tr style=\"text-align: right;\">\n",
       "      <th></th>\n",
       "      <th>ATP</th>\n",
       "      <th>Location</th>\n",
       "      <th>Tournament</th>\n",
       "      <th>Date</th>\n",
       "      <th>Series</th>\n",
       "      <th>Court</th>\n",
       "      <th>Surface</th>\n",
       "      <th>Round</th>\n",
       "      <th>Best of</th>\n",
       "      <th>Winner</th>\n",
       "    </tr>\n",
       "  </thead>\n",
       "  <tbody>\n",
       "    <tr>\n",
       "      <th>0</th>\n",
       "      <td>1</td>\n",
       "      <td>Adelaide</td>\n",
       "      <td>Australian Hardcourt Championships</td>\n",
       "      <td>2000-01-03</td>\n",
       "      <td>International</td>\n",
       "      <td>Outdoor</td>\n",
       "      <td>Hard</td>\n",
       "      <td>1st Round</td>\n",
       "      <td>3</td>\n",
       "      <td>Dosedel S.</td>\n",
       "    </tr>\n",
       "    <tr>\n",
       "      <th>1</th>\n",
       "      <td>3</td>\n",
       "      <td>Doha</td>\n",
       "      <td>Qatar Open</td>\n",
       "      <td>2000-01-03</td>\n",
       "      <td>International</td>\n",
       "      <td>Outdoor</td>\n",
       "      <td>Hard</td>\n",
       "      <td>1st Round</td>\n",
       "      <td>3</td>\n",
       "      <td>Kiefer N.</td>\n",
       "    </tr>\n",
       "  </tbody>\n",
       "</table>\n",
       "</div>"
      ],
      "text/plain": [
       "   ATP  Location                          Tournament        Date  \\\n",
       "0    1  Adelaide  Australian Hardcourt Championships  2000-01-03   \n",
       "1    3      Doha                          Qatar Open  2000-01-03   \n",
       "\n",
       "          Series    Court Surface      Round  Best of      Winner  \n",
       "0  International  Outdoor    Hard  1st Round        3  Dosedel S.  \n",
       "1  International  Outdoor    Hard  1st Round        3   Kiefer N.  "
      ]
     },
     "metadata": {},
     "output_type": "display_data"
    },
    {
     "data": {
      "text/html": [
       "<div>\n",
       "<style scoped>\n",
       "    .dataframe tbody tr th:only-of-type {\n",
       "        vertical-align: middle;\n",
       "    }\n",
       "\n",
       "    .dataframe tbody tr th {\n",
       "        vertical-align: top;\n",
       "    }\n",
       "\n",
       "    .dataframe thead th {\n",
       "        text-align: right;\n",
       "    }\n",
       "</style>\n",
       "<table border=\"1\" class=\"dataframe\">\n",
       "  <thead>\n",
       "    <tr style=\"text-align: right;\">\n",
       "      <th></th>\n",
       "      <th>Loser</th>\n",
       "      <th>WRank</th>\n",
       "      <th>LRank</th>\n",
       "      <th>Wsets</th>\n",
       "      <th>Lsets</th>\n",
       "      <th>Comment</th>\n",
       "      <th>PSW</th>\n",
       "      <th>PSL</th>\n",
       "      <th>B365W</th>\n",
       "      <th>B365L</th>\n",
       "      <th>elo_winner</th>\n",
       "      <th>elo_loser</th>\n",
       "      <th>proba_elo</th>\n",
       "    </tr>\n",
       "  </thead>\n",
       "  <tbody>\n",
       "    <tr>\n",
       "      <th>0</th>\n",
       "      <td>Ljubicic I.</td>\n",
       "      <td>63</td>\n",
       "      <td>77</td>\n",
       "      <td>2.0</td>\n",
       "      <td>0.0</td>\n",
       "      <td>Completed</td>\n",
       "      <td>NaN</td>\n",
       "      <td>NaN</td>\n",
       "      <td>NaN</td>\n",
       "      <td>NaN</td>\n",
       "      <td>1500.0</td>\n",
       "      <td>1500.0</td>\n",
       "      <td>0.5</td>\n",
       "    </tr>\n",
       "    <tr>\n",
       "      <th>1</th>\n",
       "      <td>Tarango J.</td>\n",
       "      <td>6</td>\n",
       "      <td>59</td>\n",
       "      <td>2.0</td>\n",
       "      <td>0.0</td>\n",
       "      <td>Completed</td>\n",
       "      <td>NaN</td>\n",
       "      <td>NaN</td>\n",
       "      <td>NaN</td>\n",
       "      <td>NaN</td>\n",
       "      <td>1500.0</td>\n",
       "      <td>1500.0</td>\n",
       "      <td>0.5</td>\n",
       "    </tr>\n",
       "  </tbody>\n",
       "</table>\n",
       "</div>"
      ],
      "text/plain": [
       "         Loser  WRank  LRank  Wsets  Lsets    Comment  PSW  PSL  B365W  B365L  \\\n",
       "0  Ljubicic I.     63     77    2.0    0.0  Completed  NaN  NaN    NaN    NaN   \n",
       "1   Tarango J.      6     59    2.0    0.0  Completed  NaN  NaN    NaN    NaN   \n",
       "\n",
       "   elo_winner  elo_loser  proba_elo  \n",
       "0      1500.0     1500.0        0.5  \n",
       "1      1500.0     1500.0        0.5  "
      ]
     },
     "metadata": {},
     "output_type": "display_data"
    }
   ],
   "source": [
    "df1 = df.loc[(df.Comment == 'Completed') & (df.Wsets.notna()) & (df.Lsets.notna())]\n",
    "\n",
    "display(df1.iloc[:,:10].head(2))\n",
    "display(df1.iloc[:,10:].head(2))"
   ]
  },
  {
   "cell_type": "code",
   "execution_count": 69,
   "metadata": {
    "id": "34edc195"
   },
   "outputs": [],
   "source": [
    "# Sometimes we miss values for B365 and not for PS, and vice versa.\n",
    "# We choose first to replace missing values of one bookmaker with the values of the other bookmaker."
   ]
  },
  {
   "cell_type": "code",
   "execution_count": 70,
   "metadata": {
    "colab": {
     "base_uri": "https://localhost:8080/"
    },
    "id": "e559af31",
    "outputId": "0f595a44-bfe0-49ed-f28f-05c5fd36e2bb"
   },
   "outputs": [
    {
     "name": "stderr",
     "output_type": "stream",
     "text": [
      "C:\\ProgramData\\Anaconda3\\lib\\site-packages\\pandas\\core\\indexing.py:537: SettingWithCopyWarning: \n",
      "A value is trying to be set on a copy of a slice from a DataFrame.\n",
      "Try using .loc[row_indexer,col_indexer] = value instead\n",
      "\n",
      "See the caveats in the documentation: http://pandas.pydata.org/pandas-docs/stable/indexing.html#indexing-view-versus-copy\n",
      "  self.obj[item] = s\n"
     ]
    }
   ],
   "source": [
    "df1.loc[(df1.B365W.isna()==True) & (df1.PSW > 0), 'B365W'] = df1.loc[(df1.B365W.isna()==True) & (df1.PSW > 0), 'PSW']\n",
    "df1.loc[(df1.B365L.isna()==True) & (df1.PSW > 0), 'B365L'] = df1.loc[(df1.B365L.isna()==True) & (df1.PSW > 0), 'PSL']\n",
    "df1.loc[(df1.PSL.isna()==True) & (df1.B365W > 0), 'PSL'] = df1.loc[(df1.PSL.isna()==True) & (df1.B365W > 0), 'B365L']\n",
    "df1.loc[(df1.PSW.isna()==True) & (df1.B365W > 0), 'PSW'] = df1.loc[(df1.PSW.isna()==True) & (df1.B365W > 0), 'B365W']"
   ]
  },
  {
   "cell_type": "code",
   "execution_count": 71,
   "metadata": {
    "colab": {
     "base_uri": "https://localhost:8080/"
    },
    "id": "e41df24b",
    "outputId": "b93cd4c5-ed6a-4772-99d2-55829f879efb"
   },
   "outputs": [
    {
     "data": {
      "text/plain": [
       "ATP              0\n",
       "Location         0\n",
       "Tournament       0\n",
       "Date             0\n",
       "Series           0\n",
       "Court            0\n",
       "Surface          0\n",
       "Round            0\n",
       "Best of          0\n",
       "Winner           0\n",
       "Loser            0\n",
       "WRank            0\n",
       "LRank            0\n",
       "Wsets            0\n",
       "Lsets            0\n",
       "Comment          0\n",
       "PSW           5087\n",
       "PSL           5087\n",
       "B365W         5087\n",
       "B365L         5087\n",
       "elo_winner       0\n",
       "elo_loser        0\n",
       "proba_elo        0\n",
       "dtype: int64"
      ]
     },
     "execution_count": 71,
     "metadata": {},
     "output_type": "execute_result"
    }
   ],
   "source": [
    "df1.isna().sum()"
   ]
  },
  {
   "cell_type": "markdown",
   "metadata": {
    "id": "f39e1065"
   },
   "source": [
    "###### Lets replace remaining missing odds values by 1"
   ]
  },
  {
   "cell_type": "code",
   "execution_count": 72,
   "metadata": {
    "colab": {
     "base_uri": "https://localhost:8080/"
    },
    "id": "df1237c7",
    "outputId": "98152945-c030-4ecb-b9f0-0d1266dd6c2e"
   },
   "outputs": [
    {
     "name": "stderr",
     "output_type": "stream",
     "text": [
      "C:\\ProgramData\\Anaconda3\\lib\\site-packages\\pandas\\core\\generic.py:4355: SettingWithCopyWarning: \n",
      "A value is trying to be set on a copy of a slice from a DataFrame\n",
      "\n",
      "See the caveats in the documentation: http://pandas.pydata.org/pandas-docs/stable/indexing.html#indexing-view-versus-copy\n",
      "  self._update_inplace(new_data)\n"
     ]
    },
    {
     "data": {
      "text/plain": [
       "0"
      ]
     },
     "execution_count": 72,
     "metadata": {},
     "output_type": "execute_result"
    }
   ],
   "source": [
    "bookmakers = ['PSW', 'PSL', 'B365W', 'B365L']\n",
    "for i in bookmakers:\n",
    "    df1[i].fillna(1, axis=0, inplace=True)\n",
    "df1.isna().sum().sum()"
   ]
  },
  {
   "cell_type": "code",
   "execution_count": 73,
   "metadata": {
    "id": "d312e7da"
   },
   "outputs": [
    {
     "name": "stderr",
     "output_type": "stream",
     "text": [
      "C:\\ProgramData\\Anaconda3\\lib\\site-packages\\pandas\\core\\internals.py:3462: FutureWarning: Passing in 'datetime64' dtype with no frequency is deprecated and will raise in a future version. Please pass in 'datetime64[ns]' instead.\n",
      "  return self.apply('astype', dtype=dtype, **kwargs)\n"
     ]
    }
   ],
   "source": [
    "# The variables Wsets and Lsets are of type 'float'. They should be of type 'int'.\n",
    "# The Date variable also has the wrong type\n",
    "df1 = df1.astype({'Wsets' : 'int', 'Lsets' : 'int', 'Date' : 'datetime64'})"
   ]
  },
  {
   "cell_type": "markdown",
   "metadata": {
    "id": "150993b5"
   },
   "source": [
    "##### Quick description of varibles"
   ]
  },
  {
   "cell_type": "code",
   "execution_count": 74,
   "metadata": {
    "colab": {
     "base_uri": "https://localhost:8080/"
    },
    "id": "1a4ea990",
    "outputId": "79a2ded8-fcc4-4fb0-b7b5-a75ef42a5ebf"
   },
   "outputs": [
    {
     "data": {
      "text/html": [
       "<div>\n",
       "<style scoped>\n",
       "    .dataframe tbody tr th:only-of-type {\n",
       "        vertical-align: middle;\n",
       "    }\n",
       "\n",
       "    .dataframe tbody tr th {\n",
       "        vertical-align: top;\n",
       "    }\n",
       "\n",
       "    .dataframe thead th {\n",
       "        text-align: right;\n",
       "    }\n",
       "</style>\n",
       "<table border=\"1\" class=\"dataframe\">\n",
       "  <thead>\n",
       "    <tr style=\"text-align: right;\">\n",
       "      <th></th>\n",
       "      <th>ATP</th>\n",
       "      <th>Best of</th>\n",
       "      <th>WRank</th>\n",
       "      <th>LRank</th>\n",
       "      <th>Wsets</th>\n",
       "      <th>Lsets</th>\n",
       "      <th>PSW</th>\n",
       "      <th>PSL</th>\n",
       "      <th>B365W</th>\n",
       "      <th>B365L</th>\n",
       "      <th>elo_winner</th>\n",
       "      <th>elo_loser</th>\n",
       "      <th>proba_elo</th>\n",
       "    </tr>\n",
       "  </thead>\n",
       "  <tbody>\n",
       "    <tr>\n",
       "      <th>count</th>\n",
       "      <td>43014.000000</td>\n",
       "      <td>43014.000000</td>\n",
       "      <td>43014.000000</td>\n",
       "      <td>43014.000000</td>\n",
       "      <td>43014.000000</td>\n",
       "      <td>43014.000000</td>\n",
       "      <td>43014.000000</td>\n",
       "      <td>43014.000000</td>\n",
       "      <td>43014.000000</td>\n",
       "      <td>43014.000000</td>\n",
       "      <td>43014.000000</td>\n",
       "      <td>43014.000000</td>\n",
       "      <td>43014.000000</td>\n",
       "    </tr>\n",
       "    <tr>\n",
       "      <th>mean</th>\n",
       "      <td>32.773004</td>\n",
       "      <td>3.369833</td>\n",
       "      <td>58.853559</td>\n",
       "      <td>94.464523</td>\n",
       "      <td>2.184893</td>\n",
       "      <td>0.411540</td>\n",
       "      <td>1.786088</td>\n",
       "      <td>3.727550</td>\n",
       "      <td>1.712667</td>\n",
       "      <td>3.269369</td>\n",
       "      <td>1684.866154</td>\n",
       "      <td>1607.389932</td>\n",
       "      <td>0.588200</td>\n",
       "    </tr>\n",
       "    <tr>\n",
       "      <th>std</th>\n",
       "      <td>18.174624</td>\n",
       "      <td>0.776469</td>\n",
       "      <td>74.376858</td>\n",
       "      <td>125.461112</td>\n",
       "      <td>0.388694</td>\n",
       "      <td>0.559003</td>\n",
       "      <td>1.231010</td>\n",
       "      <td>5.156139</td>\n",
       "      <td>1.052423</td>\n",
       "      <td>3.414754</td>\n",
       "      <td>179.382693</td>\n",
       "      <td>137.488328</td>\n",
       "      <td>0.197758</td>\n",
       "    </tr>\n",
       "    <tr>\n",
       "      <th>min</th>\n",
       "      <td>1.000000</td>\n",
       "      <td>3.000000</td>\n",
       "      <td>0.000000</td>\n",
       "      <td>0.000000</td>\n",
       "      <td>0.000000</td>\n",
       "      <td>0.000000</td>\n",
       "      <td>1.000000</td>\n",
       "      <td>1.000000</td>\n",
       "      <td>1.000000</td>\n",
       "      <td>1.000000</td>\n",
       "      <td>1318.945207</td>\n",
       "      <td>1327.551888</td>\n",
       "      <td>0.008899</td>\n",
       "    </tr>\n",
       "    <tr>\n",
       "      <th>25%</th>\n",
       "      <td>19.000000</td>\n",
       "      <td>3.000000</td>\n",
       "      <td>16.000000</td>\n",
       "      <td>35.000000</td>\n",
       "      <td>2.000000</td>\n",
       "      <td>0.000000</td>\n",
       "      <td>1.167000</td>\n",
       "      <td>1.560000</td>\n",
       "      <td>1.140000</td>\n",
       "      <td>1.500000</td>\n",
       "      <td>1549.287096</td>\n",
       "      <td>1500.768657</td>\n",
       "      <td>0.451174</td>\n",
       "    </tr>\n",
       "    <tr>\n",
       "      <th>50%</th>\n",
       "      <td>32.000000</td>\n",
       "      <td>3.000000</td>\n",
       "      <td>41.000000</td>\n",
       "      <td>66.000000</td>\n",
       "      <td>2.000000</td>\n",
       "      <td>0.000000</td>\n",
       "      <td>1.444000</td>\n",
       "      <td>2.380000</td>\n",
       "      <td>1.400000</td>\n",
       "      <td>2.250000</td>\n",
       "      <td>1653.976062</td>\n",
       "      <td>1578.913083</td>\n",
       "      <td>0.591985</td>\n",
       "    </tr>\n",
       "    <tr>\n",
       "      <th>75%</th>\n",
       "      <td>49.000000</td>\n",
       "      <td>3.000000</td>\n",
       "      <td>77.000000</td>\n",
       "      <td>106.000000</td>\n",
       "      <td>2.000000</td>\n",
       "      <td>1.000000</td>\n",
       "      <td>1.962000</td>\n",
       "      <td>3.850000</td>\n",
       "      <td>1.900000</td>\n",
       "      <td>3.750000</td>\n",
       "      <td>1781.647774</td>\n",
       "      <td>1683.075379</td>\n",
       "      <td>0.739046</td>\n",
       "    </tr>\n",
       "    <tr>\n",
       "      <th>max</th>\n",
       "      <td>69.000000</td>\n",
       "      <td>5.000000</td>\n",
       "      <td>1890.000000</td>\n",
       "      <td>2000.000000</td>\n",
       "      <td>3.000000</td>\n",
       "      <td>2.000000</td>\n",
       "      <td>46.000000</td>\n",
       "      <td>121.000000</td>\n",
       "      <td>29.000000</td>\n",
       "      <td>101.000000</td>\n",
       "      <td>2392.408923</td>\n",
       "      <td>2383.577360</td>\n",
       "      <td>0.995601</td>\n",
       "    </tr>\n",
       "  </tbody>\n",
       "</table>\n",
       "</div>"
      ],
      "text/plain": [
       "                ATP       Best of         WRank         LRank         Wsets  \\\n",
       "count  43014.000000  43014.000000  43014.000000  43014.000000  43014.000000   \n",
       "mean      32.773004      3.369833     58.853559     94.464523      2.184893   \n",
       "std       18.174624      0.776469     74.376858    125.461112      0.388694   \n",
       "min        1.000000      3.000000      0.000000      0.000000      0.000000   \n",
       "25%       19.000000      3.000000     16.000000     35.000000      2.000000   \n",
       "50%       32.000000      3.000000     41.000000     66.000000      2.000000   \n",
       "75%       49.000000      3.000000     77.000000    106.000000      2.000000   \n",
       "max       69.000000      5.000000   1890.000000   2000.000000      3.000000   \n",
       "\n",
       "              Lsets           PSW           PSL         B365W         B365L  \\\n",
       "count  43014.000000  43014.000000  43014.000000  43014.000000  43014.000000   \n",
       "mean       0.411540      1.786088      3.727550      1.712667      3.269369   \n",
       "std        0.559003      1.231010      5.156139      1.052423      3.414754   \n",
       "min        0.000000      1.000000      1.000000      1.000000      1.000000   \n",
       "25%        0.000000      1.167000      1.560000      1.140000      1.500000   \n",
       "50%        0.000000      1.444000      2.380000      1.400000      2.250000   \n",
       "75%        1.000000      1.962000      3.850000      1.900000      3.750000   \n",
       "max        2.000000     46.000000    121.000000     29.000000    101.000000   \n",
       "\n",
       "         elo_winner     elo_loser     proba_elo  \n",
       "count  43014.000000  43014.000000  43014.000000  \n",
       "mean    1684.866154   1607.389932      0.588200  \n",
       "std      179.382693    137.488328      0.197758  \n",
       "min     1318.945207   1327.551888      0.008899  \n",
       "25%     1549.287096   1500.768657      0.451174  \n",
       "50%     1653.976062   1578.913083      0.591985  \n",
       "75%     1781.647774   1683.075379      0.739046  \n",
       "max     2392.408923   2383.577360      0.995601  "
      ]
     },
     "metadata": {},
     "output_type": "display_data"
    },
    {
     "data": {
      "text/html": [
       "<div>\n",
       "<style scoped>\n",
       "    .dataframe tbody tr th:only-of-type {\n",
       "        vertical-align: middle;\n",
       "    }\n",
       "\n",
       "    .dataframe tbody tr th {\n",
       "        vertical-align: top;\n",
       "    }\n",
       "\n",
       "    .dataframe thead th {\n",
       "        text-align: right;\n",
       "    }\n",
       "</style>\n",
       "<table border=\"1\" class=\"dataframe\">\n",
       "  <thead>\n",
       "    <tr style=\"text-align: right;\">\n",
       "      <th></th>\n",
       "      <th>Location</th>\n",
       "      <th>Tournament</th>\n",
       "      <th>Date</th>\n",
       "      <th>Series</th>\n",
       "      <th>Court</th>\n",
       "      <th>Surface</th>\n",
       "      <th>Round</th>\n",
       "      <th>Winner</th>\n",
       "      <th>Loser</th>\n",
       "      <th>Comment</th>\n",
       "    </tr>\n",
       "  </thead>\n",
       "  <tbody>\n",
       "    <tr>\n",
       "      <th>count</th>\n",
       "      <td>43014</td>\n",
       "      <td>43014</td>\n",
       "      <td>43014</td>\n",
       "      <td>43014</td>\n",
       "      <td>43014</td>\n",
       "      <td>43014</td>\n",
       "      <td>43014</td>\n",
       "      <td>43014</td>\n",
       "      <td>43014</td>\n",
       "      <td>43014</td>\n",
       "    </tr>\n",
       "    <tr>\n",
       "      <th>unique</th>\n",
       "      <td>115</td>\n",
       "      <td>207</td>\n",
       "      <td>4100</td>\n",
       "      <td>8</td>\n",
       "      <td>2</td>\n",
       "      <td>4</td>\n",
       "      <td>8</td>\n",
       "      <td>853</td>\n",
       "      <td>1329</td>\n",
       "      <td>1</td>\n",
       "    </tr>\n",
       "    <tr>\n",
       "      <th>top</th>\n",
       "      <td>Paris</td>\n",
       "      <td>Australian Open</td>\n",
       "      <td>2002-06-24 00:00:00</td>\n",
       "      <td>International</td>\n",
       "      <td>Outdoor</td>\n",
       "      <td>Hard</td>\n",
       "      <td>1st Round</td>\n",
       "      <td>Federer R.</td>\n",
       "      <td>Lopez F.</td>\n",
       "      <td>Completed</td>\n",
       "    </tr>\n",
       "    <tr>\n",
       "      <th>freq</th>\n",
       "      <td>2660</td>\n",
       "      <td>2067</td>\n",
       "      <td>124</td>\n",
       "      <td>10400</td>\n",
       "      <td>35138</td>\n",
       "      <td>22892</td>\n",
       "      <td>19920</td>\n",
       "      <td>945</td>\n",
       "      <td>360</td>\n",
       "      <td>43014</td>\n",
       "    </tr>\n",
       "    <tr>\n",
       "      <th>first</th>\n",
       "      <td>NaN</td>\n",
       "      <td>NaN</td>\n",
       "      <td>2000-01-03 00:00:00</td>\n",
       "      <td>NaN</td>\n",
       "      <td>NaN</td>\n",
       "      <td>NaN</td>\n",
       "      <td>NaN</td>\n",
       "      <td>NaN</td>\n",
       "      <td>NaN</td>\n",
       "      <td>NaN</td>\n",
       "    </tr>\n",
       "    <tr>\n",
       "      <th>last</th>\n",
       "      <td>NaN</td>\n",
       "      <td>NaN</td>\n",
       "      <td>2018-03-04 00:00:00</td>\n",
       "      <td>NaN</td>\n",
       "      <td>NaN</td>\n",
       "      <td>NaN</td>\n",
       "      <td>NaN</td>\n",
       "      <td>NaN</td>\n",
       "      <td>NaN</td>\n",
       "      <td>NaN</td>\n",
       "    </tr>\n",
       "  </tbody>\n",
       "</table>\n",
       "</div>"
      ],
      "text/plain": [
       "       Location       Tournament                 Date         Series    Court  \\\n",
       "count     43014            43014                43014          43014    43014   \n",
       "unique      115              207                 4100              8        2   \n",
       "top       Paris  Australian Open  2002-06-24 00:00:00  International  Outdoor   \n",
       "freq       2660             2067                  124          10400    35138   \n",
       "first       NaN              NaN  2000-01-03 00:00:00            NaN      NaN   \n",
       "last        NaN              NaN  2018-03-04 00:00:00            NaN      NaN   \n",
       "\n",
       "       Surface      Round      Winner     Loser    Comment  \n",
       "count    43014      43014       43014     43014      43014  \n",
       "unique       4          8         853      1329          1  \n",
       "top       Hard  1st Round  Federer R.  Lopez F.  Completed  \n",
       "freq     22892      19920         945       360      43014  \n",
       "first      NaN        NaN         NaN       NaN        NaN  \n",
       "last       NaN        NaN         NaN       NaN        NaN  "
      ]
     },
     "metadata": {},
     "output_type": "display_data"
    }
   ],
   "source": [
    "display(df1.describe(include=[np.number])) # Description des variables numériques\n",
    "\n",
    "display(df1.describe(exclude=[np.number])) # Description des variables catégroielles"
   ]
  },
  {
   "cell_type": "markdown",
   "metadata": {
    "id": "21d983de"
   },
   "source": [
    "# 2. Data Visualisation"
   ]
  },
  {
   "cell_type": "markdown",
   "metadata": {
    "id": "62fe0090"
   },
   "source": [
    "### 2.1. Players with the most victories"
   ]
  },
  {
   "cell_type": "code",
   "execution_count": 78,
   "metadata": {
    "colab": {
     "base_uri": "https://localhost:8080/"
    },
    "id": "feb31774",
    "outputId": "5f156636-929a-4169-f74d-67d04ddcfc18"
   },
   "outputs": [
    {
     "data": {
      "image/png": "[encoded data removed]",
      "text/plain": [
       "<matplotlib.figure.Figure at 0x206a11367b8>"
      ]
     },
     "metadata": {},
     "output_type": "display_data"
    }
   ],
   "source": [
    "# Players who have won the most matches\n",
    "sns.set()\n",
    "\n",
    "plt.figure(figsize=(14,7))\n",
    "\n",
    "plt.subplot(121)\n",
    "data = df1.Winner.value_counts()[:20]\n",
    "x, y = data.values, data.index\n",
    "sns.barplot(x=x, y=y, data=pd.DataFrame(data), order = y, orient='h')\n",
    "plt.xlim((300,None)); plt.title('Top 20 won matches')\n",
    "\n",
    "# Players who have lost the most matches\n",
    "plt.subplot(122)\n",
    "data = df1.Loser.value_counts()[:20]\n",
    "x, y = data.values, data.index\n",
    "sns.barplot(x=x, y=y, data=pd.DataFrame(data), order = y, orient='h')\n",
    "plt.xlim((200,None)); plt.title('Top 20 lost matches');"
   ]
  },
  {
   "cell_type": "markdown",
   "metadata": {
    "id": "b9349cc0"
   },
   "source": [
    "##### Federer, Nadal and Djokovic form the top 3"
   ]
  },
  {
   "cell_type": "markdown",
   "metadata": {
    "id": "34a8195a"
   },
   "source": [
    "##### Players not having the same number of matches played, let's introduce the variable \"w_per_match\""
   ]
  },
  {
   "cell_type": "markdown",
   "metadata": {
    "id": "88cbed4a"
   },
   "source": [
    "### 2.2. Overall performances"
   ]
  },
  {
   "cell_type": "code",
   "execution_count": 79,
   "metadata": {
    "colab": {
     "base_uri": "https://localhost:8080/"
    },
    "id": "e424a813",
    "outputId": "4e2c20aa-2961-443e-ebe3-2cc1609f860f"
   },
   "outputs": [
    {
     "data": {
      "text/html": [
       "<div>\n",
       "<style scoped>\n",
       "    .dataframe tbody tr th:only-of-type {\n",
       "        vertical-align: middle;\n",
       "    }\n",
       "\n",
       "    .dataframe tbody tr th {\n",
       "        vertical-align: top;\n",
       "    }\n",
       "\n",
       "    .dataframe thead th {\n",
       "        text-align: right;\n",
       "    }\n",
       "</style>\n",
       "<table border=\"1\" class=\"dataframe\">\n",
       "  <thead>\n",
       "    <tr style=\"text-align: right;\">\n",
       "      <th></th>\n",
       "      <th>Winner</th>\n",
       "      <th>Loser</th>\n",
       "    </tr>\n",
       "  </thead>\n",
       "  <tbody>\n",
       "    <tr>\n",
       "      <th>Federer R.</th>\n",
       "      <td>945</td>\n",
       "      <td>189</td>\n",
       "    </tr>\n",
       "    <tr>\n",
       "      <th>Nadal R.</th>\n",
       "      <td>777</td>\n",
       "      <td>163</td>\n",
       "    </tr>\n",
       "    <tr>\n",
       "      <th>Djokovic N.</th>\n",
       "      <td>664</td>\n",
       "      <td>135</td>\n",
       "    </tr>\n",
       "    <tr>\n",
       "      <th>Ferrer D.</th>\n",
       "      <td>613</td>\n",
       "      <td>319</td>\n",
       "    </tr>\n",
       "    <tr>\n",
       "      <th>Murray A.</th>\n",
       "      <td>541</td>\n",
       "      <td>159</td>\n",
       "    </tr>\n",
       "  </tbody>\n",
       "</table>\n",
       "</div>"
      ],
      "text/plain": [
       "             Winner  Loser\n",
       "Federer R.      945    189\n",
       "Nadal R.        777    163\n",
       "Djokovic N.     664    135\n",
       "Ferrer D.       613    319\n",
       "Murray A.       541    159"
      ]
     },
     "execution_count": 79,
     "metadata": {},
     "output_type": "execute_result"
    }
   ],
   "source": [
    "win_loss = pd.DataFrame(df1.Winner.value_counts()).join(pd.DataFrame(df1.Loser.value_counts()))\n",
    "win_loss.head()"
   ]
  },
  {
   "cell_type": "code",
   "execution_count": 80,
   "metadata": {
    "colab": {
     "base_uri": "https://localhost:8080/"
    },
    "id": "079a1519",
    "outputId": "f6006429-8858-4cb1-ddac-2dd316c07d5c"
   },
   "outputs": [
    {
     "data": {
      "text/html": [
       "<div>\n",
       "<style scoped>\n",
       "    .dataframe tbody tr th:only-of-type {\n",
       "        vertical-align: middle;\n",
       "    }\n",
       "\n",
       "    .dataframe tbody tr th {\n",
       "        vertical-align: top;\n",
       "    }\n",
       "\n",
       "    .dataframe thead th {\n",
       "        text-align: right;\n",
       "    }\n",
       "</style>\n",
       "<table border=\"1\" class=\"dataframe\">\n",
       "  <thead>\n",
       "    <tr style=\"text-align: right;\">\n",
       "      <th></th>\n",
       "      <th>Winner</th>\n",
       "      <th>Loser</th>\n",
       "      <th>w_per_match</th>\n",
       "      <th>matches</th>\n",
       "    </tr>\n",
       "  </thead>\n",
       "  <tbody>\n",
       "    <tr>\n",
       "      <th>Federer R.</th>\n",
       "      <td>945</td>\n",
       "      <td>189</td>\n",
       "      <td>0.833</td>\n",
       "      <td>1134</td>\n",
       "    </tr>\n",
       "    <tr>\n",
       "      <th>Djokovic N.</th>\n",
       "      <td>664</td>\n",
       "      <td>135</td>\n",
       "      <td>0.831</td>\n",
       "      <td>799</td>\n",
       "    </tr>\n",
       "    <tr>\n",
       "      <th>Nadal R.</th>\n",
       "      <td>777</td>\n",
       "      <td>163</td>\n",
       "      <td>0.827</td>\n",
       "      <td>940</td>\n",
       "    </tr>\n",
       "    <tr>\n",
       "      <th>Nargiso D.</th>\n",
       "      <td>8</td>\n",
       "      <td>2</td>\n",
       "      <td>0.800</td>\n",
       "      <td>10</td>\n",
       "    </tr>\n",
       "    <tr>\n",
       "      <th>Murray A.</th>\n",
       "      <td>541</td>\n",
       "      <td>159</td>\n",
       "      <td>0.773</td>\n",
       "      <td>700</td>\n",
       "    </tr>\n",
       "    <tr>\n",
       "      <th>Agassi A.</th>\n",
       "      <td>213</td>\n",
       "      <td>65</td>\n",
       "      <td>0.766</td>\n",
       "      <td>278</td>\n",
       "    </tr>\n",
       "    <tr>\n",
       "      <th>Roddick A.</th>\n",
       "      <td>525</td>\n",
       "      <td>168</td>\n",
       "      <td>0.758</td>\n",
       "      <td>693</td>\n",
       "    </tr>\n",
       "    <tr>\n",
       "      <th>Sampras P.</th>\n",
       "      <td>65</td>\n",
       "      <td>24</td>\n",
       "      <td>0.730</td>\n",
       "      <td>89</td>\n",
       "    </tr>\n",
       "    <tr>\n",
       "      <th>Del Potro-J.M.</th>\n",
       "      <td>349</td>\n",
       "      <td>138</td>\n",
       "      <td>0.717</td>\n",
       "      <td>487</td>\n",
       "    </tr>\n",
       "    <tr>\n",
       "      <th>Hewitt L.</th>\n",
       "      <td>405</td>\n",
       "      <td>176</td>\n",
       "      <td>0.697</td>\n",
       "      <td>581</td>\n",
       "    </tr>\n",
       "  </tbody>\n",
       "</table>\n",
       "</div>"
      ],
      "text/plain": [
       "                Winner  Loser  w_per_match  matches\n",
       "Federer R.         945    189        0.833     1134\n",
       "Djokovic N.        664    135        0.831      799\n",
       "Nadal R.           777    163        0.827      940\n",
       "Nargiso D.           8      2        0.800       10\n",
       "Murray A.          541    159        0.773      700\n",
       "Agassi A.          213     65        0.766      278\n",
       "Roddick A.         525    168        0.758      693\n",
       "Sampras P.          65     24        0.730       89\n",
       "Del Potro-J.M.     349    138        0.717      487\n",
       "Hewitt L.          405    176        0.697      581"
      ]
     },
     "execution_count": 80,
     "metadata": {},
     "output_type": "execute_result"
    }
   ],
   "source": [
    "# w_per_match = Nb of won matches / Nb of lost matches\n",
    "win_loss['w_per_match'] = round(win_loss.Winner / (win_loss.Winner + win_loss.Loser),3)\n",
    "win_loss['matches'] = win_loss.Winner + win_loss.Loser\n",
    "win_loss.sort_values('w_per_match', ascending=False, inplace=True)\n",
    "win_loss.head(10)"
   ]
  },
  {
   "cell_type": "markdown",
   "metadata": {
    "id": "167026b2"
   },
   "source": [
    "#### Is there a correlation between performance and the number of matches played ?\n",
    "##### Let's do a statistical test : test de pearson"
   ]
  },
  {
   "cell_type": "markdown",
   "metadata": {
    "id": "f08eb773"
   },
   "source": [
    "###### H0 : There is no correlation between performance and the number of matches played"
   ]
  },
  {
   "cell_type": "code",
   "execution_count": 83,
   "metadata": {
    "colab": {
     "base_uri": "https://localhost:8080/"
    },
    "id": "3e9f4c4e",
    "outputId": "a2a3e945-9f95-436d-e39c-f529ec0dfe8f"
   },
   "outputs": [
    {
     "ename": "ValueError",
     "evalue": "DataFrame constructor not properly called!",
     "output_type": "error",
     "traceback": [
      "\u001b[1;31m---------------------------------------------------------------------------\u001b[0m",
      "\u001b[1;31mValueError\u001b[0m                                Traceback (most recent call last)",
      "\u001b[1;32m<ipython-input-83-84303da1f6d7>\u001b[0m in \u001b[0;36m<module>\u001b[1;34m()\u001b[0m\n\u001b[0;32m      2\u001b[0m \u001b[1;33m\u001b[0m\u001b[0m\n\u001b[0;32m      3\u001b[0m \u001b[0mtest\u001b[0m \u001b[1;33m=\u001b[0m \u001b[0mpearsonr\u001b[0m\u001b[1;33m(\u001b[0m\u001b[0mwin_loss\u001b[0m\u001b[1;33m.\u001b[0m\u001b[0mw_per_match\u001b[0m\u001b[1;33m,\u001b[0m \u001b[0mwin_loss\u001b[0m\u001b[1;33m.\u001b[0m\u001b[0mmatches\u001b[0m\u001b[1;33m)\u001b[0m\u001b[1;33m\u001b[0m\u001b[0m\n\u001b[1;32m----> 4\u001b[1;33m \u001b[0mpd\u001b[0m\u001b[1;33m.\u001b[0m\u001b[0mDataFrame\u001b[0m\u001b[1;33m(\u001b[0m\u001b[0mpearsonr\u001b[0m\u001b[1;33m(\u001b[0m\u001b[0mwin_loss\u001b[0m\u001b[1;33m.\u001b[0m\u001b[0mw_per_match\u001b[0m\u001b[1;33m,\u001b[0m \u001b[0mwin_loss\u001b[0m\u001b[1;33m.\u001b[0m\u001b[0mmatches\u001b[0m\u001b[1;33m)\u001b[0m\u001b[1;33m,\u001b[0m \u001b[0mindex\u001b[0m\u001b[1;33m=\u001b[0m\u001b[1;33m[\u001b[0m\u001b[1;34m'pearson_coeff'\u001b[0m\u001b[1;33m,\u001b[0m\u001b[1;34m'p-value'\u001b[0m\u001b[1;33m]\u001b[0m\u001b[1;33m,\u001b[0m \u001b[0mcolumns\u001b[0m\u001b[1;33m=\u001b[0m\u001b[1;33m[\u001b[0m\u001b[1;34m'resultat_test'\u001b[0m\u001b[1;33m]\u001b[0m\u001b[1;33m)\u001b[0m\u001b[1;33m\u001b[0m\u001b[0m\n\u001b[0m",
      "\u001b[1;32mC:\\ProgramData\\Anaconda3\\lib\\site-packages\\pandas\\core\\frame.py\u001b[0m in \u001b[0;36m__init__\u001b[1;34m(self, data, index, columns, dtype, copy)\u001b[0m\n\u001b[0;32m    402\u001b[0m                                          dtype=values.dtype, copy=False)\n\u001b[0;32m    403\u001b[0m             \u001b[1;32melse\u001b[0m\u001b[1;33m:\u001b[0m\u001b[1;33m\u001b[0m\u001b[0m\n\u001b[1;32m--> 404\u001b[1;33m                 \u001b[1;32mraise\u001b[0m \u001b[0mValueError\u001b[0m\u001b[1;33m(\u001b[0m\u001b[1;34m'DataFrame constructor not properly called!'\u001b[0m\u001b[1;33m)\u001b[0m\u001b[1;33m\u001b[0m\u001b[0m\n\u001b[0m\u001b[0;32m    405\u001b[0m \u001b[1;33m\u001b[0m\u001b[0m\n\u001b[0;32m    406\u001b[0m         \u001b[0mNDFrame\u001b[0m\u001b[1;33m.\u001b[0m\u001b[0m__init__\u001b[0m\u001b[1;33m(\u001b[0m\u001b[0mself\u001b[0m\u001b[1;33m,\u001b[0m \u001b[0mmgr\u001b[0m\u001b[1;33m,\u001b[0m \u001b[0mfastpath\u001b[0m\u001b[1;33m=\u001b[0m\u001b[1;32mTrue\u001b[0m\u001b[1;33m)\u001b[0m\u001b[1;33m\u001b[0m\u001b[0m\n",
      "\u001b[1;31mValueError\u001b[0m: DataFrame constructor not properly called!"
     ]
    }
   ],
   "source": [
    "from scipy.stats import pearsonr\n",
    "\n",
    "test = pearsonr(win_loss.w_per_match, win_loss.matches)\n",
    "pd.DataFrame(pearsonr(win_loss.w_per_match, win_loss.matches), index=['pearson_coeff','p-value'], columns=['resultat_test'])"
   ]
  },
  {
   "cell_type": "markdown",
   "metadata": {
    "id": "151e18ec"
   },
   "source": [
    "##### We can reject the null hypothesis and conclude that the 2 variables are very dependent because the Pearson coefficient is close to 1 and the p-value is <<< 5%."
   ]
  },
  {
   "cell_type": "markdown",
   "metadata": {
    "id": "3c004614"
   },
   "source": [
    "##### Let's check this graphically"
   ]
  },
  {
   "cell_type": "code",
   "execution_count": null,
   "metadata": {
    "colab": {
     "base_uri": "https://localhost:8080/"
    },
    "id": "f24f1a9a",
    "outputId": "40965aa2-962f-4518-9f47-cbf9ae5b53c6"
   },
   "outputs": [],
   "source": [
    "sns.boxplot(x='matches', data=win_loss);"
   ]
  },
  {
   "cell_type": "markdown",
   "metadata": {
    "id": "fa31a098"
   },
   "source": [
    "##### The number of matches played varies greatly. We can split the data based on the number of games played"
   ]
  },
  {
   "cell_type": "code",
   "execution_count": null,
   "metadata": {
    "colab": {
     "base_uri": "https://localhost:8080/"
    },
    "id": "987bc922",
    "outputId": "f355a46a-4163-46f4-fbf8-9ffb217223e6"
   },
   "outputs": [],
   "source": [
    "labels = ['Very irregular player', 'Irregular player', 'Regular player', 'Very regular player']\n",
    "win_loss['cat_match'] = pd.cut(x=win_loss.matches, bins=4, labels=labels)\n",
    "win_loss.head()"
   ]
  },
  {
   "cell_type": "code",
   "execution_count": null,
   "metadata": {
    "colab": {
     "base_uri": "https://localhost:8080/"
    },
    "id": "c949c078",
    "outputId": "d07a365c-006f-48b4-cbde-15e3fa59fd95"
   },
   "outputs": [],
   "source": [
    "plt.figure(figsize=(13,7))\n",
    "sns.boxplot(x='cat_match', y='w_per_match', data=win_loss)\n",
    "plt.title('Performances distribution');"
   ]
  },
  {
   "cell_type": "markdown",
   "metadata": {
    "id": "4e4ac23d"
   },
   "source": [
    "##### The more matches we play, the better the performance. The more you play, the more chances you have of winning. The graph the conclusions of the pearson test."
   ]
  },
  {
   "cell_type": "code",
   "execution_count": null,
   "metadata": {
    "colab": {
     "base_uri": "https://localhost:8080/"
    },
    "id": "ad2c89b1",
    "outputId": "78f21e1d-4485-49c7-d4a6-92012011d8b1"
   },
   "outputs": [],
   "source": [
    "# Performance of those who have played more than 157 matches (the last quantiles)\n",
    "\n",
    "# Top 20 performces\n",
    "\n",
    "plt.figure(figsize=(14,7))\n",
    "\n",
    "plt.subplot(121)\n",
    "data = win_loss.loc[win_loss.cat_match >= 'Regular player'].head(20)\n",
    "x, y = data.w_per_match, data.index\n",
    "sns.barplot(x=x, y=y, data=data, order = y, orient='h'); plt.xlim((0.6, None));\n",
    "plt.title('Top 20 performance'); plt.grid(b=True);\n",
    "\n",
    "# Flop 20\n",
    "plt.subplot(122)\n",
    "data = win_loss.loc[win_loss.cat_match >= 'Regular player'].tail(20)\n",
    "x, y = data.w_per_match, data.index\n",
    "sns.barplot(x=x, y=y, data=data, order=y, orient='h'); plt.xlim((0.45, None)); \n",
    "plt.title('Flop 20 performance'); plt.grid(b=True);"
   ]
  },
  {
   "cell_type": "markdown",
   "metadata": {
    "id": "2ce6034e"
   },
   "source": [
    "##### Players who have played more than 157 matches win more than 60% of their matches."
   ]
  },
  {
   "cell_type": "markdown",
   "metadata": {
    "id": "5c9c231c"
   },
   "source": [
    "#### Is there a correlation between performance and the type of tournament played? Let's proceed with a statistical test: ANOVA test"
   ]
  },
  {
   "cell_type": "markdown",
   "metadata": {
    "id": "da2cae60"
   },
   "source": [
    "### 2.3. Performances by series type"
   ]
  },
  {
   "cell_type": "code",
   "execution_count": null,
   "metadata": {
    "colab": {
     "base_uri": "https://localhost:8080/"
    },
    "id": "5c0f5945",
    "outputId": "78d7ff57-1895-4d5c-a795-2363121f1032"
   },
   "outputs": [],
   "source": [
    "#buffer dataFrame\n",
    "winner_tampon = pd.DataFrame(df1[['Winner', 'Series']].value_counts()).reset_index()\n",
    "winner_tampon.rename({'Winner' : 'Player', 0: 'Winner'}, inplace=True, axis=1)\n",
    "#winner_tampon.set_index('Player', inplace=True)\n",
    "\n",
    "loser_tampon = pd.DataFrame(df1[['Loser', 'Series']].value_counts()).reset_index()\n",
    "loser_tampon.rename({'Loser' : 'Player', 0: 'Loser'}, inplace=True, axis=1)\n",
    "#loser_tampon.set_index('Player', inplace=True)\n",
    "\n",
    "win_loss_ser = winner_tampon.merge(right=loser_tampon, on=['Player','Series'], how='right')\n",
    "\n",
    "win_loss_ser"
   ]
  },
  {
   "cell_type": "code",
   "execution_count": null,
   "metadata": {
    "id": "fdb49f26"
   },
   "outputs": [],
   "source": [
    "win_loss_ser = win_loss_ser.fillna(0)"
   ]
  },
  {
   "cell_type": "code",
   "execution_count": null,
   "metadata": {
    "id": "84a505ab"
   },
   "outputs": [],
   "source": [
    "win_loss_ser['matches'] = win_loss_ser.Winner + win_loss_ser.Loser\n",
    "win_loss_ser['w_per_match'] = round(win_loss_ser.Winner / win_loss_ser.matches,3)\n",
    "\n",
    "win_loss_ser.sort_values(by = ['w_per_match', 'Series'], ascending=False, inplace=True)\n",
    "win_loss_ser.set_index('Player', inplace=True)"
   ]
  },
  {
   "cell_type": "markdown",
   "metadata": {
    "id": "adbc56d5"
   },
   "source": [
    "##### H0 : Performance and tournament type are independent"
   ]
  },
  {
   "cell_type": "code",
   "execution_count": null,
   "metadata": {
    "colab": {
     "base_uri": "https://localhost:8080/"
    },
    "id": "e74a1ed5",
    "outputId": "9f40908a-ef3c-4574-de1f-cce4eaa94cb1"
   },
   "outputs": [],
   "source": [
    "import statsmodels.api\n",
    "\n",
    "result = statsmodels.formula.api.ols('w_per_match ~ Series', data=win_loss_ser).fit()\n",
    "table = statsmodels.api.stats.anova_lm(result)\n",
    "\n",
    "table"
   ]
  },
  {
   "cell_type": "markdown",
   "metadata": {
    "id": "7b62d416"
   },
   "source": [
    "##### The p-value (PR(>F)) is < 5%, so we reject the null hypothesis"
   ]
  },
  {
   "cell_type": "code",
   "execution_count": null,
   "metadata": {
    "id": "a971216a"
   },
   "outputs": [],
   "source": [
    "labels = ['Very irregular player', 'Irregular player', 'Regular player', 'Very regular player']\n",
    "win_loss_ser['cat_match'] = pd.cut(x=win_loss_ser.matches, bins=4, labels=labels)"
   ]
  },
  {
   "cell_type": "code",
   "execution_count": null,
   "metadata": {
    "colab": {
     "base_uri": "https://localhost:8080/"
    },
    "id": "b28218a3",
    "outputId": "c636b05b-cdeb-426c-fc1d-35a15afaa100"
   },
   "outputs": [],
   "source": [
    "# Graphical verification \n",
    "\n",
    "plt.figure(figsize=(16,7))\n",
    "sns.boxplot(data=win_loss_ser, x='Series', y='w_per_match', hue='cat_match')\n",
    "plt.title('Distribution des performances');"
   ]
  },
  {
   "cell_type": "markdown",
   "metadata": {
    "id": "30cc6888"
   },
   "source": [
    "##### Best players performance"
   ]
  },
  {
   "cell_type": "code",
   "execution_count": null,
   "metadata": {
    "colab": {
     "base_uri": "https://localhost:8080/"
    },
    "id": "cdc37e64",
    "outputId": "a67a986b-3256-4d3d-e95f-a1324f9ff062"
   },
   "outputs": [],
   "source": [
    "# Top 20 performces\n",
    "\n",
    "plt.figure(figsize=(14,14))\n",
    "\n",
    "y_uniq = win_loss_ser.head(40).index.unique()\n",
    "\n",
    "data = win_loss_ser.loc[win_loss_ser.index.isin(y_uniq)]\n",
    "x, y = data.w_per_match, data.index\n",
    "sns.barplot(x=x, y=y, data=data, hue='Series', orient='h'); plt.xlim((0.7, None));\n",
    "plt.title('Top 20 performance'); plt.grid();"
   ]
  },
  {
   "cell_type": "markdown",
   "metadata": {
    "id": "e0ffc87e"
   },
   "source": [
    "#### Is there a correlation between performance and the type of court?\n",
    "##### Let's proceed with a statistical test: ANOVA test"
   ]
  },
  {
   "cell_type": "markdown",
   "metadata": {
    "id": "dc650ba0"
   },
   "source": [
    "### 2.3. Performances en fonction du type de court"
   ]
  },
  {
   "cell_type": "code",
   "execution_count": null,
   "metadata": {
    "colab": {
     "base_uri": "https://localhost:8080/"
    },
    "id": "d6729ce3",
    "outputId": "99e33164-76d6-4062-c32d-3e6fec536f79"
   },
   "outputs": [],
   "source": [
    "# buffer dataFrame\n",
    "winner_tampon = pd.DataFrame(df1[['Winner', 'Court']].value_counts()).reset_index()\n",
    "winner_tampon.rename({'Winner' : 'Player', 0: 'Winner'}, inplace=True, axis=1)\n",
    "\n",
    "loser_tampon = pd.DataFrame(df1[['Loser', 'Court']].value_counts()).reset_index()\n",
    "loser_tampon.rename({'Loser' : 'Player', 0: 'Loser'}, inplace=True, axis=1)\n",
    "\n",
    "win_loss_cou = winner_tampon.merge(right=loser_tampon, on=['Player','Court'], how='right')\n",
    "\n",
    "win_loss_cou"
   ]
  },
  {
   "cell_type": "code",
   "execution_count": null,
   "metadata": {
    "id": "0f4839c7"
   },
   "outputs": [],
   "source": [
    "win_loss_cou = win_loss_cou.fillna(0)"
   ]
  },
  {
   "cell_type": "code",
   "execution_count": null,
   "metadata": {
    "colab": {
     "base_uri": "https://localhost:8080/"
    },
    "id": "53b8c5a5",
    "outputId": "baca5fa1-ccb9-4967-e0c1-cfdcde0741f5"
   },
   "outputs": [],
   "source": [
    "win_loss_cou['matches'] = win_loss_cou.Winner + win_loss_cou.Loser\n",
    "win_loss_cou['w_per_match'] = round(win_loss_cou.Winner / win_loss_cou.matches,3)\n",
    "\n",
    "win_loss_cou.sort_values(by = ['w_per_match', 'Player', 'Court'], ascending=False, inplace=True)\n",
    "win_loss_cou"
   ]
  },
  {
   "cell_type": "markdown",
   "metadata": {
    "id": "1dbe4731"
   },
   "source": [
    "##### H0 : Performance and tournament type are independent"
   ]
  },
  {
   "cell_type": "code",
   "execution_count": null,
   "metadata": {
    "colab": {
     "base_uri": "https://localhost:8080/"
    },
    "id": "dc2693f8",
    "outputId": "5d3cbf92-5d68-42f3-c4db-e725557f75ca"
   },
   "outputs": [],
   "source": [
    "import statsmodels.api\n",
    "\n",
    "result = statsmodels.formula.api.ols('w_per_match ~ Court', data=win_loss_cou).fit()\n",
    "table = statsmodels.api.stats.anova_lm(result)\n",
    "\n",
    "table"
   ]
  },
  {
   "cell_type": "markdown",
   "metadata": {
    "id": "21176c53"
   },
   "source": [
    "##### The p-value (PR(>F)) is < 5%, so we reject the null hypothesis"
   ]
  },
  {
   "cell_type": "code",
   "execution_count": null,
   "metadata": {
    "id": "c8c5c6eb"
   },
   "outputs": [],
   "source": [
    "win_loss_cou['cat_match'] = pd.cut(x=win_loss_cou.matches, bins=4, labels=labels)"
   ]
  },
  {
   "cell_type": "code",
   "execution_count": null,
   "metadata": {
    "colab": {
     "base_uri": "https://localhost:8080/"
    },
    "id": "0663ce7b",
    "outputId": "ece76263-0227-44d1-b7be-f1a244aa6de2"
   },
   "outputs": [],
   "source": [
    "# Graphical verification\n",
    "\n",
    "plt.figure(figsize=(16,7))\n",
    "sns.violinplot(data=win_loss_cou, x='Court', y='w_per_match', hue='cat_match')\n",
    "plt.title('Distribution des performances');"
   ]
  },
  {
   "cell_type": "markdown",
   "metadata": {
    "id": "1e74ff86"
   },
   "source": [
    "##### The graph confirms the statistical test"
   ]
  },
  {
   "cell_type": "markdown",
   "metadata": {
    "id": "5b6ee2a8"
   },
   "source": [
    "##### Best players performance"
   ]
  },
  {
   "cell_type": "code",
   "execution_count": null,
   "metadata": {
    "colab": {
     "base_uri": "https://localhost:8080/"
    },
    "id": "8a63d7bc",
    "outputId": "0c818417-e624-4afd-a0b2-b754efff59b6",
    "scrolled": false
   },
   "outputs": [],
   "source": [
    "# Top 20 performces\n",
    "\n",
    "plt.figure(figsize=(14,14))\n",
    "\n",
    "y_uniq = win_loss_cou.head(30).Player.unique()\n",
    "\n",
    "data = win_loss_cou.loc[win_loss_cou.Player.isin(y_uniq)]\n",
    "x, y = data.w_per_match, data.Player\n",
    "sns.barplot(x=x, y=y, data=data, hue='Court', orient='h'); plt.xlim((0.65, None));\n",
    "plt.title('Top 20 performance'); plt.grid();"
   ]
  },
  {
   "cell_type": "markdown",
   "metadata": {
    "id": "6a4aa14f"
   },
   "source": [
    "#### Is there a correlation between performance and surface type?\n",
    "##### Let's proceed with a statistical test: ANOVA test"
   ]
  },
  {
   "cell_type": "markdown",
   "metadata": {
    "id": "41953fd4"
   },
   "source": [
    "### 2.4. Performances pitch type"
   ]
  },
  {
   "cell_type": "code",
   "execution_count": null,
   "metadata": {
    "colab": {
     "base_uri": "https://localhost:8080/"
    },
    "id": "2b0b9add",
    "outputId": "b2d554ff-4f68-4d9c-98eb-e89589dcd1e3"
   },
   "outputs": [],
   "source": [
    "# buffer dataFrame\n",
    "\n",
    "winner_tampon = pd.DataFrame(df1[['Winner', 'Surface']].value_counts()).reset_index()\n",
    "winner_tampon.rename({'Winner' : 'Player', 0: 'Winner'}, inplace=True, axis=1)\n",
    "\n",
    "loser_tampon = pd.DataFrame(df1[['Loser', 'Surface']].value_counts()).reset_index()\n",
    "loser_tampon.rename({'Loser' : 'Player', 0: 'Loser'}, inplace=True, axis=1)\n",
    "\n",
    "win_loss_sur = winner_tampon.merge(right=loser_tampon, on=['Player','Surface'], how='right')\n",
    "\n",
    "# NAs\n",
    "\n",
    "win_loss_sur = win_loss_sur.fillna(0)\n",
    "\n",
    "win_loss_sur['matches'] = win_loss_sur.Winner + win_loss_sur.Loser\n",
    "win_loss_sur['w_per_match'] = round(win_loss_sur.Winner / win_loss_sur.matches,3)\n",
    "\n",
    "win_loss_sur.sort_values(by = ['w_per_match', 'Player', 'Surface'], ascending=False, inplace=True)\n",
    "display(win_loss_sur.head())\n",
    "\n",
    "# H0 : Performance and tournament type are independent\n",
    "\n",
    "import statsmodels.api\n",
    "\n",
    "result = statsmodels.formula.api.ols('w_per_match ~ Surface', data=win_loss_sur).fit()\n",
    "table = statsmodels.api.stats.anova_lm(result)\n",
    "\n",
    "display(table)\n",
    "\n",
    "# The p-value (PR(>F)) is < 5%, so we reject the null hypothesis\n",
    "\n",
    "win_loss_sur['cat_match'] = pd.cut(x=win_loss_sur.matches, bins=4, labels=labels)\n",
    "\n",
    "# Graphical verification\n",
    "\n",
    "plt.figure(figsize=(16,7))\n",
    "sns.boxenplot(x=win_loss_sur.Surface, y=win_loss_sur.w_per_match, hue=win_loss_sur['cat_match'])\n",
    "plt.title('Performances distribution');\n",
    "\n",
    "# The graph confirms the statistical test"
   ]
  },
  {
   "cell_type": "markdown",
   "metadata": {
    "id": "9d280ff6",
    "scrolled": true
   },
   "source": [
    "##### Best players performance"
   ]
  },
  {
   "cell_type": "code",
   "execution_count": null,
   "metadata": {
    "colab": {
     "base_uri": "https://localhost:8080/"
    },
    "id": "e41d8518",
    "outputId": "5bb5e639-5433-4cf1-ad14-c4f60d4c1d10",
    "scrolled": false
   },
   "outputs": [],
   "source": [
    "# Top 20 performces\n",
    "\n",
    "plt.figure(figsize=(14,10))\n",
    "\n",
    "y_uniq = win_loss_sur.head(30).Player.unique()\n",
    "\n",
    "data = win_loss_sur.loc[win_loss_sur.Player.isin(y_uniq)]\n",
    "x, y = data.w_per_match, data.Player\n",
    "sns.barplot(x=x, y=y, data=data, hue='Surface', orient='h'); plt.xlim((0.7, None));\n",
    "plt.title('Top 20 performance'); plt.grid();"
   ]
  },
  {
   "cell_type": "markdown",
   "metadata": {
    "id": "bb2e0e62"
   },
   "source": [
    "##### Apart from Federer who seems to be the most versatile player, we see that the surface has a strong influence on performance.\n",
    "##### Nadal is the most glaring example. He wins almost 93% of his matches on clay, but only wins 77% of matches on 'Hard'. That is about 16 delta points."
   ]
  },
  {
   "cell_type": "markdown",
   "metadata": {
    "id": "ca588bc7"
   },
   "source": [
    "### 2.5. Is the ranking hierarchy always respected?"
   ]
  },
  {
   "cell_type": "markdown",
   "metadata": {
    "id": "383b1b06"
   },
   "source": [
    "#### Proportion of matches won by Outsider"
   ]
  },
  {
   "cell_type": "code",
   "execution_count": null,
   "metadata": {
    "colab": {
     "base_uri": "https://localhost:8080/",
     "height": 238
    },
    "id": "0afbaecd",
    "outputId": "22596ef1-52d1-4a5e-e720-b93133324681"
   },
   "outputs": [],
   "source": [
    "outsider_tampon = pd.DataFrame(df1.loc[df1.WRank > df1.LRank, ['Series', 'Court', 'Surface']].value_counts(), \n",
    "                               columns=['outsider_win'])\n",
    "challenger_tampon = pd.DataFrame(df1.loc[-(df1.WRank > df1.LRank), ['Series', 'Court', 'Surface']].value_counts(), \n",
    "                                 columns=['challenger_win'])\n",
    "cha_out = challenger_tampon.join(outsider_tampon)\n",
    "cha_out.head()"
   ]
  },
  {
   "cell_type": "code",
   "execution_count": null,
   "metadata": {
    "colab": {
     "base_uri": "https://localhost:8080/",
     "height": 248
    },
    "id": "9da6aec5",
    "outputId": "180a8a96-0c5d-40a5-f508-5932cfc2a09b"
   },
   "outputs": [],
   "source": [
    "#plt.figure(figsize=(9,6))\n",
    "sizes=[cha_out.challenger_win.sum(), cha_out.outsider_win.sum()]\n",
    "plt.pie(sizes,labels=['Challenger Wins', 'Outsider Wins'], autopct=\"%.1f%%\")#, normalize=True)\n",
    "plt.show()"
   ]
  },
  {
   "cell_type": "markdown",
   "metadata": {
    "id": "59eed5f7"
   },
   "source": [
    "##### We observe that Challengers win approximately twice more than Outsiders"
   ]
  },
  {
   "cell_type": "markdown",
   "metadata": {
    "id": "adebae29"
   },
   "source": [
    "### 2.6 Bookmakers performance"
   ]
  },
  {
   "cell_type": "code",
   "execution_count": null,
   "metadata": {
    "colab": {
     "base_uri": "https://localhost:8080/",
     "height": 206
    },
    "id": "fb04ec91",
    "outputId": "9d721b3e-dd30-4c36-82b7-37a05d909edd"
   },
   "outputs": [],
   "source": [
    "df1.iloc[:,7:].head()"
   ]
  },
  {
   "cell_type": "code",
   "execution_count": null,
   "metadata": {
    "id": "bfa63f99"
   },
   "outputs": [],
   "source": [
    "# 3 possibilities : win for challenger, loss for challenger or draw"
   ]
  },
  {
   "cell_type": "code",
   "execution_count": null,
   "metadata": {
    "id": "bb0f47a1"
   },
   "outputs": [],
   "source": [
    "atp_challenger_win, atp_outsider_win, atp_draw = len(df1[df1.WRank < df1.LRank]), len(df1[df1.WRank > df1.LRank]), len(df1[df1.WRank == df1.LRank])\n",
    "\n",
    "ps_challenger_win, ps_outsider_win, ps_draw = len(df1[df1.PSW < df1.PSL]), len(df1[df1.PSW > df1.PSL]), len(df1[(df1.PSW == df1.PSL) & (df1.PSW != 1)])\n",
    "\n",
    "b365_challenger_win, b365_outsider_win, b365_draw = len(df1[df1.B365W < df1.B365L]), len(df1[df1.B365W > df1.B365L]), len(df1[(df1.B365W == df1.B365L) & (df1.B365W != 1)])\n",
    "\n",
    "elo_challenger_win, elo_outsider_win, elo_draw = len(df1[df1.proba_elo > 0.5]), len(df1[df1.proba_elo < 0.5]), len(df1[df1.proba_elo == 0.5])"
   ]
  },
  {
   "cell_type": "code",
   "execution_count": null,
   "metadata": {
    "colab": {
     "base_uri": "https://localhost:8080/",
     "height": 536
    },
    "id": "07e53d1c",
    "outputId": "910b721f-10bb-46ec-e2a1-38bf8b2b190b"
   },
   "outputs": [],
   "source": [
    "atp_results = [atp_challenger_win, atp_outsider_win, atp_draw]\n",
    "ps_results = [ps_challenger_win, ps_outsider_win, ps_draw]\n",
    "b365_results = [b365_challenger_win, b365_outsider_win, b365_draw]\n",
    "elo_results = [elo_challenger_win, elo_outsider_win, elo_draw]\n",
    "\n",
    "pie_charts = [atp_results, ps_results, b365_results, elo_results]\n",
    "fig = plt.figure(figsize=(16,9))\n",
    "\n",
    "ax1 = fig.add_subplot(221)\n",
    "ax1.pie(pie_charts[0], labels=['Challenger Wins', 'Outsider Wins', 'Draw'], autopct=\"%.1f%%\")#, normalize=True)\n",
    "ax1.set_title('atp_results')\n",
    "\n",
    "ax2 = fig.add_subplot(222)\n",
    "ax2.pie(pie_charts[1], labels=['Challenger Wins', 'Outsider Wins', 'Draw'], autopct=\"%.1f%%\")#, normalize=True)\n",
    "ax2.set_title('ps_results')\n",
    "\n",
    "ax3 = fig.add_subplot(223)\n",
    "ax3.pie(pie_charts[2], labels=['Challenger Wins', 'Outsider Wins', 'Draw'], autopct=\"%.1f%%\")#, normalize=True)\n",
    "ax3.set_title('b365_results')\n",
    "\n",
    "ax4 = fig.add_subplot(224)\n",
    "ax4.pie(pie_charts[3], labels=['Challenger Wins', 'Outsider Wins', 'Draw'], autopct=\"%.1f%%\")#, normalize=True)\n",
    "ax4.set_title('elo_results')\n",
    "plt.show();"
   ]
  },
  {
   "cell_type": "code",
   "execution_count": null,
   "metadata": {
    "id": "7e27a7ef"
   },
   "outputs": [],
   "source": [
    "# Bookmakers (B365 and PS) are right 70% of time. "
   ]
  },
  {
   "cell_type": "markdown",
   "metadata": {
    "id": "8ae08cb8"
   },
   "source": [
    "#### Do bookmakers always have the outsider and challenger ? "
   ]
  },
  {
   "cell_type": "code",
   "execution_count": null,
   "metadata": {
    "colab": {
     "base_uri": "https://localhost:8080/"
    },
    "id": "918551a7",
    "outputId": "ff2a22ee-5fcb-4fdf-a44e-32ebfcfbef06"
   },
   "outputs": [],
   "source": [
    "len(df1[(df1.PSW < df1.PSL) & (df1.B365W > df1.B365L)]) / len(df1) * 100"
   ]
  },
  {
   "cell_type": "markdown",
   "metadata": {
    "id": "cbfeab26"
   },
   "source": [
    "##### Yes they do."
   ]
  },
  {
   "cell_type": "markdown",
   "metadata": {
    "id": "d6a2af8b"
   },
   "source": [
    "# 3. Predictions - Model"
   ]
  },
  {
   "cell_type": "markdown",
   "metadata": {
    "id": "8e050ec5"
   },
   "source": [
    "### 3.1 Data preprocessing / Features engineering"
   ]
  },
  {
   "cell_type": "code",
   "execution_count": null,
   "metadata": {
    "id": "e035827f"
   },
   "outputs": [],
   "source": [
    "# Lets change the dataset structure"
   ]
  },
  {
   "cell_type": "code",
   "execution_count": null,
   "metadata": {
    "colab": {
     "base_uri": "https://localhost:8080/",
     "height": 395
    },
    "id": "a7478663",
    "outputId": "901403e8-4f9f-44dc-d80a-5b5f63779981"
   },
   "outputs": [],
   "source": [
    "display(df1.iloc[:,:10].head())\n",
    "df1.iloc[:,10:25].head()"
   ]
  },
  {
   "cell_type": "code",
   "execution_count": null,
   "metadata": {
    "colab": {
     "base_uri": "https://localhost:8080/",
     "height": 395
    },
    "id": "f6e689db",
    "outputId": "94d7f5d1-6821-4350-befb-e8977f906a5f",
    "scrolled": true
   },
   "outputs": [],
   "source": [
    "df2 = df1.copy()\n",
    "\n",
    "df2['player1'] = df2.Winner.copy()\n",
    "df2['player2'] = df2.Loser.copy()\n",
    "df2.drop('Loser', axis=1, inplace=True)\n",
    "df2.rename({'Winner': 'player1_wins', 'WRank': 'rank1', 'LRank': 'rank2', 'Wsets': 'sets1', 'Lsets': 'sets2',\n",
    "            'PSW': 'ps1', 'PSL': 'ps2', 'B365W': 'b365_1', 'B365L': 'b365_2', 'elo_winner': 'elo1', \n",
    "            'elo_loser': 'elo2', 'Date':'date'}, axis=1, inplace=True)\n",
    "\n",
    "df3 = df2.copy()\n",
    "\n",
    "df2.loc[:,'player1_wins'], df3.loc[:,'player1_wins'] = -1, 1\n",
    "\n",
    "df2.player1, df2.player2 = df3.player2, df3.player1\n",
    "df2.rank1, df2.rank2 = df3.rank2, df3.rank1\n",
    "df2.sets1, df2.sets2 = df3.sets2, df3.sets1\n",
    "df2.ps1, df2.ps2 = df3.ps2, df3.ps1\n",
    "df2.b365_1, df2.b365_2 = df3.b365_2, df3.b365_1\n",
    "df2.elo1, df2.elo2 = df3.elo2, df3.elo1\n",
    "\n",
    "df2 = df2.append(df3, ignore_index=True)\n",
    "del df3\n",
    "\n",
    "display(df2.iloc[:,:10].head())\n",
    "df2.iloc[:,10:].head()"
   ]
  },
  {
   "cell_type": "code",
   "execution_count": null,
   "metadata": {
    "id": "86ad0618"
   },
   "outputs": [],
   "source": [
    "df"
   ]
  },
  {
   "cell_type": "code",
   "execution_count": null,
   "metadata": {
    "id": "a55ccca3"
   },
   "outputs": [],
   "source": [
    "col_to_keep = col_prev_match + ['Tournament', 'Round', 'player1_wins', 'rank1', 'rank2', 'ps1', 'ps2', 'b365_1', 'b365_2',\n",
    "               'elo1', 'elo2', 'player1', 'player2']\n",
    "df_final = df2[col_to_keep]"
   ]
  },
  {
   "cell_type": "code",
   "execution_count": null,
   "metadata": {
    "colab": {
     "base_uri": "https://localhost:8080/",
     "height": 613
    },
    "id": "9e4cf16b",
    "outputId": "2e6f45cf-0de4-45c4-cd1b-9c93d2e770cb",
    "scrolled": true
   },
   "outputs": [],
   "source": [
    "df_final.iloc[30:40,:]"
   ]
  },
  {
   "cell_type": "code",
   "execution_count": null,
   "metadata": {
    "id": "b7ffd3e0",
    "scrolled": true
   },
   "outputs": [],
   "source": [
    "#df2.loc[df2.player1 == 'Luxa P.'].sort_values(by='date', ascending=False).iloc[:,[3,9,10,25,26,34,35]]"
   ]
  },
  {
   "cell_type": "code",
   "execution_count": null,
   "metadata": {
    "id": "e49be421"
   },
   "outputs": [],
   "source": [
    "data = df_final.drop(['player1_wins'], axis=1)\n",
    "target = df_final.player1_wins"
   ]
  },
  {
   "cell_type": "code",
   "execution_count": null,
   "metadata": {
    "id": "cc3e41aa"
   },
   "outputs": [],
   "source": [
    "X_train, X_test, y_train, y_test = train_test_split(data, target, train_size=.7)"
   ]
  },
  {
   "cell_type": "code",
   "execution_count": null,
   "metadata": {
    "id": "a20e119b"
   },
   "outputs": [],
   "source": [
    "X_train_num, X_test_num = X_train.select_dtypes(include=np.number), X_test.select_dtypes(include=np.number)\n",
    "X_train_cat1, X_test_cat1 = X_train[['Round']], X_test[['Round']]\n",
    "X_train_cat2, X_test_cat2 = X_train[['Tournament', 'player1', 'player2']], X_test[['Tournament', 'player1', 'player2']]"
   ]
  },
  {
   "cell_type": "code",
   "execution_count": null,
   "metadata": {
    "id": "6127fe58"
   },
   "outputs": [],
   "source": [
    "# We standardize numerical values :\n",
    "scaler = StandardScaler()\n",
    "X_train_num_scaled = pd.DataFrame(scaler.fit_transform(X_train_num), index=X_train.index, columns = X_train_num.columns)\n",
    "X_test_num_scaled = pd.DataFrame(scaler.transform(X_test_num), index=X_test.index, columns = X_test_num.columns)"
   ]
  },
  {
   "cell_type": "code",
   "execution_count": null,
   "metadata": {
    "colab": {
     "base_uri": "https://localhost:8080/"
    },
    "id": "2ac436df",
    "outputId": "8d50d1e9-21c8-4738-a3ba-9b1750d1226a"
   },
   "outputs": [],
   "source": [
    "# We encode our categorical values :\n",
    "oneh = OneHotEncoder(handle_unknown = 'ignore')\n",
    "\n",
    "X_train_cat_encod1 = pd.DataFrame(oneh.fit_transform(X_train_cat1).toarray(), index=X_train.index, columns = oneh.get_feature_names())\n",
    "X_test_cat_encod1 = pd.DataFrame(oneh.transform(X_test_cat1).toarray(), index=X_test.index, columns = oneh.get_feature_names())"
   ]
  },
  {
   "cell_type": "code",
   "execution_count": null,
   "metadata": {
    "id": "b1fdb5ca"
   },
   "outputs": [],
   "source": [
    "# We encode our categorical values :\n",
    "le1 = LabelEncoder()\n",
    "le2 = LabelEncoder()\n",
    "\n",
    "le2.fit(data.loc[:,'player1'].append(data.loc[:,'player2'], ignore_index=True).drop_duplicates())\n",
    "\n",
    "X_train_cat_encod2 = pd.DataFrame({X_train_cat2.columns[0] : le1.fit_transform(X_train_cat2.iloc[:,0]),\n",
    "                                   X_train_cat2.columns[1] : le2.transform(X_train_cat2.iloc[:,1]),\n",
    "                                   X_train_cat2.columns[2] : le2.transform(X_train_cat2.iloc[:,2])}, index=X_train.index)\n",
    "X_test_cat_encod2 = pd.DataFrame({X_test_cat2.columns[0] : le1.fit_transform(X_test_cat2.iloc[:,0]),\n",
    "                                   X_test_cat2.columns[1] : le2.transform(X_test_cat2.iloc[:,1]),\n",
    "                                   X_test_cat2.columns[2] : le2.transform(X_test_cat2.iloc[:,2])}, index=X_test.index)"
   ]
  },
  {
   "cell_type": "code",
   "execution_count": null,
   "metadata": {
    "id": "3a5cade7"
   },
   "outputs": [],
   "source": [
    "X_train = pd.concat([X_train_cat_encod1, X_train_cat_encod2, X_train_num_scaled], axis=1)\n",
    "X_test = pd.concat([X_test_cat_encod1, X_test_cat_encod2, X_test_num_scaled], axis=1)"
   ]
  },
  {
   "cell_type": "code",
   "execution_count": null,
   "metadata": {
    "id": "772de0d5"
   },
   "outputs": [],
   "source": [
    "#!conda install -c conda-forge py-xgboost\n",
    "#!pip install --user xgboost"
   ]
  },
  {
   "cell_type": "markdown",
   "metadata": {
    "id": "nnvFgNjoj9BJ"
   },
   "source": [
    "### 3.2 Model selection"
   ]
  },
  {
   "cell_type": "code",
   "execution_count": null,
   "metadata": {
    "colab": {
     "base_uri": "https://localhost:8080/"
    },
    "id": "af72f3f0",
    "outputId": "92125b22-b63b-4ffd-b1e0-55c2031e2356"
   },
   "outputs": [],
   "source": [
    "# Model definition\n",
    "lr = LogisticRegression()\n",
    "knn = KNeighborsClassifier(2)\n",
    "dt = DecisionTreeClassifier()\n",
    "rf = RandomForestClassifier()\n",
    "ac = AdaBoostClassifier()\n",
    "\n",
    "xg = xgboost.XGBClassifier()\n",
    "xg.fit(X_train, y_train.replace({-1:0}))\n",
    "xg.score(X_test, y_test.replace({-1:0}))\n",
    "\n",
    "# Model training\n",
    "lr.fit(X_train, y_train)\n",
    "print(\"score du lr : {}\".format(lr.score(X_test, y_test)))\n",
    "\n",
    "dt.fit(X_train, y_train)\n",
    "print(\"score du dt : {}\".format(dt.score(X_test, y_test)))\n",
    "\n",
    "ac.fit(X_train, y_train)\n",
    "print(\"score du ac : {}\".format(ac.score(X_test, y_test)))\n",
    "\n",
    "knn.fit(X_train, y_train)\n",
    "print(\"score du knn : {}\".format(knn.score(X_test, y_test)))\n",
    "\n",
    "rf.fit(X_train, y_train)\n",
    "print(\"score du rf : {}\".format(rf.score(X_test, y_test)))\n",
    "\n",
    "xg.fit(X_train, y_train.replace({-1:0}))\n",
    "print(\"score du xg : {}\".format(xg.score(X_test, y_test.replace({-1:0}))) )"
   ]
  },
  {
   "cell_type": "code",
   "execution_count": null,
   "metadata": {
    "colab": {
     "base_uri": "https://localhost:8080/",
     "height": 300
    },
    "id": "3121a690",
    "outputId": "91f70f33-936f-4cfe-bb48-fe2564d47de9"
   },
   "outputs": [],
   "source": [
    "# Model prediction\n",
    "y_pred_lr = lr.predict(X_test) \n",
    "\n",
    "# Classification report\n",
    "print(classification_report(y_test, y_pred_lr))\n",
    "\n",
    "# Correlation matrix\n",
    "pd.crosstab(y_test, y_pred_lr, rownames=['Real class'], colnames=['lr prediction class'])"
   ]
  },
  {
   "cell_type": "code",
   "execution_count": null,
   "metadata": {
    "id": "d6ed4dee"
   },
   "outputs": [],
   "source": [
    "# Our models struggle to overperform the bookmakers predictions.\n",
    "# As reminder, bookmakers hs a score close to 70%.\n",
    "# We must improve our model"
   ]
  },
  {
   "cell_type": "markdown",
   "metadata": {
    "id": "b859ce71"
   },
   "source": [
    "### 3.3 Hyperparameters tunning : Nested Cross-Validation"
   ]
  },
  {
   "cell_type": "code",
   "execution_count": null,
   "metadata": {
    "id": "aef1fb25"
   },
   "outputs": [],
   "source": [
    "# Model definition\n",
    "lr = LogisticRegression()\n",
    "knn = KNeighborsClassifier()\n",
    "rf = RandomForestClassifier()\n",
    "xg = xgboost.XGBClassifier()\n",
    "ac = AdaBoostClassifier(dt)"
   ]
  },
  {
   "cell_type": "code",
   "execution_count": null,
   "metadata": {
    "id": "a9b2d5ac"
   },
   "outputs": [],
   "source": [
    "param_grid_lr = {'C': np.linspace(0.05, 1, 20), \n",
    "              'penalty' : ['l1', 'l2'], \n",
    "              'solver' : ['lbfgs', 'liblinear']}\n",
    "\n",
    "param_grid_knn = {'n_neighbors' : np.arange(2,3), 'metric' : ['manhattan', 'minkowski']}\n",
    "\n",
    "param_grid_rf = {'n_jobs': [-1, 1, 10], 'criterion':[\"gini\", \"entropy\"]}\n",
    "\n",
    "param_grid_ac = {'base_estimator__max_depth' : [i for i in range(2,9,2)],\n",
    "              #'base_estimator__min_samples_leaf':[5,10],\n",
    "              #'n_estimators':[10,250,1000],\n",
    "              'learning_rate':[0.01,0.1]}\n",
    "\n",
    "param_grid_xg = {\"learning_rate\"    : [0.05, 0.03, 0.01] , \"booster\": ['gbtree', 'dart'],\n",
    " \"max_depth\"        : [7,9,10],\n",
    " \"gamma\"            : [0.4, 0.3, 0.2],\n",
    " \"colsample_bytree\" : [0.4, 0.3, 0.2] }"
   ]
  },
  {
   "cell_type": "code",
   "execution_count": null,
   "metadata": {
    "id": "02f70dfd",
    "scrolled": true
   },
   "outputs": [],
   "source": [
    "gridcvs = dict()\n",
    "gridcvs['lr'] = GridSearchCV(lr, param_grid_lr, scoring='accuracy', cv=3, refit=True)\n",
    "gridcvs['knn'] = GridSearchCV(knn, param_grid_knn, scoring='accuracy', cv=3, refit=True)\n",
    "gridcvs['rf'] = GridSearchCV(rf, param_grid_rf, scoring='accuracy', cv=3, refit=True)\n",
    "gridcvs['ac'] = GridSearchCV(ac, param_grid_ac, scoring='accuracy', cv=3, refit=True)\n",
    "gridcvs['xg'] = GridSearchCV(xg, param_grid_xg, scoring='accuracy', cv=3, refit=True).fit(X_train, y_train.replace({-1:0}))"
   ]
  },
  {
   "cell_type": "code",
   "execution_count": null,
   "metadata": {
    "colab": {
     "base_uri": "https://localhost:8080/"
    },
    "id": "57006218",
    "outputId": "ed4c9039-8aca-43b9-f797-23ba46dbebac"
   },
   "outputs": [],
   "source": [
    "import warnings\n",
    "warnings.filterwarnings('ignore')\n",
    "\n",
    "gridcvs['lr'].fit(X_train, y_train)\n",
    "resultats_cv = pd.DataFrame(gridcvs['lr'].cv_results_)[['params', 'mean_test_score', 'std_test_score']]\n",
    "display(resultats_cv.loc[resultats_cv.params == gridcvs['lr'].best_params_])\n",
    "resultats_cv"
   ]
  },
  {
   "cell_type": "code",
   "execution_count": null,
   "metadata": {
    "colab": {
     "base_uri": "https://localhost:8080/"
    },
    "id": "46c7d60c",
    "outputId": "3c91f680-7104-4fe7-80e5-0eeeddba2b94"
   },
   "outputs": [],
   "source": [
    "# No improvement"
   ]
  },
  {
   "cell_type": "code",
   "execution_count": null,
   "metadata": {},
   "outputs": [],
   "source": [
    "#dump(dt, 'C:\\\\Users\\\\00080609\\\\OneDrive - ENERCON\\\\GitHub\\\\PyBet\\\\PyBet---Bet\\\\Streamlit\\\\Models\\\\dt_pybet.joblib')\n",
    "#dump(knn, 'C:\\\\Users\\\\00080609\\\\OneDrive - ENERCON\\\\GitHub\\\\PyBet\\\\PyBet---Bet\\\\Streamlit\\\\Models\\\\knn_pybet.joblib')\n",
    "#dump(rf, 'C:\\\\Users\\\\00080609\\\\OneDrive - ENERCON\\\\GitHub\\\\PyBet\\\\PyBet---Bet\\\\Streamlit\\\\Models\\\\rf_pybet.joblib')\n",
    "dump(lr, 'C:\\\\Users\\\\00080609\\\\OneDrive - ENERCON\\\\GitHub\\\\PyBet\\\\PyBet---Bet\\\\Streamlit\\\\Models\\\\lr_pybet.joblib')"
   ]
  },
  {
   "cell_type": "code",
   "execution_count": null,
   "metadata": {},
   "outputs": [],
   "source": [
    "'''loaded_model = load('M:\\\\53-01-Reportings_KPI\\\\lr_pybet.joblib')\n",
    "\n",
    "loaded_model.predict(X_train)'''"
   ]
  },
  {
   "cell_type": "markdown",
   "metadata": {
    "id": "5Zuk4dGUjft6"
   },
   "source": [
    "# 4. Is it possible to win money ?"
   ]
  },
  {
   "cell_type": "markdown",
   "metadata": {
    "id": "g6RV4lhgkCYI"
   },
   "source": [
    "### Our model is not doing better than the bookmakers predictions. We can then follow their strategy and check if we can win.\n",
    "As the goal is to beat the bookmakers, we should find the best way to bet without loosing money. It imply not only to accurately forecast the winner, but also to choose the right game bet on."
   ]
  },
  {
   "cell_type": "markdown",
   "metadata": {
    "id": "89e52b03"
   },
   "source": [
    "###### Lets imagine we bet € 10 on Nadal with an odd of  1,5. Possible outcomes are :\n",
    "    - Nadal wins : I win € 15\n",
    "    - Nadal loose : I win € 0\n",
    "In the first case, our ROI (Return On Investment) is 50%.\n",
    "In the first case, our ROI (Return On Investment) is -100%.\n",
    "\n",
    "That is to say :\n",
    "    \n",
    "    ROI = (odd * bet - bet) / bet = odd - 1    if prediction right\n",
    "    ROI =                         = - 100 %    if prediction wrong\n",
    "\n",
    "To beat the bookmakers, ROI should be positive."
   ]
  },
  {
   "cell_type": "code",
   "execution_count": null,
   "metadata": {
    "id": "713e24ab"
   },
   "outputs": [],
   "source": [
    "def allocation_paris(base_cagnotte=0, mise_min=100, mise_max=1000, sureté=0.8):\n",
    "    y_pred_proba = lr.predict_proba(X_test) \n",
    "    \n",
    "    cagnotte = base_cagnotte\n",
    "    \n",
    "    mise_totale = 0\n",
    "    \n",
    "    y_pred_proba2 = [probas for probas in y_pred_proba]\n",
    "    \n",
    "    for i, probas in zip(y_test.index, y_pred_proba2):\n",
    "    #for i, probas in enumerate(y_pred_proba):    \n",
    "        cotes_1 = df_final[['ps1', 'b365_1']].loc[i]\n",
    "        cotes_2 = df_final[['ps2', 'b365_2']].loc[i]\n",
    "        \n",
    "        probas_test = probas[1]\n",
    "        if probas[1]>sureté:\n",
    "            if y_test.loc[i]==1:\n",
    "                print('bet {}€ on player1 victory -'.format(round(mise_min+(mise_max-mise_min)*(probas_test-sureté)/(1-sureté))) ,\n",
    "                      'match id {}'.format(i),\n",
    "                      'on {}, odd to {} -'.format(cotes_1.idxmax()[:-1], cotes_1.max()),\n",
    "                      'WIN!! - total : {}€'.format(cagnotte + round((mise_min+(mise_max-mise_min)*(probas_test-sureté)/(1-sureté))*(cotes_1.max()-1))))\n",
    "                cagnotte += round((mise_min+(mise_max-mise_min)*(probas_test-sureté)/(1-sureté))*(cotes_1.max()-1))\n",
    "            else:\n",
    "                print('bet {}€ on player1 victory -'.format(round(mise_min+(mise_max-mise_min)*(probas_test-sureté)/(1-sureté))) ,\n",
    "                      'on {}, odd to {} -'.format(cotes_2.idxmax()[:-1], cotes_2.max()),\n",
    "                      'LOOSE!! - total : {}€'.format(cagnotte - round(mise_min+(mise_max-mise_min)*(probas_test-sureté)/(1-sureté))))\n",
    "                cagnotte -= round(mise_min+(mise_max-mise_min)*(probas_test-sureté)/(1-sureté))\n",
    "            mise_totale += round(mise_min+(mise_max-mise_min)*(probas_test-sureté)/(1-sureté))\n",
    "        \n",
    "        probas_test = probas[0]\n",
    "        if probas[0]>sureté:\n",
    "            if y_test.loc[i]==-1:\n",
    "                print('bet {}€ on player2 victory -'.format(round(mise_min+(mise_max-mise_min)*(probas_test-sureté)/(1-sureté))) ,\n",
    "                      'on {}, odd to {} -'.format(cotes_2.idxmax()[:-1], cotes_2.max()),\n",
    "                      'WIN!! - total : {}€'.format(cagnotte + round((mise_min+(mise_max-mise_min)*(probas_test-sureté)/(1-sureté))*(cotes_2.max()-1))))\n",
    "                cagnotte += round((mise_min+(mise_max-mise_min)*(probas_test-sureté)/(1-sureté))*(cotes_2.max()-1))\n",
    "            else:\n",
    "                print('bet {}€ on player2 victory -'.format(round(mise_min+(mise_max-mise_min)*(probas_test-sureté)/(1-sureté))) ,\n",
    "                      'on {}, odd to {} -'.format(cotes_2.idxmax()[:-1], cotes_2.max()),\n",
    "                      'LOOSE!! - total : {}€'.format(cagnotte - round(mise_min+(mise_max-mise_min)*(probas_test-sureté)/(1-sureté))))\n",
    "                cagnotte -= round(mise_min+(mise_max-mise_min)*(probas_test-sureté)/(1-sureté))\n",
    "            mise_totale += round(mise_min+(mise_max-mise_min)*(probas_test-sureté)/(1-sureté))\n",
    "                \n",
    "        \n",
    "    print(\"La mise totale a été de \", mise_totale)\n",
    "    print(\"La cagnote est de \", cagnotte)\n",
    "    return cagnotte"
   ]
  },
  {
   "cell_type": "code",
   "execution_count": null,
   "metadata": {
    "id": "54f7c216"
   },
   "outputs": [],
   "source": [
    "def allocation_paris2(base_cagnotte=0, mise_min=100, mise_max=1000, sureté=0.8):\n",
    "    y_pred_proba = lr.predict_proba(X_test) \n",
    "    \n",
    "    cagnotte = base_cagnotte\n",
    "    \n",
    "    mise_totale = 0\n",
    "    \n",
    "    y_pred_proba2 = [probas for probas in y_pred_proba]\n",
    "    \n",
    "    for i, probas in zip(y_test.index, y_pred_proba2):\n",
    "    #for i, probas in enumerate(y_pred_proba):    \n",
    "        cotes_1 = df_final[['ps1', 'b365_1']].loc[i]\n",
    "        cotes_2 = df_final[['ps2', 'b365_2']].loc[i]\n",
    "        \n",
    "        probas_test = probas[1]\n",
    "        if probas_test>sureté:\n",
    "            if y_test.loc[i]==1:\n",
    "                cagnotte += round((mise_min+(mise_max-mise_min)*(probas_test-sureté)/(1-sureté))*(cotes_1.max()-1))\n",
    "            else:\n",
    "                cagnotte -= round(mise_min+(mise_max-mise_min)*(probas_test-sureté)/(1-sureté))\n",
    "            mise_totale += round(mise_min+(mise_max-mise_min)*(probas_test-sureté)/(1-sureté))\n",
    "        \n",
    "        probas_test = probas[0]\n",
    "        if probas_test>sureté:\n",
    "            if y_test.loc[i]==-1:\n",
    "                cagnotte += round((mise_min+(mise_max-mise_min)*(probas_test-sureté)/(1-sureté))*(cotes_2.max()-1))\n",
    "            else:\n",
    "                cagnotte -= round(mise_min+(mise_max-mise_min)*(probas_test-sureté)/(1-sureté))\n",
    "            mise_totale += round(mise_min+(mise_max-mise_min)*(probas_test-sureté)/(1-sureté))\n",
    "            \n",
    "    print('La cagnotte est de : ', cagnotte) \n",
    "    print('...Pour une mise totale de : ', mise_totale)"
   ]
  },
  {
   "cell_type": "code",
   "execution_count": null,
   "metadata": {},
   "outputs": [],
   "source": [
    "def allocation_paris3(base_cagnotte=0, mise_min=100, mise_max=1000, sureté=0.8):\n",
    "    y_pred_proba = lr.predict_proba(X_test) \n",
    "    \n",
    "    cagnotte = base_cagnotte\n",
    "    \n",
    "    mise_totale = 0\n",
    "    \n",
    "    y_pred_proba2 = [probas for probas in y_pred_proba]\n",
    "    \n",
    "    for i, probas in zip(y_test.index, y_pred_proba2):\n",
    "    #for i, probas in enumerate(y_pred_proba):    \n",
    "        cotes_1 = df_final[['ps1', 'b365_1']].loc[i]\n",
    "        cotes_2 = df_final[['ps2', 'b365_2']].loc[i]\n",
    "        \n",
    "        probas_test = probas[1]\n",
    "        if probas_test>sureté:\n",
    "            if y_test.loc[i]==1:\n",
    "                cagnotte += round((mise_min+(mise_max-mise_min)*(probas_test-sureté)/(1-sureté))*(cotes_1.max()-1))\n",
    "            else:\n",
    "                cagnotte -= round(mise_min+(mise_max-mise_min)*(probas_test-sureté)/(1-sureté))\n",
    "            mise_totale += round(mise_min+(mise_max-mise_min)*(probas_test-sureté)/(1-sureté))\n",
    "        \n",
    "        probas_test = probas[0]\n",
    "        if probas_test>sureté:\n",
    "            if y_test.loc[i]==-1:\n",
    "                cagnotte += round((mise_min+(mise_max-mise_min)*(probas_test-sureté)/(1-sureté))*(cotes_2.max()-1))\n",
    "            else:\n",
    "                cagnotte -= round(mise_min+(mise_max-mise_min)*(probas_test-sureté)/(1-sureté))\n",
    "            mise_totale += round(mise_min+(mise_max-mise_min)*(probas_test-sureté)/(1-sureté))\n",
    "            \n",
    "    return cagnotte"
   ]
  },
  {
   "cell_type": "code",
   "execution_count": null,
   "metadata": {
    "colab": {
     "base_uri": "https://localhost:8080/"
    },
    "id": "81d46533",
    "outputId": "9f20f4fd-f370-4891-cddd-c1c1897f0a8b",
    "scrolled": true
   },
   "outputs": [],
   "source": [
    "allocation_paris()"
   ]
  },
  {
   "cell_type": "code",
   "execution_count": null,
   "metadata": {},
   "outputs": [],
   "source": [
    "allocation_paris2()"
   ]
  },
  {
   "cell_type": "code",
   "execution_count": null,
   "metadata": {
    "id": "4331eeed"
   },
   "outputs": [],
   "source": [
    "security = np.arange(0.8,1,0.03)\n",
    "jackpot = []\n",
    "for i in security:\n",
    "    jackpot.append(allocation_paris3(sureté = i))\n",
    "jackpot = np.array(jackpot)"
   ]
  },
  {
   "cell_type": "code",
   "execution_count": null,
   "metadata": {
    "colab": {
     "base_uri": "https://localhost:8080/"
    },
    "id": "999922dc",
    "outputId": "176ca785-d790-46a2-a359-0e59668f142f"
   },
   "outputs": [],
   "source": [
    "plt.plot(security, jackpot);"
   ]
  },
  {
   "cell_type": "code",
   "execution_count": null,
   "metadata": {},
   "outputs": [],
   "source": [
    "# Conclusion\n",
    "# It is not possible to beat the bookmakers"
   ]
  },
  {
   "cell_type": "markdown",
   "metadata": {
    "id": "62b15135"
   },
   "source": [
    "# 5. Interpretability"
   ]
  },
  {
   "cell_type": "markdown",
   "metadata": {},
   "source": [
    "### 5.1 Skater : Features importance"
   ]
  },
  {
   "cell_type": "code",
   "execution_count": null,
   "metadata": {},
   "outputs": [],
   "source": [
    "pd.Series(np.abs(lr.coef_[0]), X_train.columns).sort_values(ascending=False).plot(kind='barh', figsize=(4,8));"
   ]
  },
  {
   "cell_type": "markdown",
   "metadata": {},
   "source": [
    "### 5.2 SHAP"
   ]
  },
  {
   "cell_type": "code",
   "execution_count": null,
   "metadata": {},
   "outputs": [],
   "source": [
    "#!pip install skater"
   ]
  },
  {
   "cell_type": "code",
   "execution_count": null,
   "metadata": {},
   "outputs": [],
   "source": [
    "#!pip install shap"
   ]
  },
  {
   "cell_type": "code",
   "execution_count": null,
   "metadata": {},
   "outputs": [],
   "source": [
    "import shap\n",
    "\n",
    "\n",
    "explainer = shap.LinearExplainer(lr, X_test)\n",
    "\n",
    "shap_values = explainer.shap_values(X_test)\n",
    "\n",
    "shap.summary_plot(shap_values, X_test, feature_names=X_test.columns)"
   ]
  },
  {
   "cell_type": "code",
   "execution_count": null,
   "metadata": {},
   "outputs": [],
   "source": [
    "shap.dependence_plot('ps1', shap_values, X_test, interaction_index= \"Tournament\")\n",
    "\n",
    "shap.dependence_plot('b365_2', shap_values, X_test, interaction_index= \"x0_The Final\")\n",
    "\n",
    "shap.dependence_plot(\"Tournament\", shap_values, X_test, interaction_index= \"x0_The Final\")"
   ]
  },
  {
   "cell_type": "code",
   "execution_count": null,
   "metadata": {},
   "outputs": [],
   "source": [
    "#Utiliser SHAP car PCA uniquement pour variable quantitatives\n",
    "#Models avec et sans bookmakers"
   ]
  }
 ],
 "metadata": {
  "colab": {
   "collapsed_sections": [
    "23ea5678",
    "18f77620",
    "693797fb",
    "21d983de",
    "62fe0090",
    "88cbed4a",
    "5c9c231c",
    "da2cae60",
    "dc650ba0",
    "41953fd4",
    "ca588bc7",
    "383b1b06",
    "adebae29",
    "8e050ec5",
    "b859ce71",
    "5Zuk4dGUjft6"
   ],
   "name": "pyBet.ipynb",
   "provenance": [],
   "toc_visible": true
  },
  "kernelspec": {
   "display_name": "Python 3",
   "language": "python",
   "name": "python3"
  },
  "language_info": {
   "codemirror_mode": {
    "name": "ipython",
    "version": 3
   },
   "file_extension": ".py",
   "mimetype": "text/x-python",
   "name": "python",
   "nbconvert_exporter": "python",
   "pygments_lexer": "ipython3",
   "version": "3.6.4"
  }
 },
 "nbformat": 4,
 "nbformat_minor": 5
}
