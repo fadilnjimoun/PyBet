{
 "cells": [
  {
   "cell_type": "markdown",
   "id": "9f7a9f93",
   "metadata": {},
   "source": [
    "# Titanic : Predict the survivors"
   ]
  },
  {
   "cell_type": "markdown",
   "id": "d5279b4c",
   "metadata": {},
   "source": [
    "#### The objective of this project is to try to beat bookmakers' algorithms on estimating the probability of a team winning a tennis match. In a first step we will study and apply methods to clean the dataset. Once the dataset is clean, a second step is to extract from the match history the characteristics that seem to be relevant to estimate the performance of a player (ranking, type of tournament, etc.). Finally, from these features, we will estimate the probability that a player A beats a player B."
   ]
  },
  {
   "cell_type": "markdown",
   "id": "ce876699",
   "metadata": {},
   "source": [
    "#### The dataset comes from the website (kaggle https://www.kaggle.com/edouardthomas/atp-matches-dataset) . This is a csv file csv atp_data.csv (from website tennis.co.uk data) listing all tennis matches between the years 2000 and 2018. The dataset contains 23 variables and 44 708 matches (rows)."
   ]
  },
  {
   "cell_type": "markdown",
   "id": "e371e2ce",
   "metadata": {
    "id": "4404e207"
   },
   "source": [
    "## Contents:\n",
    "\n",
    "1. Data Exploration & Cleaning\n",
    "2. Data Visualisation\n",
    "3. Features engineering\n",
    "4. ML\n",
    "5. ML test function\n",
    "6. Interpretability"
   ]
  },
  {
   "cell_type": "markdown",
   "id": "b23bbf3a",
   "metadata": {
    "id": "23ea5678"
   },
   "source": [
    "# 0. Loading of librairies"
   ]
  },
  {
   "cell_type": "code",
   "execution_count": 62,
   "id": "3e322f3e",
   "metadata": {
    "id": "7e5e693f"
   },
   "outputs": [],
   "source": [
    "import pandas as pd\n",
    "import numpy as np\n",
    "import matplotlib.pyplot as plt\n",
    "%matplotlib inline\n",
    "import seaborn as sns\n",
    "from datetime import datetime, timedelta\n",
    "\n",
    "from sklearn.model_selection import GridSearchCV, train_test_split, cross_val_score\n",
    "from sklearn.preprocessing import StandardScaler, OneHotEncoder, LabelEncoder\n",
    "\n",
    "# Classification models that will be used\n",
    "from sklearn.linear_model import LogisticRegression\n",
    "from sklearn.neighbors import KNeighborsClassifier\n",
    "from sklearn.ensemble import RandomForestClassifier\n",
    "from sklearn.model_selection import GridSearchCV\n",
    "from sklearn.tree import DecisionTreeClassifier\n",
    "\n",
    "from joblib import dump, load\n",
    "\n",
    "# Models evaluation\n",
    "from sklearn.metrics import classification_report, accuracy_score, roc_curve, auc"
   ]
  },
  {
   "cell_type": "markdown",
   "id": "5bd9e90d",
   "metadata": {
    "id": "18f77620"
   },
   "source": [
    "# 1. Data Exploration & Cleaning"
   ]
  },
  {
   "cell_type": "code",
   "execution_count": 63,
   "id": "f1c19e55",
   "metadata": {
    "colab": {
     "base_uri": "https://localhost:8080/",
     "height": 207
    },
    "id": "453b430b",
    "outputId": "bc7c467d-061d-425f-a803-4b831d7f7197"
   },
   "outputs": [
    {
     "data": {
      "text/html": [
       "<div>\n",
       "<style scoped>\n",
       "    .dataframe tbody tr th:only-of-type {\n",
       "        vertical-align: middle;\n",
       "    }\n",
       "\n",
       "    .dataframe tbody tr th {\n",
       "        vertical-align: top;\n",
       "    }\n",
       "\n",
       "    .dataframe thead th {\n",
       "        text-align: right;\n",
       "    }\n",
       "</style>\n",
       "<table border=\"1\" class=\"dataframe\">\n",
       "  <thead>\n",
       "    <tr style=\"text-align: right;\">\n",
       "      <th></th>\n",
       "      <th>PassengerId</th>\n",
       "      <th>Survived</th>\n",
       "      <th>Pclass</th>\n",
       "      <th>Name</th>\n",
       "      <th>Sex</th>\n",
       "      <th>Age</th>\n",
       "      <th>SibSp</th>\n",
       "      <th>Parch</th>\n",
       "      <th>Ticket</th>\n",
       "      <th>Fare</th>\n",
       "      <th>Cabin</th>\n",
       "      <th>Embarked</th>\n",
       "    </tr>\n",
       "  </thead>\n",
       "  <tbody>\n",
       "    <tr>\n",
       "      <th>0</th>\n",
       "      <td>1</td>\n",
       "      <td>0</td>\n",
       "      <td>3</td>\n",
       "      <td>Braund, Mr. Owen Harris</td>\n",
       "      <td>male</td>\n",
       "      <td>22.0</td>\n",
       "      <td>1</td>\n",
       "      <td>0</td>\n",
       "      <td>A/5 21171</td>\n",
       "      <td>7.2500</td>\n",
       "      <td>NaN</td>\n",
       "      <td>S</td>\n",
       "    </tr>\n",
       "    <tr>\n",
       "      <th>1</th>\n",
       "      <td>2</td>\n",
       "      <td>1</td>\n",
       "      <td>1</td>\n",
       "      <td>Cumings, Mrs. John Bradley (Florence Briggs Th...</td>\n",
       "      <td>female</td>\n",
       "      <td>38.0</td>\n",
       "      <td>1</td>\n",
       "      <td>0</td>\n",
       "      <td>PC 17599</td>\n",
       "      <td>71.2833</td>\n",
       "      <td>C85</td>\n",
       "      <td>C</td>\n",
       "    </tr>\n",
       "    <tr>\n",
       "      <th>2</th>\n",
       "      <td>3</td>\n",
       "      <td>1</td>\n",
       "      <td>3</td>\n",
       "      <td>Heikkinen, Miss. Laina</td>\n",
       "      <td>female</td>\n",
       "      <td>26.0</td>\n",
       "      <td>0</td>\n",
       "      <td>0</td>\n",
       "      <td>STON/O2. 3101282</td>\n",
       "      <td>7.9250</td>\n",
       "      <td>NaN</td>\n",
       "      <td>S</td>\n",
       "    </tr>\n",
       "  </tbody>\n",
       "</table>\n",
       "</div>"
      ],
      "text/plain": [
       "   PassengerId  Survived  Pclass  \\\n",
       "0            1         0       3   \n",
       "1            2         1       1   \n",
       "2            3         1       3   \n",
       "\n",
       "                                                Name     Sex   Age  SibSp  \\\n",
       "0                            Braund, Mr. Owen Harris    male  22.0      1   \n",
       "1  Cumings, Mrs. John Bradley (Florence Briggs Th...  female  38.0      1   \n",
       "2                             Heikkinen, Miss. Laina  female  26.0      0   \n",
       "\n",
       "   Parch            Ticket     Fare Cabin Embarked  \n",
       "0      0         A/5 21171   7.2500   NaN        S  \n",
       "1      0          PC 17599  71.2833   C85        C  \n",
       "2      0  STON/O2. 3101282   7.9250   NaN        S  "
      ]
     },
     "execution_count": 63,
     "metadata": {},
     "output_type": "execute_result"
    }
   ],
   "source": [
    "# 1st look of the train dataset\n",
    "\n",
    "url = \"C:/Users/fadil/SFR Cloud/Data/GitHub/Titanic/Dataset/train.csv\"\n",
    "train = pd.read_csv(url)\n",
    "\n",
    "train.head(3)"
   ]
  },
  {
   "cell_type": "code",
   "execution_count": 64,
   "id": "97cb318d",
   "metadata": {
    "scrolled": true
   },
   "outputs": [
    {
     "data": {
      "text/html": [
       "<div>\n",
       "<style scoped>\n",
       "    .dataframe tbody tr th:only-of-type {\n",
       "        vertical-align: middle;\n",
       "    }\n",
       "\n",
       "    .dataframe tbody tr th {\n",
       "        vertical-align: top;\n",
       "    }\n",
       "\n",
       "    .dataframe thead th {\n",
       "        text-align: right;\n",
       "    }\n",
       "</style>\n",
       "<table border=\"1\" class=\"dataframe\">\n",
       "  <thead>\n",
       "    <tr style=\"text-align: right;\">\n",
       "      <th></th>\n",
       "      <th>PassengerId</th>\n",
       "      <th>Pclass</th>\n",
       "      <th>Name</th>\n",
       "      <th>Sex</th>\n",
       "      <th>Age</th>\n",
       "      <th>SibSp</th>\n",
       "      <th>Parch</th>\n",
       "      <th>Ticket</th>\n",
       "      <th>Fare</th>\n",
       "      <th>Cabin</th>\n",
       "      <th>Embarked</th>\n",
       "    </tr>\n",
       "  </thead>\n",
       "  <tbody>\n",
       "    <tr>\n",
       "      <th>415</th>\n",
       "      <td>1307</td>\n",
       "      <td>3</td>\n",
       "      <td>Saether, Mr. Simon Sivertsen</td>\n",
       "      <td>male</td>\n",
       "      <td>38.5</td>\n",
       "      <td>0</td>\n",
       "      <td>0</td>\n",
       "      <td>SOTON/O.Q. 3101262</td>\n",
       "      <td>7.2500</td>\n",
       "      <td>NaN</td>\n",
       "      <td>S</td>\n",
       "    </tr>\n",
       "    <tr>\n",
       "      <th>416</th>\n",
       "      <td>1308</td>\n",
       "      <td>3</td>\n",
       "      <td>Ware, Mr. Frederick</td>\n",
       "      <td>male</td>\n",
       "      <td>NaN</td>\n",
       "      <td>0</td>\n",
       "      <td>0</td>\n",
       "      <td>359309</td>\n",
       "      <td>8.0500</td>\n",
       "      <td>NaN</td>\n",
       "      <td>S</td>\n",
       "    </tr>\n",
       "    <tr>\n",
       "      <th>417</th>\n",
       "      <td>1309</td>\n",
       "      <td>3</td>\n",
       "      <td>Peter, Master. Michael J</td>\n",
       "      <td>male</td>\n",
       "      <td>NaN</td>\n",
       "      <td>1</td>\n",
       "      <td>1</td>\n",
       "      <td>2668</td>\n",
       "      <td>22.3583</td>\n",
       "      <td>NaN</td>\n",
       "      <td>C</td>\n",
       "    </tr>\n",
       "  </tbody>\n",
       "</table>\n",
       "</div>"
      ],
      "text/plain": [
       "     PassengerId  Pclass                          Name   Sex   Age  SibSp  \\\n",
       "415         1307       3  Saether, Mr. Simon Sivertsen  male  38.5      0   \n",
       "416         1308       3           Ware, Mr. Frederick  male   NaN      0   \n",
       "417         1309       3      Peter, Master. Michael J  male   NaN      1   \n",
       "\n",
       "     Parch              Ticket     Fare Cabin Embarked  \n",
       "415      0  SOTON/O.Q. 3101262   7.2500   NaN        S  \n",
       "416      0              359309   8.0500   NaN        S  \n",
       "417      1                2668  22.3583   NaN        C  "
      ]
     },
     "execution_count": 64,
     "metadata": {},
     "output_type": "execute_result"
    }
   ],
   "source": [
    "# 1st look of the test dataset\n",
    "\n",
    "url = \"C:/Users/fadil/SFR Cloud/Data/GitHub/Titanic/Dataset/test.csv\"\n",
    "test = pd.read_csv(url)\n",
    "\n",
    "test.tail(3)"
   ]
  },
  {
   "cell_type": "code",
   "execution_count": 65,
   "id": "950bd1c3",
   "metadata": {},
   "outputs": [
    {
     "data": {
      "text/html": [
       "<div>\n",
       "<style scoped>\n",
       "    .dataframe tbody tr th:only-of-type {\n",
       "        vertical-align: middle;\n",
       "    }\n",
       "\n",
       "    .dataframe tbody tr th {\n",
       "        vertical-align: top;\n",
       "    }\n",
       "\n",
       "    .dataframe thead th {\n",
       "        text-align: right;\n",
       "    }\n",
       "</style>\n",
       "<table border=\"1\" class=\"dataframe\">\n",
       "  <thead>\n",
       "    <tr style=\"text-align: right;\">\n",
       "      <th></th>\n",
       "      <th>PassengerId</th>\n",
       "      <th>Survived</th>\n",
       "      <th>Pclass</th>\n",
       "      <th>Name</th>\n",
       "      <th>Sex</th>\n",
       "      <th>Age</th>\n",
       "      <th>SibSp</th>\n",
       "      <th>Parch</th>\n",
       "      <th>Ticket</th>\n",
       "      <th>Fare</th>\n",
       "      <th>Cabin</th>\n",
       "      <th>Embarked</th>\n",
       "    </tr>\n",
       "  </thead>\n",
       "  <tbody>\n",
       "    <tr>\n",
       "      <th>1307</th>\n",
       "      <td>1308</td>\n",
       "      <td>NaN</td>\n",
       "      <td>3</td>\n",
       "      <td>Ware, Mr. Frederick</td>\n",
       "      <td>male</td>\n",
       "      <td>NaN</td>\n",
       "      <td>0</td>\n",
       "      <td>0</td>\n",
       "      <td>359309</td>\n",
       "      <td>8.0500</td>\n",
       "      <td>NaN</td>\n",
       "      <td>S</td>\n",
       "    </tr>\n",
       "    <tr>\n",
       "      <th>1308</th>\n",
       "      <td>1309</td>\n",
       "      <td>NaN</td>\n",
       "      <td>3</td>\n",
       "      <td>Peter, Master. Michael J</td>\n",
       "      <td>male</td>\n",
       "      <td>NaN</td>\n",
       "      <td>1</td>\n",
       "      <td>1</td>\n",
       "      <td>2668</td>\n",
       "      <td>22.3583</td>\n",
       "      <td>NaN</td>\n",
       "      <td>C</td>\n",
       "    </tr>\n",
       "  </tbody>\n",
       "</table>\n",
       "</div>"
      ],
      "text/plain": [
       "      PassengerId  Survived  Pclass                      Name   Sex  Age  \\\n",
       "1307         1308       NaN       3       Ware, Mr. Frederick  male  NaN   \n",
       "1308         1309       NaN       3  Peter, Master. Michael J  male  NaN   \n",
       "\n",
       "      SibSp  Parch  Ticket     Fare Cabin Embarked  \n",
       "1307      0      0  359309   8.0500   NaN        S  \n",
       "1308      1      1    2668  22.3583   NaN        C  "
      ]
     },
     "execution_count": 65,
     "metadata": {},
     "output_type": "execute_result"
    }
   ],
   "source": [
    "# We concatenate the train and test datasets so we obtain a unique dataframe\n",
    "\n",
    "df = pd.concat([train, test], ignore_index=True)\n",
    "\n",
    "df.tail(2)"
   ]
  },
  {
   "cell_type": "code",
   "execution_count": 66,
   "id": "fce27b1a",
   "metadata": {
    "colab": {
     "base_uri": "https://localhost:8080/"
    },
    "id": "ab354d31",
    "outputId": "df07b779-8327-46e4-99b1-75e66c9218f2",
    "scrolled": false
   },
   "outputs": [
    {
     "name": "stdout",
     "output_type": "stream",
     "text": [
      "<class 'pandas.core.frame.DataFrame'>\n",
      "RangeIndex: 1309 entries, 0 to 1308\n",
      "Data columns (total 12 columns):\n",
      " #   Column       Non-Null Count  Dtype  \n",
      "---  ------       --------------  -----  \n",
      " 0   PassengerId  1309 non-null   int64  \n",
      " 1   Survived     891 non-null    float64\n",
      " 2   Pclass       1309 non-null   int64  \n",
      " 3   Name         1309 non-null   object \n",
      " 4   Sex          1309 non-null   object \n",
      " 5   Age          1046 non-null   float64\n",
      " 6   SibSp        1309 non-null   int64  \n",
      " 7   Parch        1309 non-null   int64  \n",
      " 8   Ticket       1309 non-null   object \n",
      " 9   Fare         1308 non-null   float64\n",
      " 10  Cabin        295 non-null    object \n",
      " 11  Embarked     1307 non-null   object \n",
      "dtypes: float64(3), int64(4), object(5)\n",
      "memory usage: 122.8+ KB\n"
     ]
    }
   ],
   "source": [
    "# Some information on the variables\n",
    "\n",
    "df.info()\n",
    "\n",
    "# We have 11 variables, 1 of whom continuous (quantitatives) and 10 categoricals (qualitatives)"
   ]
  },
  {
   "cell_type": "code",
   "execution_count": 67,
   "id": "fee77909",
   "metadata": {},
   "outputs": [],
   "source": [
    "# We rename columns name\n",
    "\n",
    "df.columns= df.columns.str.lower()"
   ]
  },
  {
   "cell_type": "code",
   "execution_count": 68,
   "id": "77387d36",
   "metadata": {
    "colab": {
     "base_uri": "https://localhost:8080/"
    },
    "id": "c9935e99",
    "outputId": "ef50a77f-4be7-4f93-9511-4a85e7427db6"
   },
   "outputs": [
    {
     "data": {
      "text/plain": [
       "0"
      ]
     },
     "execution_count": 68,
     "metadata": {},
     "output_type": "execute_result"
    }
   ],
   "source": [
    "# We check duplicates\n",
    "\n",
    "df.duplicated().sum()\n",
    "\n",
    "# There is no duplicates"
   ]
  },
  {
   "cell_type": "code",
   "execution_count": 69,
   "id": "f6d0b8c3",
   "metadata": {
    "colab": {
     "base_uri": "https://localhost:8080/"
    },
    "id": "a059f3dd",
    "outputId": "09cf9b37-ecd1-4e01-d39b-155db8b25aa5",
    "scrolled": true
   },
   "outputs": [
    {
     "data": {
      "text/plain": [
       "passengerid       0\n",
       "survived        418\n",
       "pclass            0\n",
       "name              0\n",
       "sex               0\n",
       "age             263\n",
       "sibsp             0\n",
       "parch             0\n",
       "ticket            0\n",
       "fare              1\n",
       "cabin          1014\n",
       "embarked          2\n",
       "dtype: int64"
      ]
     },
     "execution_count": 69,
     "metadata": {},
     "output_type": "execute_result"
    }
   ],
   "source": [
    "# We check missing values\n",
    "\n",
    "df.isnull().sum()"
   ]
  },
  {
   "cell_type": "code",
   "execution_count": 70,
   "id": "f4017849",
   "metadata": {},
   "outputs": [],
   "source": [
    "# Missing values\n",
    "\n",
    "# \"Survived\" NA values are related to the test dataset\n",
    "\n",
    "# \"Age\"\n",
    "df.loc[df.sex=='male', 'age'].fillna(df.loc[df.sex=='male', 'age'].mean(), inplace=True)\n",
    "df.loc[df.sex=='female', 'age'].fillna(df.loc[df.sex=='female', 'age'].mean(), inplace=True)\n",
    "\n",
    "# \"Fare\"\n",
    "df.fare.fillna(df.fare.mean(), inplace=True)\n",
    "\n",
    "# \"Cabin\"\n",
    "df.cabin.fillna(\"missing\", inplace=True)\n",
    "\n",
    "# \"Embarked\"\n",
    "df.embarked.fillna(\"missing\", inplace=True)"
   ]
  },
  {
   "cell_type": "code",
   "execution_count": 71,
   "id": "12d1dc88",
   "metadata": {},
   "outputs": [
    {
     "data": {
      "text/plain": [
       "passengerid    1309\n",
       "survived          2\n",
       "pclass            3\n",
       "name           1307\n",
       "sex               2\n",
       "age              98\n",
       "sibsp             7\n",
       "parch             8\n",
       "ticket          929\n",
       "fare            282\n",
       "cabin           187\n",
       "embarked          4\n",
       "dtype: int64"
      ]
     },
     "execution_count": 71,
     "metadata": {},
     "output_type": "execute_result"
    }
   ],
   "source": [
    "# We check occurences\n",
    "\n",
    "df.nunique()"
   ]
  },
  {
   "cell_type": "code",
   "execution_count": 72,
   "id": "d24fd206",
   "metadata": {
    "scrolled": true
   },
   "outputs": [
    {
     "name": "stdout",
     "output_type": "stream",
     "text": [
      "passengerid  unique values :  [   1    2    3 ... 1307 1308 1309]\n",
      "\t\n",
      "survived  unique values :  [ 0.  1. nan]\n",
      "\t\n",
      "pclass  unique values :  [1 2 3]\n",
      "\t\n",
      "name  unique values :  ['Abbing, Mr. Anthony' 'Abbott, Master. Eugene Joseph'\n",
      " 'Abbott, Mr. Rossmore Edward' ... 'van Billiard, Master. Walter John'\n",
      " 'van Billiard, Mr. Austin Blyler' 'van Melkebeke, Mr. Philemon']\n",
      "\t\n",
      "sex  unique values :  ['female' 'male']\n",
      "\t\n",
      "age  unique values :  [ 0.17  0.33  0.42  0.67  0.75  0.83  0.92  1.    2.    3.    4.    5.\n",
      "  6.    7.    8.    9.   10.   11.   11.5  12.   13.   14.   14.5  15.\n",
      " 16.   17.   18.   18.5  19.   20.   20.5  21.   22.   22.5  23.   23.5\n",
      " 24.   24.5  25.   26.   26.5  27.   28.   28.5  29.   30.   30.5  31.\n",
      " 32.   32.5  33.   34.   34.5  35.   36.   36.5  37.   38.   38.5  39.\n",
      " 40.   40.5  41.   42.   43.   44.   45.   45.5  46.   47.   48.   49.\n",
      " 50.   51.   52.   53.   54.   55.   55.5  56.   57.   58.   59.   60.\n",
      " 60.5  61.   62.   63.   64.   65.   66.   67.   70.   70.5  71.   74.\n",
      " 76.   80.     nan]\n",
      "\t\n",
      "sibsp  unique values :  [0 1 2 3 4 5 8]\n",
      "\t\n",
      "parch  unique values :  [0 1 2 3 4 5 6 9]\n",
      "\t\n",
      "ticket  unique values :  ['110152' '110413' '110465' '110469' '110489' '110564' '110813' '111163'\n",
      " '111240' '111320' '111361' '111369' '111426' '111427' '111428' '112050'\n",
      " '112051' '112052' '112053' '112058' '112059' '112277' '112377' '112378'\n",
      " '112379' '112901' '113028' '113038' '113043' '113044' '113050' '113051'\n",
      " '113054' '113055' '113056' '113059' '113501' '113503' '113505' '113509'\n",
      " '113510' '113514' '113572' '113760' '113767' '113773' '113776' '113778'\n",
      " '113780' '113781' '113783' '113784' '113786' '113787' '113788' '113789'\n",
      " '113790' '113791' '113792' '113794' '113795' '113796' '113798' '113800'\n",
      " '113801' '113803' '113804' '113806' '113807' '11668' '11751' '11752'\n",
      " '11753' '11755' '11765' '11767' '11769' '11770' '11771' '11774' '11778'\n",
      " '11813' '11967' '1222' '12233' '12460' '12749' '13049' '13050' '13213'\n",
      " '13214' '13236' '13502' '13507' '13508' '13509' '13567' '13568' '13695'\n",
      " '13905' '14311' '14312' '14313' '14973' '1601' '16966' '16988' '17421'\n",
      " '17453' '17463' '17464' '17465' '17466' '17474' '17475' '17764' '17765'\n",
      " '17770' '19877' '19924' '19928' '19943' '19947' '19950' '19952' '19972'\n",
      " '19988' '19996' '2003' '211535' '211536' '21228' '21332' '21440' '218629'\n",
      " '219533' '220367' '220844' '220845' '2223' '223596' '226593' '226875'\n",
      " '228414' '229236' '230080' '230136' '230433' '230434' '231919' '231945'\n",
      " '233478' '233639' '233734' '233866' '234360' '234604' '234686' '234818'\n",
      " '235509' '236171' '236852' '236853' '236854' '237216' '237249' '237393'\n",
      " '237442' '237565' '237668' '237670' '237671' '237734' '237735' '237736'\n",
      " '237789' '237798' '239059' '239853' '239854' '239855' '239856' '239865'\n",
      " '240261' '240276' '24065' '240929' '24160' '242963' '243847' '243880'\n",
      " '244252' '244270' '244278' '244310' '244346' '244358' '244360' '244361'\n",
      " '244367' '244368' '244373' '248659' '248698' '248706' '248723' '248726'\n",
      " '248727' '248731' '248733' '248734' '248738' '248740' '248744' '248746'\n",
      " '248747' '250643' '250644' '250646' '250647' '250648' '250649' '250650'\n",
      " '250651' '250652' '250653' '250655' '2543' '2620' '2621' '2622' '2623'\n",
      " '2624' '2625' '2626' '2627' '2628' '2629' '2631' '26360' '2641' '2647'\n",
      " '2648' '2649' '2650' '2651' '2652' '2653' '2654' '2655' '2656' '2657'\n",
      " '2658' '2659' '2660' '2661' '2662' '2663' '2664' '2665' '2666' '2667'\n",
      " '2668' '2669' '2670' '26707' '2671' '2672' '2673' '2674' '2675' '2676'\n",
      " '2677' '2678' '2679' '2680' '2681' '2682' '2683' '2684' '2685' '2686'\n",
      " '2687' '2688' '2689' '2690' '2691' '2692' '2693' '2694' '2695' '2696'\n",
      " '2697' '2698' '2699' '2700' '27042' '27267' '27849' '28004' '28034'\n",
      " '28133' '28134' '28206' '28213' '28220' '28221' '28228' '28403' '28404'\n",
      " '28424' '28425' '28551' '28664' '28665' '28666' '29011' '2908' '29103'\n",
      " '29104' '29105' '29106' '29107' '29108' '2926' '29750' '29751' '3101264'\n",
      " '3101265' '3101266' '3101267' '3101276' '3101277' '3101278' '3101281'\n",
      " '3101295' '3101296' '3101297' '3101298' '31027' '31028' '312991' '312992'\n",
      " '312993' '31418' '315037' '315082' '315083' '315084' '315085' '315086'\n",
      " '315087' '315088' '315089' '315090' '315091' '315092' '315093' '315094'\n",
      " '315095' '315096' '315097' '315098' '315151' '315152' '315153' '315154'\n",
      " '32302' '323592' '323951' '324669' '329944' '330844' '330877' '330909'\n",
      " '330910' '330911' '330919' '330920' '330923' '330924' '330931' '330932'\n",
      " '330935' '330958' '330959' '330963' '330968' '330971' '330972' '330979'\n",
      " '330980' '334912' '334914' '334915' '335097' '335432' '335677' '33638'\n",
      " '336439' '3410' '3411' '341826' '34218' '342441' '342684' '342712'\n",
      " '342826' '343095' '343120' '343271' '343275' '343276' '345364' '345498'\n",
      " '345501' '345572' '345763' '345764' '345765' '345767' '345768' '345769'\n",
      " '345770' '345771' '345773' '345774' '345775' '345777' '345778' '345779'\n",
      " '345780' '345781' '345783' '3460' '3470' '347054' '347060' '347061'\n",
      " '347062' '347063' '347064' '347065' '347066' '347067' '347068' '347069'\n",
      " '347070' '347071' '347072' '347073' '347074' '347075' '347076' '347077'\n",
      " '347078' '347079' '347080' '347081' '347082' '347083' '347085' '347086'\n",
      " '347087' '347088' '347089' '347090' '347091' '3474' '347464' '347465'\n",
      " '347466' '347467' '347468' '347469' '347470' '347471' '347742' '347743'\n",
      " '348121' '348122' '348123' '348124' '348125' '349201' '349202' '349203'\n",
      " '349204' '349205' '349206' '349207' '349208' '349209' '349210' '349211'\n",
      " '349212' '349213' '349214' '349215' '349216' '349217' '349218' '349219'\n",
      " '349220' '349221' '349222' '349223' '349224' '349225' '349226' '349227'\n",
      " '349228' '349229' '349230' '349231' '349232' '349233' '349234' '349235'\n",
      " '349236' '349237' '349238' '349239' '349240' '349241' '349242' '349243'\n",
      " '349244' '349245' '349246' '349247' '349248' '349249' '349250' '349251'\n",
      " '349252' '349253' '349254' '349255' '349256' '349257' '349909' '349910'\n",
      " '349911' '349912' '350025' '350026' '350029' '350033' '350034' '350035'\n",
      " '350036' '350042' '350043' '350045' '350046' '350047' '350048' '350050'\n",
      " '350052' '350053' '350054' '350060' '350403' '350404' '350405' '350406'\n",
      " '350407' '350408' '350409' '350410' '350416' '350417' '35273' '35281'\n",
      " '35851' '35852' '358585' '359306' '359309' '36209' '362316' '363272'\n",
      " '363291' '363294' '363592' '363611' '364498' '364499' '364500' '364506'\n",
      " '364511' '364512' '364516' '364846' '364848' '364849' '364850' '364851'\n",
      " '364856' '364858' '364859' '365222' '365226' '365235' '365237' '36568'\n",
      " '366713' '367226' '367227' '367228' '367229' '367230' '367231' '367232'\n",
      " '367655' '368323' '368364' '368402' '368573' '36864' '36865' '36866'\n",
      " '368702' '368703' '368783' '36928' '36947' '36963' '36967' '36973' '3701'\n",
      " '370129' '370365' '370368' '370369' '370370' '370371' '370372' '370373'\n",
      " '370374' '370375' '370376' '370377' '371060' '371109' '371110' '371362'\n",
      " '372622' '373450' '374746' '374887' '374910' '376563' '376564' '376566'\n",
      " '382649' '382650' '382651' '382652' '382653' '383121' '383123' '383162'\n",
      " '384461' '386525' '392091' '392092' '392095' '392096' '394140' '4133'\n",
      " '4134' '4135' '4136' '4137' '4138' '4579' '54636' '5727' '65303' '65304'\n",
      " '65305' '65306' '6563' '680' '693' '694' '695' '7266' '7267' '7534'\n",
      " '7538' '7540' '7545' '7546' '7548' '7552' '7553' '7598' '7935' '8471'\n",
      " '8475' '9232' '9234' 'A. 2. 39186' 'A./5. 2152' 'A./5. 3235' 'A./5. 3338'\n",
      " 'A.5. 11206' 'A.5. 18509' 'A.5. 3236' 'A/4 31416' 'A/4 45380' 'A/4 48871'\n",
      " 'A/4 48873' 'A/4. 20589' 'A/4. 34244' 'A/4. 39886' 'A/5 1478' 'A/5 21171'\n",
      " 'A/5 21172' 'A/5 21173' 'A/5 21174' 'A/5 21175' 'A/5 2466' 'A/5 2817'\n",
      " 'A/5 3536' 'A/5 3540' 'A/5 3594' 'A/5 3902' 'A/5. 10482' 'A/5. 13032'\n",
      " 'A/5. 2151' 'A/5. 3336' 'A/5. 3337' 'A/5. 851' 'A/S 2816' 'A4. 54510'\n",
      " 'AQ/3. 30631' 'AQ/4 3130' 'C 17368' 'C 17369' 'C 4001' 'C 7075' 'C 7076'\n",
      " 'C 7077' 'C.A. 15185' 'C.A. 17248' 'C.A. 18723' 'C.A. 2315' 'C.A. 24579'\n",
      " 'C.A. 24580' 'C.A. 2673' 'C.A. 29178' 'C.A. 29395' 'C.A. 29566'\n",
      " 'C.A. 30769' 'C.A. 31026' 'C.A. 31029' 'C.A. 31030' 'C.A. 31921'\n",
      " 'C.A. 33111' 'C.A. 33112' 'C.A. 33595' 'C.A. 34050' 'C.A. 34260'\n",
      " 'C.A. 34644' 'C.A. 34651' 'C.A. 37671' 'C.A. 42795' 'C.A. 49867'\n",
      " 'C.A. 5547' 'C.A. 6212' 'C.A./SOTON 34068' 'CA 2144' 'CA 31352'\n",
      " 'CA. 2314' 'CA. 2343' 'F.C. 12750' 'F.C. 12998' 'F.C.C. 13528'\n",
      " 'F.C.C. 13529' 'F.C.C. 13531' 'F.C.C. 13534' 'F.C.C. 13540' 'Fa 265302'\n",
      " 'LINE' 'LP 1588' 'P/PP 3381' 'PC 17318' 'PC 17473' 'PC 17474' 'PC 17475'\n",
      " 'PC 17476' 'PC 17477' 'PC 17482' 'PC 17483' 'PC 17485' 'PC 17531'\n",
      " 'PC 17558' 'PC 17562' 'PC 17569' 'PC 17572' 'PC 17580' 'PC 17582'\n",
      " 'PC 17585' 'PC 17590' 'PC 17591' 'PC 17592' 'PC 17593' 'PC 17594'\n",
      " 'PC 17595' 'PC 17596' 'PC 17597' 'PC 17598' 'PC 17599' 'PC 17600'\n",
      " 'PC 17601' 'PC 17603' 'PC 17604' 'PC 17605' 'PC 17606' 'PC 17607'\n",
      " 'PC 17608' 'PC 17609' 'PC 17610' 'PC 17611' 'PC 17612' 'PC 17613'\n",
      " 'PC 17754' 'PC 17755' 'PC 17756' 'PC 17757' 'PC 17758' 'PC 17759'\n",
      " 'PC 17760' 'PC 17761' 'PP 4348' 'PP 9549' 'S.C./A.4. 23567'\n",
      " 'S.C./PARIS 2079' 'S.O./P.P. 2' 'S.O./P.P. 251' 'S.O./P.P. 3'\n",
      " 'S.O./P.P. 751' 'S.O./P.P. 752' 'S.O.C. 14879' 'S.O.P. 1166' 'S.P. 3464'\n",
      " 'S.W./PP 752' 'SC 14888' 'SC 1748' 'SC/A.3 2861' 'SC/A4 23568'\n",
      " 'SC/AH 29037' 'SC/AH 3085' 'SC/AH Basle 541' 'SC/PARIS 2131'\n",
      " 'SC/PARIS 2133' 'SC/PARIS 2146' 'SC/PARIS 2147' 'SC/PARIS 2148'\n",
      " 'SC/PARIS 2149' 'SC/PARIS 2159' 'SC/PARIS 2166' 'SC/PARIS 2167'\n",
      " 'SC/PARIS 2168' 'SC/Paris 2123' 'SC/Paris 2163' 'SCO/W 1585' 'SO/C 14885'\n",
      " 'SOTON/O.Q. 3101262' 'SOTON/O.Q. 3101263' 'SOTON/O.Q. 3101305'\n",
      " 'SOTON/O.Q. 3101306' 'SOTON/O.Q. 3101307' 'SOTON/O.Q. 3101308'\n",
      " 'SOTON/O.Q. 3101309' 'SOTON/O.Q. 3101310' 'SOTON/O.Q. 3101311'\n",
      " 'SOTON/O.Q. 3101312' 'SOTON/O.Q. 3101314' 'SOTON/O.Q. 3101315'\n",
      " 'SOTON/O.Q. 392078' 'SOTON/O.Q. 392087' 'SOTON/O2 3101272'\n",
      " 'SOTON/O2 3101284' 'SOTON/O2 3101287' 'SOTON/OQ 3101316'\n",
      " 'SOTON/OQ 3101317' 'SOTON/OQ 392076' 'SOTON/OQ 392082' 'SOTON/OQ 392083'\n",
      " 'SOTON/OQ 392086' 'SOTON/OQ 392089' 'SOTON/OQ 392090' 'STON/O 2. 3101268'\n",
      " 'STON/O 2. 3101269' 'STON/O 2. 3101273' 'STON/O 2. 3101274'\n",
      " 'STON/O 2. 3101275' 'STON/O 2. 3101280' 'STON/O 2. 3101285'\n",
      " 'STON/O 2. 3101286' 'STON/O 2. 3101288' 'STON/O 2. 3101289'\n",
      " 'STON/O 2. 3101291' 'STON/O 2. 3101292' 'STON/O 2. 3101293'\n",
      " 'STON/O 2. 3101294' 'STON/O2. 3101270' 'STON/O2. 3101271'\n",
      " 'STON/O2. 3101279' 'STON/O2. 3101282' 'STON/O2. 3101283'\n",
      " 'STON/O2. 3101290' 'STON/OQ. 369943' 'SW/PP 751' 'W./C. 14258'\n",
      " 'W./C. 14260' 'W./C. 14263' 'W./C. 14266' 'W./C. 6607' 'W./C. 6608'\n",
      " 'W./C. 6609' 'W.E.P. 5734' 'W/C 14208' 'WE/P 5735']\n",
      "\t\n",
      "fare  unique values :  [  0.           3.1708       4.0125       5.           6.2375\n",
      "   6.4375       6.45         6.4958       6.75         6.8583\n",
      "   6.95         6.975        7.           7.0458       7.05\n",
      "   7.0542       7.125        7.1417       7.225        7.2292\n",
      "   7.25         7.2833       7.3125       7.4958       7.5208\n",
      "   7.55         7.575        7.5792       7.6292       7.65\n",
      "   7.7208       7.725        7.7292       7.7333       7.7375\n",
      "   7.7417       7.75         7.775        7.7792       7.7875\n",
      "   7.7958       7.8          7.8208       7.8292       7.85\n",
      "   7.8542       7.875        7.8792       7.8875       7.8958\n",
      "   7.925        8.0292       8.05         8.1125       8.1375\n",
      "   8.1583       8.3          8.3625       8.4042       8.4333\n",
      "   8.4583       8.5167       8.6542       8.6625       8.6833\n",
      "   8.7125       8.85         8.9625       9.           9.2167\n",
      "   9.225        9.325        9.35         9.475        9.4833\n",
      "   9.5          9.5875       9.6875       9.825        9.8375\n",
      "   9.8417       9.8458      10.1708      10.4625      10.5\n",
      "  10.5167      10.7083      11.1333      11.2417      11.5\n",
      "  12.          12.1833      12.275       12.2875      12.35\n",
      "  12.475       12.525       12.65        12.7375      12.875\n",
      "  13.          13.4167      13.5         13.775       13.7917\n",
      "  13.8583      13.8625      13.9         14.          14.1083\n",
      "  14.4         14.4542      14.4583      14.5         15.\n",
      "  15.0333      15.0458      15.05        15.1         15.2458\n",
      "  15.5         15.55        15.5792      15.7417      15.75\n",
      "  15.85        15.9         16.          16.1         16.7\n",
      "  17.4         17.8         18.          18.75        18.7875\n",
      "  19.2583      19.5         19.9667      20.2125      20.25\n",
      "  20.525       20.575       21.          21.075       21.6792\n",
      "  22.025       22.3583      22.525       23.          23.25\n",
      "  23.45        24.          24.15        25.4667      25.5875\n",
      "  25.7         25.7417      25.925       25.9292      26.\n",
      "  26.25        26.2833      26.2875      26.3875      26.55\n",
      "  27.          27.4458      27.7208      27.75        27.9\n",
      "  28.5         28.5375      28.7125      29.          29.125\n",
      "  29.7         30.          30.0708      30.5         30.6958\n",
      "  31.          31.275       31.3875      31.5         31.6792\n",
      "  31.6833      32.3208      32.5         33.          33.29547928\n",
      "  33.5         34.0208      34.375       34.6542      35.\n",
      "  35.5         36.75        37.0042      38.5         39.\n",
      "  39.4         39.6         39.6875      40.125       41.5792\n",
      "  42.4         42.5         45.5         46.9         47.1\n",
      "  49.5         49.5042      50.          50.4958      51.4792\n",
      "  51.8625      52.          52.5542      53.1         55.\n",
      "  55.4417      55.9         56.4958      56.9292      57.\n",
      "  57.75        57.9792      59.4         60.          61.175\n",
      "  61.3792      61.9792      63.3583      65.          66.6\n",
      "  69.3         69.55        71.          71.2833      73.5\n",
      "  75.2417      75.25        76.2917      76.7292      77.2875\n",
      "  77.9583      78.2667      78.85        79.2         79.65\n",
      "  80.          81.8583      82.1708      82.2667      83.1583\n",
      "  83.475       86.5         89.1042      90.          91.0792\n",
      "  93.5        106.425      108.9        110.8833     113.275\n",
      " 120.         133.65       134.5        135.6333     136.7792\n",
      " 146.5208     151.55       153.4625     164.8667     211.3375\n",
      " 211.5        221.7792     227.525      247.5208     262.375\n",
      " 263.         512.3292    ]\n",
      "\t\n",
      "cabin  unique values :  ['A10' 'A11' 'A14' 'A16' 'A18' 'A19' 'A20' 'A21' 'A23' 'A24' 'A26' 'A29'\n",
      " 'A31' 'A32' 'A34' 'A36' 'A5' 'A6' 'A7' 'A9' 'B10' 'B101' 'B102' 'B11'\n",
      " 'B18' 'B19' 'B20' 'B22' 'B24' 'B26' 'B28' 'B3' 'B30' 'B35' 'B36' 'B37'\n",
      " 'B38' 'B39' 'B4' 'B41' 'B42' 'B45' 'B49' 'B5' 'B50' 'B51 B53 B55'\n",
      " 'B52 B54 B56' 'B57 B59 B63 B66' 'B58 B60' 'B61' 'B69' 'B71' 'B73' 'B77'\n",
      " 'B78' 'B79' 'B80' 'B82 B84' 'B86' 'B94' 'B96 B98' 'C101' 'C103' 'C104'\n",
      " 'C105' 'C106' 'C110' 'C111' 'C116' 'C118' 'C123' 'C124' 'C125' 'C126'\n",
      " 'C128' 'C130' 'C132' 'C148' 'C2' 'C22 C26' 'C23 C25 C27' 'C28' 'C30'\n",
      " 'C31' 'C32' 'C39' 'C45' 'C46' 'C47' 'C49' 'C50' 'C51' 'C52' 'C53' 'C54'\n",
      " 'C55 C57' 'C6' 'C62 C64' 'C65' 'C68' 'C7' 'C70' 'C78' 'C80' 'C82' 'C83'\n",
      " 'C85' 'C86' 'C87' 'C89' 'C90' 'C91' 'C92' 'C93' 'C95' 'C97' 'C99' 'D'\n",
      " 'D10 D12' 'D11' 'D15' 'D17' 'D19' 'D20' 'D21' 'D22' 'D26' 'D28' 'D30'\n",
      " 'D33' 'D34' 'D35' 'D36' 'D37' 'D38' 'D40' 'D43' 'D45' 'D46' 'D47' 'D48'\n",
      " 'D49' 'D50' 'D56' 'D6' 'D7' 'D9' 'E10' 'E101' 'E12' 'E121' 'E17' 'E24'\n",
      " 'E25' 'E31' 'E33' 'E34' 'E36' 'E38' 'E39 E41' 'E40' 'E44' 'E45' 'E46'\n",
      " 'E49' 'E50' 'E52' 'E58' 'E60' 'E63' 'E67' 'E68' 'E77' 'E8' 'F' 'F E46'\n",
      " 'F E57' 'F E69' 'F G63' 'F G73' 'F2' 'F33' 'F38' 'F4' 'G6' 'T' 'missing']\n",
      "\t\n",
      "embarked  unique values :  ['C' 'Q' 'S' 'missing']\n",
      "\t\n"
     ]
    }
   ],
   "source": [
    "for c in df.columns:\n",
    "    print(c, \" unique values : \", df[c].sort_values().unique())\n",
    "    print(\"\\t\")"
   ]
  },
  {
   "cell_type": "code",
   "execution_count": 73,
   "id": "d9845606",
   "metadata": {},
   "outputs": [],
   "source": [
    "# Ticket numbers are not usefull since we have passengerId\n",
    "# We can drop the column\n",
    "\n",
    "df.drop(['ticket'], axis=1, inplace=True)"
   ]
  },
  {
   "cell_type": "code",
   "execution_count": 74,
   "id": "8ec368c4",
   "metadata": {
    "colab": {
     "base_uri": "https://localhost:8080/"
    },
    "id": "1be1d251",
    "outputId": "690841e3-60ce-48cc-cc48-99766752a4e6",
    "scrolled": true
   },
   "outputs": [],
   "source": [
    "### Extra variables ###\n",
    "# From \"Name\" we can extract a new variable : passenger title\n",
    "\n",
    "# Function to be applied\n",
    "\n",
    "def extract_title(sentence):\n",
    "  # Split the sentence into a list of words using comma and period as delimiters\n",
    "  words = sentence.split(', ')\n",
    "\n",
    "  # Check if the list contains at least 2 lements\n",
    "  if len(words) < 2:\n",
    "    return None\n",
    "\n",
    "  # Retrieve the second list item\n",
    "  title = words[1].split(' ')[0]\n",
    " \n",
    "  return title\n",
    "\n",
    "# Use the function to create the new variable\n",
    "\n",
    "df['title'] = df.name.apply(extract_title)"
   ]
  },
  {
   "cell_type": "code",
   "execution_count": 75,
   "id": "c07f3bc6",
   "metadata": {
    "colab": {
     "base_uri": "https://localhost:8080/"
    },
    "id": "1a4ea990",
    "outputId": "79a2ded8-fcc4-4fb0-b7b5-a75ef42a5ebf"
   },
   "outputs": [
    {
     "data": {
      "text/html": [
       "<div>\n",
       "<style scoped>\n",
       "    .dataframe tbody tr th:only-of-type {\n",
       "        vertical-align: middle;\n",
       "    }\n",
       "\n",
       "    .dataframe tbody tr th {\n",
       "        vertical-align: top;\n",
       "    }\n",
       "\n",
       "    .dataframe thead th {\n",
       "        text-align: right;\n",
       "    }\n",
       "</style>\n",
       "<table border=\"1\" class=\"dataframe\">\n",
       "  <thead>\n",
       "    <tr style=\"text-align: right;\">\n",
       "      <th></th>\n",
       "      <th>age</th>\n",
       "      <th>fare</th>\n",
       "    </tr>\n",
       "  </thead>\n",
       "  <tbody>\n",
       "    <tr>\n",
       "      <th>count</th>\n",
       "      <td>1046.000000</td>\n",
       "      <td>1309.000000</td>\n",
       "    </tr>\n",
       "    <tr>\n",
       "      <th>mean</th>\n",
       "      <td>29.881138</td>\n",
       "      <td>33.295479</td>\n",
       "    </tr>\n",
       "    <tr>\n",
       "      <th>std</th>\n",
       "      <td>14.413493</td>\n",
       "      <td>51.738879</td>\n",
       "    </tr>\n",
       "    <tr>\n",
       "      <th>min</th>\n",
       "      <td>0.170000</td>\n",
       "      <td>0.000000</td>\n",
       "    </tr>\n",
       "    <tr>\n",
       "      <th>25%</th>\n",
       "      <td>21.000000</td>\n",
       "      <td>7.895800</td>\n",
       "    </tr>\n",
       "    <tr>\n",
       "      <th>50%</th>\n",
       "      <td>28.000000</td>\n",
       "      <td>14.454200</td>\n",
       "    </tr>\n",
       "    <tr>\n",
       "      <th>75%</th>\n",
       "      <td>39.000000</td>\n",
       "      <td>31.275000</td>\n",
       "    </tr>\n",
       "    <tr>\n",
       "      <th>max</th>\n",
       "      <td>80.000000</td>\n",
       "      <td>512.329200</td>\n",
       "    </tr>\n",
       "  </tbody>\n",
       "</table>\n",
       "</div>"
      ],
      "text/plain": [
       "               age         fare\n",
       "count  1046.000000  1309.000000\n",
       "mean     29.881138    33.295479\n",
       "std      14.413493    51.738879\n",
       "min       0.170000     0.000000\n",
       "25%      21.000000     7.895800\n",
       "50%      28.000000    14.454200\n",
       "75%      39.000000    31.275000\n",
       "max      80.000000   512.329200"
      ]
     },
     "metadata": {},
     "output_type": "display_data"
    },
    {
     "data": {
      "text/html": [
       "<div>\n",
       "<style scoped>\n",
       "    .dataframe tbody tr th:only-of-type {\n",
       "        vertical-align: middle;\n",
       "    }\n",
       "\n",
       "    .dataframe tbody tr th {\n",
       "        vertical-align: top;\n",
       "    }\n",
       "\n",
       "    .dataframe thead th {\n",
       "        text-align: right;\n",
       "    }\n",
       "</style>\n",
       "<table border=\"1\" class=\"dataframe\">\n",
       "  <thead>\n",
       "    <tr style=\"text-align: right;\">\n",
       "      <th></th>\n",
       "      <th>name</th>\n",
       "      <th>sex</th>\n",
       "      <th>cabin</th>\n",
       "      <th>embarked</th>\n",
       "      <th>title</th>\n",
       "    </tr>\n",
       "  </thead>\n",
       "  <tbody>\n",
       "    <tr>\n",
       "      <th>count</th>\n",
       "      <td>1309</td>\n",
       "      <td>1309</td>\n",
       "      <td>1309</td>\n",
       "      <td>1309</td>\n",
       "      <td>1309</td>\n",
       "    </tr>\n",
       "    <tr>\n",
       "      <th>unique</th>\n",
       "      <td>1307</td>\n",
       "      <td>2</td>\n",
       "      <td>187</td>\n",
       "      <td>4</td>\n",
       "      <td>18</td>\n",
       "    </tr>\n",
       "    <tr>\n",
       "      <th>top</th>\n",
       "      <td>Connolly, Miss. Kate</td>\n",
       "      <td>male</td>\n",
       "      <td>missing</td>\n",
       "      <td>S</td>\n",
       "      <td>Mr.</td>\n",
       "    </tr>\n",
       "    <tr>\n",
       "      <th>freq</th>\n",
       "      <td>2</td>\n",
       "      <td>843</td>\n",
       "      <td>1014</td>\n",
       "      <td>914</td>\n",
       "      <td>757</td>\n",
       "    </tr>\n",
       "  </tbody>\n",
       "</table>\n",
       "</div>"
      ],
      "text/plain": [
       "                        name   sex    cabin embarked title\n",
       "count                   1309  1309     1309     1309  1309\n",
       "unique                  1307     2      187        4    18\n",
       "top     Connolly, Miss. Kate  male  missing        S   Mr.\n",
       "freq                       2   843     1014      914   757"
      ]
     },
     "metadata": {},
     "output_type": "display_data"
    }
   ],
   "source": [
    "### Quick description of varibles ###\n",
    "\n",
    "display(df[['age', 'fare']].describe()) # Description des variables numériques\n",
    "\n",
    "display(df.describe(exclude=[np.number])) # Description des variables catégroielles"
   ]
  },
  {
   "cell_type": "markdown",
   "id": "5eb75370",
   "metadata": {
    "id": "21d983de"
   },
   "source": [
    "# 2. Data Visualisation"
   ]
  },
  {
   "cell_type": "markdown",
   "id": "e26b4299",
   "metadata": {
    "id": "62fe0090"
   },
   "source": [
    "### 2.1. Players with the most victories"
   ]
  },
  {
   "cell_type": "code",
   "execution_count": 78,
   "id": "2a137727",
   "metadata": {
    "colab": {
     "base_uri": "https://localhost:8080/"
    },
    "id": "feb31774",
    "outputId": "5f156636-929a-4169-f74d-67d04ddcfc18"
   },
   "outputs": [
    {
     "data": {
      "image/png": "[encoded data removed]",
      "text/plain": [
       "<matplotlib.figure.Figure at 0x206a11367b8>"
      ]
     },
     "metadata": {},
     "output_type": "display_data"
    }
   ],
   "source": [
    "# Players who have won the most matches\n",
    "sns.set()\n",
    "\n",
    "plt.figure(figsize=(14,7))\n",
    "\n",
    "plt.subplot(121)\n",
    "data = df1.Winner.value_counts()[:20]\n",
    "x, y = data.values, data.index\n",
    "sns.barplot(x=x, y=y, data=pd.DataFrame(data), order = y, orient='h')\n",
    "plt.xlim((300,None)); plt.title('Top 20 won matches')\n",
    "\n",
    "# Players who have lost the most matches\n",
    "plt.subplot(122)\n",
    "data = df1.Loser.value_counts()[:20]\n",
    "x, y = data.values, data.index\n",
    "sns.barplot(x=x, y=y, data=pd.DataFrame(data), order = y, orient='h')\n",
    "plt.xlim((200,None)); plt.title('Top 20 lost matches');"
   ]
  },
  {
   "cell_type": "markdown",
   "id": "24b06cc9",
   "metadata": {
    "id": "b9349cc0"
   },
   "source": [
    "##### Federer, Nadal and Djokovic form the top 3"
   ]
  },
  {
   "cell_type": "markdown",
   "id": "1fed6c42",
   "metadata": {
    "id": "34a8195a"
   },
   "source": [
    "##### Players not having the same number of matches played, let's introduce the variable \"w_per_match\""
   ]
  },
  {
   "cell_type": "markdown",
   "id": "646d8301",
   "metadata": {
    "id": "88cbed4a"
   },
   "source": [
    "### 2.2. Overall performances"
   ]
  },
  {
   "cell_type": "code",
   "execution_count": 79,
   "id": "b6edc823",
   "metadata": {
    "colab": {
     "base_uri": "https://localhost:8080/"
    },
    "id": "e424a813",
    "outputId": "4e2c20aa-2961-443e-ebe3-2cc1609f860f"
   },
   "outputs": [
    {
     "data": {
      "text/html": [
       "<div>\n",
       "<style scoped>\n",
       "    .dataframe tbody tr th:only-of-type {\n",
       "        vertical-align: middle;\n",
       "    }\n",
       "\n",
       "    .dataframe tbody tr th {\n",
       "        vertical-align: top;\n",
       "    }\n",
       "\n",
       "    .dataframe thead th {\n",
       "        text-align: right;\n",
       "    }\n",
       "</style>\n",
       "<table border=\"1\" class=\"dataframe\">\n",
       "  <thead>\n",
       "    <tr style=\"text-align: right;\">\n",
       "      <th></th>\n",
       "      <th>Winner</th>\n",
       "      <th>Loser</th>\n",
       "    </tr>\n",
       "  </thead>\n",
       "  <tbody>\n",
       "    <tr>\n",
       "      <th>Federer R.</th>\n",
       "      <td>945</td>\n",
       "      <td>189</td>\n",
       "    </tr>\n",
       "    <tr>\n",
       "      <th>Nadal R.</th>\n",
       "      <td>777</td>\n",
       "      <td>163</td>\n",
       "    </tr>\n",
       "    <tr>\n",
       "      <th>Djokovic N.</th>\n",
       "      <td>664</td>\n",
       "      <td>135</td>\n",
       "    </tr>\n",
       "    <tr>\n",
       "      <th>Ferrer D.</th>\n",
       "      <td>613</td>\n",
       "      <td>319</td>\n",
       "    </tr>\n",
       "    <tr>\n",
       "      <th>Murray A.</th>\n",
       "      <td>541</td>\n",
       "      <td>159</td>\n",
       "    </tr>\n",
       "  </tbody>\n",
       "</table>\n",
       "</div>"
      ],
      "text/plain": [
       "             Winner  Loser\n",
       "Federer R.      945    189\n",
       "Nadal R.        777    163\n",
       "Djokovic N.     664    135\n",
       "Ferrer D.       613    319\n",
       "Murray A.       541    159"
      ]
     },
     "execution_count": 79,
     "metadata": {},
     "output_type": "execute_result"
    }
   ],
   "source": [
    "win_loss = pd.DataFrame(df1.Winner.value_counts()).join(pd.DataFrame(df1.Loser.value_counts()))\n",
    "win_loss.head()"
   ]
  },
  {
   "cell_type": "code",
   "execution_count": 80,
   "id": "030a18ea",
   "metadata": {
    "colab": {
     "base_uri": "https://localhost:8080/"
    },
    "id": "079a1519",
    "outputId": "f6006429-8858-4cb1-ddac-2dd316c07d5c"
   },
   "outputs": [
    {
     "data": {
      "text/html": [
       "<div>\n",
       "<style scoped>\n",
       "    .dataframe tbody tr th:only-of-type {\n",
       "        vertical-align: middle;\n",
       "    }\n",
       "\n",
       "    .dataframe tbody tr th {\n",
       "        vertical-align: top;\n",
       "    }\n",
       "\n",
       "    .dataframe thead th {\n",
       "        text-align: right;\n",
       "    }\n",
       "</style>\n",
       "<table border=\"1\" class=\"dataframe\">\n",
       "  <thead>\n",
       "    <tr style=\"text-align: right;\">\n",
       "      <th></th>\n",
       "      <th>Winner</th>\n",
       "      <th>Loser</th>\n",
       "      <th>w_per_match</th>\n",
       "      <th>matches</th>\n",
       "    </tr>\n",
       "  </thead>\n",
       "  <tbody>\n",
       "    <tr>\n",
       "      <th>Federer R.</th>\n",
       "      <td>945</td>\n",
       "      <td>189</td>\n",
       "      <td>0.833</td>\n",
       "      <td>1134</td>\n",
       "    </tr>\n",
       "    <tr>\n",
       "      <th>Djokovic N.</th>\n",
       "      <td>664</td>\n",
       "      <td>135</td>\n",
       "      <td>0.831</td>\n",
       "      <td>799</td>\n",
       "    </tr>\n",
       "    <tr>\n",
       "      <th>Nadal R.</th>\n",
       "      <td>777</td>\n",
       "      <td>163</td>\n",
       "      <td>0.827</td>\n",
       "      <td>940</td>\n",
       "    </tr>\n",
       "    <tr>\n",
       "      <th>Nargiso D.</th>\n",
       "      <td>8</td>\n",
       "      <td>2</td>\n",
       "      <td>0.800</td>\n",
       "      <td>10</td>\n",
       "    </tr>\n",
       "    <tr>\n",
       "      <th>Murray A.</th>\n",
       "      <td>541</td>\n",
       "      <td>159</td>\n",
       "      <td>0.773</td>\n",
       "      <td>700</td>\n",
       "    </tr>\n",
       "    <tr>\n",
       "      <th>Agassi A.</th>\n",
       "      <td>213</td>\n",
       "      <td>65</td>\n",
       "      <td>0.766</td>\n",
       "      <td>278</td>\n",
       "    </tr>\n",
       "    <tr>\n",
       "      <th>Roddick A.</th>\n",
       "      <td>525</td>\n",
       "      <td>168</td>\n",
       "      <td>0.758</td>\n",
       "      <td>693</td>\n",
       "    </tr>\n",
       "    <tr>\n",
       "      <th>Sampras P.</th>\n",
       "      <td>65</td>\n",
       "      <td>24</td>\n",
       "      <td>0.730</td>\n",
       "      <td>89</td>\n",
       "    </tr>\n",
       "    <tr>\n",
       "      <th>Del Potro-J.M.</th>\n",
       "      <td>349</td>\n",
       "      <td>138</td>\n",
       "      <td>0.717</td>\n",
       "      <td>487</td>\n",
       "    </tr>\n",
       "    <tr>\n",
       "      <th>Hewitt L.</th>\n",
       "      <td>405</td>\n",
       "      <td>176</td>\n",
       "      <td>0.697</td>\n",
       "      <td>581</td>\n",
       "    </tr>\n",
       "  </tbody>\n",
       "</table>\n",
       "</div>"
      ],
      "text/plain": [
       "                Winner  Loser  w_per_match  matches\n",
       "Federer R.         945    189        0.833     1134\n",
       "Djokovic N.        664    135        0.831      799\n",
       "Nadal R.           777    163        0.827      940\n",
       "Nargiso D.           8      2        0.800       10\n",
       "Murray A.          541    159        0.773      700\n",
       "Agassi A.          213     65        0.766      278\n",
       "Roddick A.         525    168        0.758      693\n",
       "Sampras P.          65     24        0.730       89\n",
       "Del Potro-J.M.     349    138        0.717      487\n",
       "Hewitt L.          405    176        0.697      581"
      ]
     },
     "execution_count": 80,
     "metadata": {},
     "output_type": "execute_result"
    }
   ],
   "source": [
    "# w_per_match = Nb of won matches / Nb of lost matches\n",
    "win_loss['w_per_match'] = round(win_loss.Winner / (win_loss.Winner + win_loss.Loser),3)\n",
    "win_loss['matches'] = win_loss.Winner + win_loss.Loser\n",
    "win_loss.sort_values('w_per_match', ascending=False, inplace=True)\n",
    "win_loss.head(10)"
   ]
  },
  {
   "cell_type": "markdown",
   "id": "ef1a74a4",
   "metadata": {
    "id": "167026b2"
   },
   "source": [
    "#### Is there a correlation between performance and the number of matches played ?\n",
    "##### Let's do a statistical test : test de pearson"
   ]
  },
  {
   "cell_type": "markdown",
   "id": "c72cd246",
   "metadata": {
    "id": "f08eb773"
   },
   "source": [
    "###### H0 : There is no correlation between performance and the number of matches played"
   ]
  },
  {
   "cell_type": "code",
   "execution_count": 83,
   "id": "23e7dcdc",
   "metadata": {
    "colab": {
     "base_uri": "https://localhost:8080/"
    },
    "id": "3e9f4c4e",
    "outputId": "a2a3e945-9f95-436d-e39c-f529ec0dfe8f"
   },
   "outputs": [
    {
     "ename": "ValueError",
     "evalue": "DataFrame constructor not properly called!",
     "output_type": "error",
     "traceback": [
      "\u001b[1;31m---------------------------------------------------------------------------\u001b[0m",
      "\u001b[1;31mValueError\u001b[0m                                Traceback (most recent call last)",
      "\u001b[1;32m<ipython-input-83-84303da1f6d7>\u001b[0m in \u001b[0;36m<module>\u001b[1;34m()\u001b[0m\n\u001b[0;32m      2\u001b[0m \u001b[1;33m\u001b[0m\u001b[0m\n\u001b[0;32m      3\u001b[0m \u001b[0mtest\u001b[0m \u001b[1;33m=\u001b[0m \u001b[0mpearsonr\u001b[0m\u001b[1;33m(\u001b[0m\u001b[0mwin_loss\u001b[0m\u001b[1;33m.\u001b[0m\u001b[0mw_per_match\u001b[0m\u001b[1;33m,\u001b[0m \u001b[0mwin_loss\u001b[0m\u001b[1;33m.\u001b[0m\u001b[0mmatches\u001b[0m\u001b[1;33m)\u001b[0m\u001b[1;33m\u001b[0m\u001b[0m\n\u001b[1;32m----> 4\u001b[1;33m \u001b[0mpd\u001b[0m\u001b[1;33m.\u001b[0m\u001b[0mDataFrame\u001b[0m\u001b[1;33m(\u001b[0m\u001b[0mpearsonr\u001b[0m\u001b[1;33m(\u001b[0m\u001b[0mwin_loss\u001b[0m\u001b[1;33m.\u001b[0m\u001b[0mw_per_match\u001b[0m\u001b[1;33m,\u001b[0m \u001b[0mwin_loss\u001b[0m\u001b[1;33m.\u001b[0m\u001b[0mmatches\u001b[0m\u001b[1;33m)\u001b[0m\u001b[1;33m,\u001b[0m \u001b[0mindex\u001b[0m\u001b[1;33m=\u001b[0m\u001b[1;33m[\u001b[0m\u001b[1;34m'pearson_coeff'\u001b[0m\u001b[1;33m,\u001b[0m\u001b[1;34m'p-value'\u001b[0m\u001b[1;33m]\u001b[0m\u001b[1;33m,\u001b[0m \u001b[0mcolumns\u001b[0m\u001b[1;33m=\u001b[0m\u001b[1;33m[\u001b[0m\u001b[1;34m'resultat_test'\u001b[0m\u001b[1;33m]\u001b[0m\u001b[1;33m)\u001b[0m\u001b[1;33m\u001b[0m\u001b[0m\n\u001b[0m",
      "\u001b[1;32mC:\\ProgramData\\Anaconda3\\lib\\site-packages\\pandas\\core\\frame.py\u001b[0m in \u001b[0;36m__init__\u001b[1;34m(self, data, index, columns, dtype, copy)\u001b[0m\n\u001b[0;32m    402\u001b[0m                                          dtype=values.dtype, copy=False)\n\u001b[0;32m    403\u001b[0m             \u001b[1;32melse\u001b[0m\u001b[1;33m:\u001b[0m\u001b[1;33m\u001b[0m\u001b[0m\n\u001b[1;32m--> 404\u001b[1;33m                 \u001b[1;32mraise\u001b[0m \u001b[0mValueError\u001b[0m\u001b[1;33m(\u001b[0m\u001b[1;34m'DataFrame constructor not properly called!'\u001b[0m\u001b[1;33m)\u001b[0m\u001b[1;33m\u001b[0m\u001b[0m\n\u001b[0m\u001b[0;32m    405\u001b[0m \u001b[1;33m\u001b[0m\u001b[0m\n\u001b[0;32m    406\u001b[0m         \u001b[0mNDFrame\u001b[0m\u001b[1;33m.\u001b[0m\u001b[0m__init__\u001b[0m\u001b[1;33m(\u001b[0m\u001b[0mself\u001b[0m\u001b[1;33m,\u001b[0m \u001b[0mmgr\u001b[0m\u001b[1;33m,\u001b[0m \u001b[0mfastpath\u001b[0m\u001b[1;33m=\u001b[0m\u001b[1;32mTrue\u001b[0m\u001b[1;33m)\u001b[0m\u001b[1;33m\u001b[0m\u001b[0m\n",
      "\u001b[1;31mValueError\u001b[0m: DataFrame constructor not properly called!"
     ]
    }
   ],
   "source": [
    "from scipy.stats import pearsonr\n",
    "\n",
    "test = pearsonr(win_loss.w_per_match, win_loss.matches)\n",
    "pd.DataFrame(pearsonr(win_loss.w_per_match, win_loss.matches), index=['pearson_coeff','p-value'], columns=['resultat_test'])"
   ]
  },
  {
   "cell_type": "markdown",
   "id": "1b531954",
   "metadata": {
    "id": "151e18ec"
   },
   "source": [
    "##### We can reject the null hypothesis and conclude that the 2 variables are very dependent because the Pearson coefficient is close to 1 and the p-value is <<< 5%."
   ]
  },
  {
   "cell_type": "markdown",
   "id": "1ec34f48",
   "metadata": {
    "id": "3c004614"
   },
   "source": [
    "##### Let's check this graphically"
   ]
  },
  {
   "cell_type": "code",
   "execution_count": null,
   "id": "8432c2a7",
   "metadata": {
    "colab": {
     "base_uri": "https://localhost:8080/"
    },
    "id": "f24f1a9a",
    "outputId": "40965aa2-962f-4518-9f47-cbf9ae5b53c6"
   },
   "outputs": [],
   "source": [
    "sns.boxplot(x='matches', data=win_loss);"
   ]
  },
  {
   "cell_type": "markdown",
   "id": "e86d4562",
   "metadata": {
    "id": "fa31a098"
   },
   "source": [
    "##### The number of matches played varies greatly. We can split the data based on the number of games played"
   ]
  },
  {
   "cell_type": "code",
   "execution_count": null,
   "id": "37e22349",
   "metadata": {
    "colab": {
     "base_uri": "https://localhost:8080/"
    },
    "id": "987bc922",
    "outputId": "f355a46a-4163-46f4-fbf8-9ffb217223e6"
   },
   "outputs": [],
   "source": [
    "labels = ['Very irregular player', 'Irregular player', 'Regular player', 'Very regular player']\n",
    "win_loss['cat_match'] = pd.cut(x=win_loss.matches, bins=4, labels=labels)\n",
    "win_loss.head()"
   ]
  },
  {
   "cell_type": "code",
   "execution_count": null,
   "id": "5e268e52",
   "metadata": {
    "colab": {
     "base_uri": "https://localhost:8080/"
    },
    "id": "c949c078",
    "outputId": "d07a365c-006f-48b4-cbde-15e3fa59fd95"
   },
   "outputs": [],
   "source": [
    "plt.figure(figsize=(13,7))\n",
    "sns.boxplot(x='cat_match', y='w_per_match', data=win_loss)\n",
    "plt.title('Performances distribution');"
   ]
  },
  {
   "cell_type": "markdown",
   "id": "2d4a15a8",
   "metadata": {
    "id": "4e4ac23d"
   },
   "source": [
    "##### The more matches we play, the better the performance. The more you play, the more chances you have of winning. The graph the conclusions of the pearson test."
   ]
  },
  {
   "cell_type": "code",
   "execution_count": null,
   "id": "b3b131a0",
   "metadata": {
    "colab": {
     "base_uri": "https://localhost:8080/"
    },
    "id": "ad2c89b1",
    "outputId": "78f21e1d-4485-49c7-d4a6-92012011d8b1"
   },
   "outputs": [],
   "source": [
    "# Performance of those who have played more than 157 matches (the last quantiles)\n",
    "\n",
    "# Top 20 performces\n",
    "\n",
    "plt.figure(figsize=(14,7))\n",
    "\n",
    "plt.subplot(121)\n",
    "data = win_loss.loc[win_loss.cat_match >= 'Regular player'].head(20)\n",
    "x, y = data.w_per_match, data.index\n",
    "sns.barplot(x=x, y=y, data=data, order = y, orient='h'); plt.xlim((0.6, None));\n",
    "plt.title('Top 20 performance'); plt.grid(b=True);\n",
    "\n",
    "# Flop 20\n",
    "plt.subplot(122)\n",
    "data = win_loss.loc[win_loss.cat_match >= 'Regular player'].tail(20)\n",
    "x, y = data.w_per_match, data.index\n",
    "sns.barplot(x=x, y=y, data=data, order=y, orient='h'); plt.xlim((0.45, None)); \n",
    "plt.title('Flop 20 performance'); plt.grid(b=True);"
   ]
  },
  {
   "cell_type": "markdown",
   "id": "57a8fee8",
   "metadata": {
    "id": "2ce6034e"
   },
   "source": [
    "##### Players who have played more than 157 matches win more than 60% of their matches."
   ]
  },
  {
   "cell_type": "markdown",
   "id": "870fe724",
   "metadata": {
    "id": "5c9c231c"
   },
   "source": [
    "#### Is there a correlation between performance and the type of tournament played? Let's proceed with a statistical test: ANOVA test"
   ]
  },
  {
   "cell_type": "markdown",
   "id": "e810d6bd",
   "metadata": {
    "id": "da2cae60"
   },
   "source": [
    "### 2.3. Performances by series type"
   ]
  },
  {
   "cell_type": "code",
   "execution_count": null,
   "id": "0820b828",
   "metadata": {
    "colab": {
     "base_uri": "https://localhost:8080/"
    },
    "id": "5c0f5945",
    "outputId": "78d7ff57-1895-4d5c-a795-2363121f1032"
   },
   "outputs": [],
   "source": [
    "#buffer dataFrame\n",
    "winner_tampon = pd.DataFrame(df1[['Winner', 'Series']].value_counts()).reset_index()\n",
    "winner_tampon.rename({'Winner' : 'Player', 0: 'Winner'}, inplace=True, axis=1)\n",
    "#winner_tampon.set_index('Player', inplace=True)\n",
    "\n",
    "loser_tampon = pd.DataFrame(df1[['Loser', 'Series']].value_counts()).reset_index()\n",
    "loser_tampon.rename({'Loser' : 'Player', 0: 'Loser'}, inplace=True, axis=1)\n",
    "#loser_tampon.set_index('Player', inplace=True)\n",
    "\n",
    "win_loss_ser = winner_tampon.merge(right=loser_tampon, on=['Player','Series'], how='right')\n",
    "\n",
    "win_loss_ser"
   ]
  },
  {
   "cell_type": "code",
   "execution_count": null,
   "id": "70a51873",
   "metadata": {
    "id": "fdb49f26"
   },
   "outputs": [],
   "source": [
    "win_loss_ser = win_loss_ser.fillna(0)"
   ]
  },
  {
   "cell_type": "code",
   "execution_count": null,
   "id": "f08df349",
   "metadata": {
    "id": "84a505ab"
   },
   "outputs": [],
   "source": [
    "win_loss_ser['matches'] = win_loss_ser.Winner + win_loss_ser.Loser\n",
    "win_loss_ser['w_per_match'] = round(win_loss_ser.Winner / win_loss_ser.matches,3)\n",
    "\n",
    "win_loss_ser.sort_values(by = ['w_per_match', 'Series'], ascending=False, inplace=True)\n",
    "win_loss_ser.set_index('Player', inplace=True)"
   ]
  },
  {
   "cell_type": "markdown",
   "id": "07822363",
   "metadata": {
    "id": "adbc56d5"
   },
   "source": [
    "##### H0 : Performance and tournament type are independent"
   ]
  },
  {
   "cell_type": "code",
   "execution_count": null,
   "id": "67a1414c",
   "metadata": {
    "colab": {
     "base_uri": "https://localhost:8080/"
    },
    "id": "e74a1ed5",
    "outputId": "9f40908a-ef3c-4574-de1f-cce4eaa94cb1"
   },
   "outputs": [],
   "source": [
    "import statsmodels.api\n",
    "\n",
    "result = statsmodels.formula.api.ols('w_per_match ~ Series', data=win_loss_ser).fit()\n",
    "table = statsmodels.api.stats.anova_lm(result)\n",
    "\n",
    "table"
   ]
  },
  {
   "cell_type": "markdown",
   "id": "40591c2e",
   "metadata": {
    "id": "7b62d416"
   },
   "source": [
    "##### The p-value (PR(>F)) is < 5%, so we reject the null hypothesis"
   ]
  },
  {
   "cell_type": "code",
   "execution_count": null,
   "id": "533f7ed6",
   "metadata": {
    "id": "a971216a"
   },
   "outputs": [],
   "source": [
    "labels = ['Very irregular player', 'Irregular player', 'Regular player', 'Very regular player']\n",
    "win_loss_ser['cat_match'] = pd.cut(x=win_loss_ser.matches, bins=4, labels=labels)"
   ]
  },
  {
   "cell_type": "code",
   "execution_count": null,
   "id": "1be86953",
   "metadata": {
    "colab": {
     "base_uri": "https://localhost:8080/"
    },
    "id": "b28218a3",
    "outputId": "c636b05b-cdeb-426c-fc1d-35a15afaa100"
   },
   "outputs": [],
   "source": [
    "# Graphical verification \n",
    "\n",
    "plt.figure(figsize=(16,7))\n",
    "sns.boxplot(data=win_loss_ser, x='Series', y='w_per_match', hue='cat_match')\n",
    "plt.title('Distribution des performances');"
   ]
  },
  {
   "cell_type": "markdown",
   "id": "b00f2d2f",
   "metadata": {
    "id": "30cc6888"
   },
   "source": [
    "##### Best players performance"
   ]
  },
  {
   "cell_type": "code",
   "execution_count": null,
   "id": "c0a9edc8",
   "metadata": {
    "colab": {
     "base_uri": "https://localhost:8080/"
    },
    "id": "cdc37e64",
    "outputId": "a67a986b-3256-4d3d-e95f-a1324f9ff062"
   },
   "outputs": [],
   "source": [
    "# Top 20 performces\n",
    "\n",
    "plt.figure(figsize=(14,14))\n",
    "\n",
    "y_uniq = win_loss_ser.head(40).index.unique()\n",
    "\n",
    "data = win_loss_ser.loc[win_loss_ser.index.isin(y_uniq)]\n",
    "x, y = data.w_per_match, data.index\n",
    "sns.barplot(x=x, y=y, data=data, hue='Series', orient='h'); plt.xlim((0.7, None));\n",
    "plt.title('Top 20 performance'); plt.grid();"
   ]
  },
  {
   "cell_type": "markdown",
   "id": "b5ab1d9e",
   "metadata": {
    "id": "e0ffc87e"
   },
   "source": [
    "#### Is there a correlation between performance and the type of court?\n",
    "##### Let's proceed with a statistical test: ANOVA test"
   ]
  },
  {
   "cell_type": "markdown",
   "id": "a82f59bb",
   "metadata": {
    "id": "dc650ba0"
   },
   "source": [
    "### 2.3. Performances en fonction du type de court"
   ]
  },
  {
   "cell_type": "code",
   "execution_count": null,
   "id": "47749869",
   "metadata": {
    "colab": {
     "base_uri": "https://localhost:8080/"
    },
    "id": "d6729ce3",
    "outputId": "99e33164-76d6-4062-c32d-3e6fec536f79"
   },
   "outputs": [],
   "source": [
    "# buffer dataFrame\n",
    "winner_tampon = pd.DataFrame(df1[['Winner', 'Court']].value_counts()).reset_index()\n",
    "winner_tampon.rename({'Winner' : 'Player', 0: 'Winner'}, inplace=True, axis=1)\n",
    "\n",
    "loser_tampon = pd.DataFrame(df1[['Loser', 'Court']].value_counts()).reset_index()\n",
    "loser_tampon.rename({'Loser' : 'Player', 0: 'Loser'}, inplace=True, axis=1)\n",
    "\n",
    "win_loss_cou = winner_tampon.merge(right=loser_tampon, on=['Player','Court'], how='right')\n",
    "\n",
    "win_loss_cou"
   ]
  },
  {
   "cell_type": "code",
   "execution_count": null,
   "id": "04a365d4",
   "metadata": {
    "id": "0f4839c7"
   },
   "outputs": [],
   "source": [
    "win_loss_cou = win_loss_cou.fillna(0)"
   ]
  },
  {
   "cell_type": "code",
   "execution_count": null,
   "id": "e88f4e8f",
   "metadata": {
    "colab": {
     "base_uri": "https://localhost:8080/"
    },
    "id": "53b8c5a5",
    "outputId": "baca5fa1-ccb9-4967-e0c1-cfdcde0741f5"
   },
   "outputs": [],
   "source": [
    "win_loss_cou['matches'] = win_loss_cou.Winner + win_loss_cou.Loser\n",
    "win_loss_cou['w_per_match'] = round(win_loss_cou.Winner / win_loss_cou.matches,3)\n",
    "\n",
    "win_loss_cou.sort_values(by = ['w_per_match', 'Player', 'Court'], ascending=False, inplace=True)\n",
    "win_loss_cou"
   ]
  },
  {
   "cell_type": "markdown",
   "id": "943b2f31",
   "metadata": {
    "id": "1dbe4731"
   },
   "source": [
    "##### H0 : Performance and tournament type are independent"
   ]
  },
  {
   "cell_type": "code",
   "execution_count": null,
   "id": "832cd82a",
   "metadata": {
    "colab": {
     "base_uri": "https://localhost:8080/"
    },
    "id": "dc2693f8",
    "outputId": "5d3cbf92-5d68-42f3-c4db-e725557f75ca"
   },
   "outputs": [],
   "source": [
    "import statsmodels.api\n",
    "\n",
    "result = statsmodels.formula.api.ols('w_per_match ~ Court', data=win_loss_cou).fit()\n",
    "table = statsmodels.api.stats.anova_lm(result)\n",
    "\n",
    "table"
   ]
  },
  {
   "cell_type": "markdown",
   "id": "16858557",
   "metadata": {
    "id": "21176c53"
   },
   "source": [
    "##### The p-value (PR(>F)) is < 5%, so we reject the null hypothesis"
   ]
  },
  {
   "cell_type": "code",
   "execution_count": null,
   "id": "552349a5",
   "metadata": {
    "id": "c8c5c6eb"
   },
   "outputs": [],
   "source": [
    "win_loss_cou['cat_match'] = pd.cut(x=win_loss_cou.matches, bins=4, labels=labels)"
   ]
  },
  {
   "cell_type": "code",
   "execution_count": null,
   "id": "417812bf",
   "metadata": {
    "colab": {
     "base_uri": "https://localhost:8080/"
    },
    "id": "0663ce7b",
    "outputId": "ece76263-0227-44d1-b7be-f1a244aa6de2"
   },
   "outputs": [],
   "source": [
    "# Graphical verification\n",
    "\n",
    "plt.figure(figsize=(16,7))\n",
    "sns.violinplot(data=win_loss_cou, x='Court', y='w_per_match', hue='cat_match')\n",
    "plt.title('Distribution des performances');"
   ]
  },
  {
   "cell_type": "markdown",
   "id": "21aec78b",
   "metadata": {
    "id": "1e74ff86"
   },
   "source": [
    "##### The graph confirms the statistical test"
   ]
  },
  {
   "cell_type": "markdown",
   "id": "c42ae45d",
   "metadata": {
    "id": "5b6ee2a8"
   },
   "source": [
    "##### Best players performance"
   ]
  },
  {
   "cell_type": "code",
   "execution_count": null,
   "id": "58654728",
   "metadata": {
    "colab": {
     "base_uri": "https://localhost:8080/"
    },
    "id": "8a63d7bc",
    "outputId": "0c818417-e624-4afd-a0b2-b754efff59b6",
    "scrolled": false
   },
   "outputs": [],
   "source": [
    "# Top 20 performces\n",
    "\n",
    "plt.figure(figsize=(14,14))\n",
    "\n",
    "y_uniq = win_loss_cou.head(30).Player.unique()\n",
    "\n",
    "data = win_loss_cou.loc[win_loss_cou.Player.isin(y_uniq)]\n",
    "x, y = data.w_per_match, data.Player\n",
    "sns.barplot(x=x, y=y, data=data, hue='Court', orient='h'); plt.xlim((0.65, None));\n",
    "plt.title('Top 20 performance'); plt.grid();"
   ]
  },
  {
   "cell_type": "markdown",
   "id": "6181a5f4",
   "metadata": {
    "id": "6a4aa14f"
   },
   "source": [
    "#### Is there a correlation between performance and surface type?\n",
    "##### Let's proceed with a statistical test: ANOVA test"
   ]
  },
  {
   "cell_type": "markdown",
   "id": "2b52ee5c",
   "metadata": {
    "id": "41953fd4"
   },
   "source": [
    "### 2.4. Performances pitch type"
   ]
  },
  {
   "cell_type": "code",
   "execution_count": null,
   "id": "a453f935",
   "metadata": {
    "colab": {
     "base_uri": "https://localhost:8080/"
    },
    "id": "2b0b9add",
    "outputId": "b2d554ff-4f68-4d9c-98eb-e89589dcd1e3"
   },
   "outputs": [],
   "source": [
    "# buffer dataFrame\n",
    "\n",
    "winner_tampon = pd.DataFrame(df1[['Winner', 'Surface']].value_counts()).reset_index()\n",
    "winner_tampon.rename({'Winner' : 'Player', 0: 'Winner'}, inplace=True, axis=1)\n",
    "\n",
    "loser_tampon = pd.DataFrame(df1[['Loser', 'Surface']].value_counts()).reset_index()\n",
    "loser_tampon.rename({'Loser' : 'Player', 0: 'Loser'}, inplace=True, axis=1)\n",
    "\n",
    "win_loss_sur = winner_tampon.merge(right=loser_tampon, on=['Player','Surface'], how='right')\n",
    "\n",
    "# NAs\n",
    "\n",
    "win_loss_sur = win_loss_sur.fillna(0)\n",
    "\n",
    "win_loss_sur['matches'] = win_loss_sur.Winner + win_loss_sur.Loser\n",
    "win_loss_sur['w_per_match'] = round(win_loss_sur.Winner / win_loss_sur.matches,3)\n",
    "\n",
    "win_loss_sur.sort_values(by = ['w_per_match', 'Player', 'Surface'], ascending=False, inplace=True)\n",
    "display(win_loss_sur.head())\n",
    "\n",
    "# H0 : Performance and tournament type are independent\n",
    "\n",
    "import statsmodels.api\n",
    "\n",
    "result = statsmodels.formula.api.ols('w_per_match ~ Surface', data=win_loss_sur).fit()\n",
    "table = statsmodels.api.stats.anova_lm(result)\n",
    "\n",
    "display(table)\n",
    "\n",
    "# The p-value (PR(>F)) is < 5%, so we reject the null hypothesis\n",
    "\n",
    "win_loss_sur['cat_match'] = pd.cut(x=win_loss_sur.matches, bins=4, labels=labels)\n",
    "\n",
    "# Graphical verification\n",
    "\n",
    "plt.figure(figsize=(16,7))\n",
    "sns.boxenplot(x=win_loss_sur.Surface, y=win_loss_sur.w_per_match, hue=win_loss_sur['cat_match'])\n",
    "plt.title('Performances distribution');\n",
    "\n",
    "# The graph confirms the statistical test"
   ]
  },
  {
   "cell_type": "markdown",
   "id": "c74aa35b",
   "metadata": {
    "id": "9d280ff6",
    "scrolled": true
   },
   "source": [
    "##### Best players performance"
   ]
  },
  {
   "cell_type": "code",
   "execution_count": null,
   "id": "f1634477",
   "metadata": {
    "colab": {
     "base_uri": "https://localhost:8080/"
    },
    "id": "e41d8518",
    "outputId": "5bb5e639-5433-4cf1-ad14-c4f60d4c1d10",
    "scrolled": false
   },
   "outputs": [],
   "source": [
    "# Top 20 performces\n",
    "\n",
    "plt.figure(figsize=(14,10))\n",
    "\n",
    "y_uniq = win_loss_sur.head(30).Player.unique()\n",
    "\n",
    "data = win_loss_sur.loc[win_loss_sur.Player.isin(y_uniq)]\n",
    "x, y = data.w_per_match, data.Player\n",
    "sns.barplot(x=x, y=y, data=data, hue='Surface', orient='h'); plt.xlim((0.7, None));\n",
    "plt.title('Top 20 performance'); plt.grid();"
   ]
  },
  {
   "cell_type": "markdown",
   "id": "c8664799",
   "metadata": {
    "id": "bb2e0e62"
   },
   "source": [
    "##### Apart from Federer who seems to be the most versatile player, we see that the surface has a strong influence on performance.\n",
    "##### Nadal is the most glaring example. He wins almost 93% of his matches on clay, but only wins 77% of matches on 'Hard'. That is about 16 delta points."
   ]
  },
  {
   "cell_type": "markdown",
   "id": "b5b58796",
   "metadata": {
    "id": "ca588bc7"
   },
   "source": [
    "### 2.5. Is the ranking hierarchy always respected?"
   ]
  },
  {
   "cell_type": "markdown",
   "id": "ccf1e37a",
   "metadata": {
    "id": "383b1b06"
   },
   "source": [
    "#### Proportion of matches won by Outsider"
   ]
  },
  {
   "cell_type": "code",
   "execution_count": null,
   "id": "6b6098f6",
   "metadata": {
    "colab": {
     "base_uri": "https://localhost:8080/",
     "height": 238
    },
    "id": "0afbaecd",
    "outputId": "22596ef1-52d1-4a5e-e720-b93133324681"
   },
   "outputs": [],
   "source": [
    "outsider_tampon = pd.DataFrame(df1.loc[df1.WRank > df1.LRank, ['Series', 'Court', 'Surface']].value_counts(), \n",
    "                               columns=['outsider_win'])\n",
    "challenger_tampon = pd.DataFrame(df1.loc[-(df1.WRank > df1.LRank), ['Series', 'Court', 'Surface']].value_counts(), \n",
    "                                 columns=['challenger_win'])\n",
    "cha_out = challenger_tampon.join(outsider_tampon)\n",
    "cha_out.head()"
   ]
  },
  {
   "cell_type": "code",
   "execution_count": null,
   "id": "64170366",
   "metadata": {
    "colab": {
     "base_uri": "https://localhost:8080/",
     "height": 248
    },
    "id": "9da6aec5",
    "outputId": "180a8a96-0c5d-40a5-f508-5932cfc2a09b"
   },
   "outputs": [],
   "source": [
    "#plt.figure(figsize=(9,6))\n",
    "sizes=[cha_out.challenger_win.sum(), cha_out.outsider_win.sum()]\n",
    "plt.pie(sizes,labels=['Challenger Wins', 'Outsider Wins'], autopct=\"%.1f%%\")#, normalize=True)\n",
    "plt.show()"
   ]
  },
  {
   "cell_type": "markdown",
   "id": "ab7d93f7",
   "metadata": {
    "id": "59eed5f7"
   },
   "source": [
    "##### We observe that Challengers win approximately twice more than Outsiders"
   ]
  },
  {
   "cell_type": "markdown",
   "id": "5bf01a37",
   "metadata": {
    "id": "adebae29"
   },
   "source": [
    "### 2.6 Bookmakers performance"
   ]
  },
  {
   "cell_type": "code",
   "execution_count": null,
   "id": "e82c4e5a",
   "metadata": {
    "colab": {
     "base_uri": "https://localhost:8080/",
     "height": 206
    },
    "id": "fb04ec91",
    "outputId": "9d721b3e-dd30-4c36-82b7-37a05d909edd"
   },
   "outputs": [],
   "source": [
    "df1.iloc[:,7:].head()"
   ]
  },
  {
   "cell_type": "code",
   "execution_count": null,
   "id": "1c778d49",
   "metadata": {
    "id": "bfa63f99"
   },
   "outputs": [],
   "source": [
    "# 3 possibilities : win for challenger, loss for challenger or draw"
   ]
  },
  {
   "cell_type": "code",
   "execution_count": null,
   "id": "8657353b",
   "metadata": {
    "id": "bb0f47a1"
   },
   "outputs": [],
   "source": [
    "atp_challenger_win, atp_outsider_win, atp_draw = len(df1[df1.WRank < df1.LRank]), len(df1[df1.WRank > df1.LRank]), len(df1[df1.WRank == df1.LRank])\n",
    "\n",
    "ps_challenger_win, ps_outsider_win, ps_draw = len(df1[df1.PSW < df1.PSL]), len(df1[df1.PSW > df1.PSL]), len(df1[(df1.PSW == df1.PSL) & (df1.PSW != 1)])\n",
    "\n",
    "b365_challenger_win, b365_outsider_win, b365_draw = len(df1[df1.B365W < df1.B365L]), len(df1[df1.B365W > df1.B365L]), len(df1[(df1.B365W == df1.B365L) & (df1.B365W != 1)])\n",
    "\n",
    "elo_challenger_win, elo_outsider_win, elo_draw = len(df1[df1.proba_elo > 0.5]), len(df1[df1.proba_elo < 0.5]), len(df1[df1.proba_elo == 0.5])"
   ]
  },
  {
   "cell_type": "code",
   "execution_count": null,
   "id": "71fb18a8",
   "metadata": {
    "colab": {
     "base_uri": "https://localhost:8080/",
     "height": 536
    },
    "id": "07e53d1c",
    "outputId": "910b721f-10bb-46ec-e2a1-38bf8b2b190b"
   },
   "outputs": [],
   "source": [
    "atp_results = [atp_challenger_win, atp_outsider_win, atp_draw]\n",
    "ps_results = [ps_challenger_win, ps_outsider_win, ps_draw]\n",
    "b365_results = [b365_challenger_win, b365_outsider_win, b365_draw]\n",
    "elo_results = [elo_challenger_win, elo_outsider_win, elo_draw]\n",
    "\n",
    "pie_charts = [atp_results, ps_results, b365_results, elo_results]\n",
    "fig = plt.figure(figsize=(16,9))\n",
    "\n",
    "ax1 = fig.add_subplot(221)\n",
    "ax1.pie(pie_charts[0], labels=['Challenger Wins', 'Outsider Wins', 'Draw'], autopct=\"%.1f%%\")#, normalize=True)\n",
    "ax1.set_title('atp_results')\n",
    "\n",
    "ax2 = fig.add_subplot(222)\n",
    "ax2.pie(pie_charts[1], labels=['Challenger Wins', 'Outsider Wins', 'Draw'], autopct=\"%.1f%%\")#, normalize=True)\n",
    "ax2.set_title('ps_results')\n",
    "\n",
    "ax3 = fig.add_subplot(223)\n",
    "ax3.pie(pie_charts[2], labels=['Challenger Wins', 'Outsider Wins', 'Draw'], autopct=\"%.1f%%\")#, normalize=True)\n",
    "ax3.set_title('b365_results')\n",
    "\n",
    "ax4 = fig.add_subplot(224)\n",
    "ax4.pie(pie_charts[3], labels=['Challenger Wins', 'Outsider Wins', 'Draw'], autopct=\"%.1f%%\")#, normalize=True)\n",
    "ax4.set_title('elo_results')\n",
    "plt.show();"
   ]
  },
  {
   "cell_type": "code",
   "execution_count": null,
   "id": "3a39a6b3",
   "metadata": {
    "id": "7e27a7ef"
   },
   "outputs": [],
   "source": [
    "# Bookmakers (B365 and PS) are right 70% of time. "
   ]
  },
  {
   "cell_type": "markdown",
   "id": "3ea2a19f",
   "metadata": {
    "id": "8ae08cb8"
   },
   "source": [
    "#### Do bookmakers always have the outsider and challenger ? "
   ]
  },
  {
   "cell_type": "code",
   "execution_count": null,
   "id": "02eb9736",
   "metadata": {
    "colab": {
     "base_uri": "https://localhost:8080/"
    },
    "id": "918551a7",
    "outputId": "ff2a22ee-5fcb-4fdf-a44e-32ebfcfbef06"
   },
   "outputs": [],
   "source": [
    "len(df1[(df1.PSW < df1.PSL) & (df1.B365W > df1.B365L)]) / len(df1) * 100"
   ]
  },
  {
   "cell_type": "markdown",
   "id": "705080b7",
   "metadata": {
    "id": "cbfeab26"
   },
   "source": [
    "##### Yes they do."
   ]
  },
  {
   "cell_type": "markdown",
   "id": "d67278a3",
   "metadata": {
    "id": "d6a2af8b"
   },
   "source": [
    "# 3. Predictions - Model"
   ]
  },
  {
   "cell_type": "markdown",
   "id": "7c3f51cd",
   "metadata": {
    "id": "8e050ec5"
   },
   "source": [
    "### 3.1 Data preprocessing / Features engineering"
   ]
  },
  {
   "cell_type": "code",
   "execution_count": null,
   "id": "5bb6cc96",
   "metadata": {
    "id": "e035827f"
   },
   "outputs": [],
   "source": [
    "# Lets change the dataset structure"
   ]
  },
  {
   "cell_type": "code",
   "execution_count": null,
   "id": "3cc5627b",
   "metadata": {
    "colab": {
     "base_uri": "https://localhost:8080/",
     "height": 395
    },
    "id": "a7478663",
    "outputId": "901403e8-4f9f-44dc-d80a-5b5f63779981"
   },
   "outputs": [],
   "source": [
    "display(df1.iloc[:,:10].head())\n",
    "df1.iloc[:,10:25].head()"
   ]
  },
  {
   "cell_type": "code",
   "execution_count": null,
   "id": "162bebea",
   "metadata": {
    "colab": {
     "base_uri": "https://localhost:8080/",
     "height": 395
    },
    "id": "f6e689db",
    "outputId": "94d7f5d1-6821-4350-befb-e8977f906a5f",
    "scrolled": true
   },
   "outputs": [],
   "source": [
    "df2 = df1.copy()\n",
    "\n",
    "df2['player1'] = df2.Winner.copy()\n",
    "df2['player2'] = df2.Loser.copy()\n",
    "df2.drop('Loser', axis=1, inplace=True)\n",
    "df2.rename({'Winner': 'player1_wins', 'WRank': 'rank1', 'LRank': 'rank2', 'Wsets': 'sets1', 'Lsets': 'sets2',\n",
    "            'PSW': 'ps1', 'PSL': 'ps2', 'B365W': 'b365_1', 'B365L': 'b365_2', 'elo_winner': 'elo1', \n",
    "            'elo_loser': 'elo2', 'Date':'date'}, axis=1, inplace=True)\n",
    "\n",
    "df3 = df2.copy()\n",
    "\n",
    "df2.loc[:,'player1_wins'], df3.loc[:,'player1_wins'] = -1, 1\n",
    "\n",
    "df2.player1, df2.player2 = df3.player2, df3.player1\n",
    "df2.rank1, df2.rank2 = df3.rank2, df3.rank1\n",
    "df2.sets1, df2.sets2 = df3.sets2, df3.sets1\n",
    "df2.ps1, df2.ps2 = df3.ps2, df3.ps1\n",
    "df2.b365_1, df2.b365_2 = df3.b365_2, df3.b365_1\n",
    "df2.elo1, df2.elo2 = df3.elo2, df3.elo1\n",
    "\n",
    "df2 = df2.append(df3, ignore_index=True)\n",
    "del df3\n",
    "\n",
    "display(df2.iloc[:,:10].head())\n",
    "df2.iloc[:,10:].head()"
   ]
  },
  {
   "cell_type": "code",
   "execution_count": null,
   "id": "2b997348",
   "metadata": {
    "id": "86ad0618"
   },
   "outputs": [],
   "source": [
    "df"
   ]
  },
  {
   "cell_type": "code",
   "execution_count": null,
   "id": "8a753df9",
   "metadata": {
    "id": "a55ccca3"
   },
   "outputs": [],
   "source": [
    "col_to_keep = col_prev_match + ['Tournament', 'Round', 'player1_wins', 'rank1', 'rank2', 'ps1', 'ps2', 'b365_1', 'b365_2',\n",
    "               'elo1', 'elo2', 'player1', 'player2']\n",
    "df_final = df2[col_to_keep]"
   ]
  },
  {
   "cell_type": "code",
   "execution_count": null,
   "id": "847805bf",
   "metadata": {
    "colab": {
     "base_uri": "https://localhost:8080/",
     "height": 613
    },
    "id": "9e4cf16b",
    "outputId": "2e6f45cf-0de4-45c4-cd1b-9c93d2e770cb",
    "scrolled": true
   },
   "outputs": [],
   "source": [
    "df_final.iloc[30:40,:]"
   ]
  },
  {
   "cell_type": "code",
   "execution_count": null,
   "id": "b086bffa",
   "metadata": {
    "id": "b7ffd3e0",
    "scrolled": true
   },
   "outputs": [],
   "source": [
    "#df2.loc[df2.player1 == 'Luxa P.'].sort_values(by='date', ascending=False).iloc[:,[3,9,10,25,26,34,35]]"
   ]
  },
  {
   "cell_type": "code",
   "execution_count": null,
   "id": "bc74adf2",
   "metadata": {
    "id": "e49be421"
   },
   "outputs": [],
   "source": [
    "data = df_final.drop(['player1_wins'], axis=1)\n",
    "target = df_final.player1_wins"
   ]
  },
  {
   "cell_type": "code",
   "execution_count": null,
   "id": "76009475",
   "metadata": {
    "id": "cc3e41aa"
   },
   "outputs": [],
   "source": [
    "X_train, X_test, y_train, y_test = train_test_split(data, target, train_size=.7)"
   ]
  },
  {
   "cell_type": "code",
   "execution_count": null,
   "id": "bb033d2e",
   "metadata": {
    "id": "a20e119b"
   },
   "outputs": [],
   "source": [
    "X_train_num, X_test_num = X_train.select_dtypes(include=np.number), X_test.select_dtypes(include=np.number)\n",
    "X_train_cat1, X_test_cat1 = X_train[['Round']], X_test[['Round']]\n",
    "X_train_cat2, X_test_cat2 = X_train[['Tournament', 'player1', 'player2']], X_test[['Tournament', 'player1', 'player2']]"
   ]
  },
  {
   "cell_type": "code",
   "execution_count": null,
   "id": "f0b6890b",
   "metadata": {
    "id": "6127fe58"
   },
   "outputs": [],
   "source": [
    "# We standardize numerical values :\n",
    "scaler = StandardScaler()\n",
    "X_train_num_scaled = pd.DataFrame(scaler.fit_transform(X_train_num), index=X_train.index, columns = X_train_num.columns)\n",
    "X_test_num_scaled = pd.DataFrame(scaler.transform(X_test_num), index=X_test.index, columns = X_test_num.columns)"
   ]
  },
  {
   "cell_type": "code",
   "execution_count": null,
   "id": "54e6f076",
   "metadata": {
    "colab": {
     "base_uri": "https://localhost:8080/"
    },
    "id": "2ac436df",
    "outputId": "8d50d1e9-21c8-4738-a3ba-9b1750d1226a"
   },
   "outputs": [],
   "source": [
    "# We encode our categorical values :\n",
    "oneh = OneHotEncoder(handle_unknown = 'ignore')\n",
    "\n",
    "X_train_cat_encod1 = pd.DataFrame(oneh.fit_transform(X_train_cat1).toarray(), index=X_train.index, columns = oneh.get_feature_names())\n",
    "X_test_cat_encod1 = pd.DataFrame(oneh.transform(X_test_cat1).toarray(), index=X_test.index, columns = oneh.get_feature_names())"
   ]
  },
  {
   "cell_type": "code",
   "execution_count": null,
   "id": "5f48ba81",
   "metadata": {
    "id": "b1fdb5ca"
   },
   "outputs": [],
   "source": [
    "# We encode our categorical values :\n",
    "le1 = LabelEncoder()\n",
    "le2 = LabelEncoder()\n",
    "\n",
    "le2.fit(data.loc[:,'player1'].append(data.loc[:,'player2'], ignore_index=True).drop_duplicates())\n",
    "\n",
    "X_train_cat_encod2 = pd.DataFrame({X_train_cat2.columns[0] : le1.fit_transform(X_train_cat2.iloc[:,0]),\n",
    "                                   X_train_cat2.columns[1] : le2.transform(X_train_cat2.iloc[:,1]),\n",
    "                                   X_train_cat2.columns[2] : le2.transform(X_train_cat2.iloc[:,2])}, index=X_train.index)\n",
    "X_test_cat_encod2 = pd.DataFrame({X_test_cat2.columns[0] : le1.fit_transform(X_test_cat2.iloc[:,0]),\n",
    "                                   X_test_cat2.columns[1] : le2.transform(X_test_cat2.iloc[:,1]),\n",
    "                                   X_test_cat2.columns[2] : le2.transform(X_test_cat2.iloc[:,2])}, index=X_test.index)"
   ]
  },
  {
   "cell_type": "code",
   "execution_count": null,
   "id": "bbd02a66",
   "metadata": {
    "id": "3a5cade7"
   },
   "outputs": [],
   "source": [
    "X_train = pd.concat([X_train_cat_encod1, X_train_cat_encod2, X_train_num_scaled], axis=1)\n",
    "X_test = pd.concat([X_test_cat_encod1, X_test_cat_encod2, X_test_num_scaled], axis=1)"
   ]
  },
  {
   "cell_type": "code",
   "execution_count": null,
   "id": "d60ace70",
   "metadata": {
    "id": "772de0d5"
   },
   "outputs": [],
   "source": [
    "#!conda install -c conda-forge py-xgboost\n",
    "#!pip install --user xgboost"
   ]
  },
  {
   "cell_type": "markdown",
   "id": "c7939a3a",
   "metadata": {
    "id": "nnvFgNjoj9BJ"
   },
   "source": [
    "### 3.2 Model selection"
   ]
  },
  {
   "cell_type": "code",
   "execution_count": null,
   "id": "1c165ec0",
   "metadata": {
    "colab": {
     "base_uri": "https://localhost:8080/"
    },
    "id": "af72f3f0",
    "outputId": "92125b22-b63b-4ffd-b1e0-55c2031e2356"
   },
   "outputs": [],
   "source": [
    "# Model definition\n",
    "lr = LogisticRegression()\n",
    "knn = KNeighborsClassifier(2)\n",
    "dt = DecisionTreeClassifier()\n",
    "rf = RandomForestClassifier()\n",
    "ac = AdaBoostClassifier()\n",
    "\n",
    "xg = xgboost.XGBClassifier()\n",
    "xg.fit(X_train, y_train.replace({-1:0}))\n",
    "xg.score(X_test, y_test.replace({-1:0}))\n",
    "\n",
    "# Model training\n",
    "lr.fit(X_train, y_train)\n",
    "print(\"score du lr : {}\".format(lr.score(X_test, y_test)))\n",
    "\n",
    "dt.fit(X_train, y_train)\n",
    "print(\"score du dt : {}\".format(dt.score(X_test, y_test)))\n",
    "\n",
    "ac.fit(X_train, y_train)\n",
    "print(\"score du ac : {}\".format(ac.score(X_test, y_test)))\n",
    "\n",
    "knn.fit(X_train, y_train)\n",
    "print(\"score du knn : {}\".format(knn.score(X_test, y_test)))\n",
    "\n",
    "rf.fit(X_train, y_train)\n",
    "print(\"score du rf : {}\".format(rf.score(X_test, y_test)))\n",
    "\n",
    "xg.fit(X_train, y_train.replace({-1:0}))\n",
    "print(\"score du xg : {}\".format(xg.score(X_test, y_test.replace({-1:0}))) )"
   ]
  },
  {
   "cell_type": "code",
   "execution_count": null,
   "id": "07fa0d16",
   "metadata": {
    "colab": {
     "base_uri": "https://localhost:8080/",
     "height": 300
    },
    "id": "3121a690",
    "outputId": "91f70f33-936f-4cfe-bb48-fe2564d47de9"
   },
   "outputs": [],
   "source": [
    "# Model prediction\n",
    "y_pred_lr = lr.predict(X_test) \n",
    "\n",
    "# Classification report\n",
    "print(classification_report(y_test, y_pred_lr))\n",
    "\n",
    "# Correlation matrix\n",
    "pd.crosstab(y_test, y_pred_lr, rownames=['Real class'], colnames=['lr prediction class'])"
   ]
  },
  {
   "cell_type": "code",
   "execution_count": null,
   "id": "52deb346",
   "metadata": {
    "id": "d6ed4dee"
   },
   "outputs": [],
   "source": [
    "# Our models struggle to overperform the bookmakers predictions.\n",
    "# As reminder, bookmakers hs a score close to 70%.\n",
    "# We must improve our model"
   ]
  },
  {
   "cell_type": "markdown",
   "id": "c483323f",
   "metadata": {
    "id": "b859ce71"
   },
   "source": [
    "### 3.3 Hyperparameters tunning : Nested Cross-Validation"
   ]
  },
  {
   "cell_type": "code",
   "execution_count": null,
   "id": "547bca7b",
   "metadata": {
    "id": "aef1fb25"
   },
   "outputs": [],
   "source": [
    "# Model definition\n",
    "lr = LogisticRegression()\n",
    "knn = KNeighborsClassifier()\n",
    "rf = RandomForestClassifier()\n",
    "xg = xgboost.XGBClassifier()\n",
    "ac = AdaBoostClassifier(dt)"
   ]
  },
  {
   "cell_type": "code",
   "execution_count": null,
   "id": "79ebc27e",
   "metadata": {
    "id": "a9b2d5ac"
   },
   "outputs": [],
   "source": [
    "param_grid_lr = {'C': np.linspace(0.05, 1, 20), \n",
    "              'penalty' : ['l1', 'l2'], \n",
    "              'solver' : ['lbfgs', 'liblinear']}\n",
    "\n",
    "param_grid_knn = {'n_neighbors' : np.arange(2,3), 'metric' : ['manhattan', 'minkowski']}\n",
    "\n",
    "param_grid_rf = {'n_jobs': [-1, 1, 10], 'criterion':[\"gini\", \"entropy\"]}\n",
    "\n",
    "param_grid_ac = {'base_estimator__max_depth' : [i for i in range(2,9,2)],\n",
    "              #'base_estimator__min_samples_leaf':[5,10],\n",
    "              #'n_estimators':[10,250,1000],\n",
    "              'learning_rate':[0.01,0.1]}\n",
    "\n",
    "param_grid_xg = {\"learning_rate\"    : [0.05, 0.03, 0.01] , \"booster\": ['gbtree', 'dart'],\n",
    " \"max_depth\"        : [7,9,10],\n",
    " \"gamma\"            : [0.4, 0.3, 0.2],\n",
    " \"colsample_bytree\" : [0.4, 0.3, 0.2] }"
   ]
  },
  {
   "cell_type": "code",
   "execution_count": null,
   "id": "b5e96667",
   "metadata": {
    "id": "02f70dfd",
    "scrolled": true
   },
   "outputs": [],
   "source": [
    "gridcvs = dict()\n",
    "gridcvs['lr'] = GridSearchCV(lr, param_grid_lr, scoring='accuracy', cv=3, refit=True)\n",
    "gridcvs['knn'] = GridSearchCV(knn, param_grid_knn, scoring='accuracy', cv=3, refit=True)\n",
    "gridcvs['rf'] = GridSearchCV(rf, param_grid_rf, scoring='accuracy', cv=3, refit=True)\n",
    "gridcvs['ac'] = GridSearchCV(ac, param_grid_ac, scoring='accuracy', cv=3, refit=True)\n",
    "gridcvs['xg'] = GridSearchCV(xg, param_grid_xg, scoring='accuracy', cv=3, refit=True).fit(X_train, y_train.replace({-1:0}))"
   ]
  },
  {
   "cell_type": "code",
   "execution_count": null,
   "id": "ffd1f429",
   "metadata": {
    "colab": {
     "base_uri": "https://localhost:8080/"
    },
    "id": "57006218",
    "outputId": "ed4c9039-8aca-43b9-f797-23ba46dbebac"
   },
   "outputs": [],
   "source": [
    "import warnings\n",
    "warnings.filterwarnings('ignore')\n",
    "\n",
    "gridcvs['lr'].fit(X_train, y_train)\n",
    "resultats_cv = pd.DataFrame(gridcvs['lr'].cv_results_)[['params', 'mean_test_score', 'std_test_score']]\n",
    "display(resultats_cv.loc[resultats_cv.params == gridcvs['lr'].best_params_])\n",
    "resultats_cv"
   ]
  },
  {
   "cell_type": "code",
   "execution_count": null,
   "id": "48bd0b44",
   "metadata": {
    "colab": {
     "base_uri": "https://localhost:8080/"
    },
    "id": "46c7d60c",
    "outputId": "3c91f680-7104-4fe7-80e5-0eeeddba2b94"
   },
   "outputs": [],
   "source": [
    "# No improvement"
   ]
  },
  {
   "cell_type": "code",
   "execution_count": null,
   "id": "098df088",
   "metadata": {},
   "outputs": [],
   "source": [
    "#dump(dt, 'C:\\\\Users\\\\00080609\\\\OneDrive - ENERCON\\\\GitHub\\\\PyBet\\\\PyBet---Bet\\\\Streamlit\\\\Models\\\\dt_pybet.joblib')\n",
    "#dump(knn, 'C:\\\\Users\\\\00080609\\\\OneDrive - ENERCON\\\\GitHub\\\\PyBet\\\\PyBet---Bet\\\\Streamlit\\\\Models\\\\knn_pybet.joblib')\n",
    "#dump(rf, 'C:\\\\Users\\\\00080609\\\\OneDrive - ENERCON\\\\GitHub\\\\PyBet\\\\PyBet---Bet\\\\Streamlit\\\\Models\\\\rf_pybet.joblib')\n",
    "dump(lr, 'C:\\\\Users\\\\00080609\\\\OneDrive - ENERCON\\\\GitHub\\\\PyBet\\\\PyBet---Bet\\\\Streamlit\\\\Models\\\\lr_pybet.joblib')"
   ]
  },
  {
   "cell_type": "code",
   "execution_count": null,
   "id": "cc643b92",
   "metadata": {},
   "outputs": [],
   "source": [
    "'''loaded_model = load('M:\\\\53-01-Reportings_KPI\\\\lr_pybet.joblib')\n",
    "\n",
    "loaded_model.predict(X_train)'''"
   ]
  },
  {
   "cell_type": "markdown",
   "id": "4088eb37",
   "metadata": {
    "id": "5Zuk4dGUjft6"
   },
   "source": [
    "# 4. Is it possible to win money ?"
   ]
  },
  {
   "cell_type": "markdown",
   "id": "ae92378b",
   "metadata": {
    "id": "g6RV4lhgkCYI"
   },
   "source": [
    "### Our model is not doing better than the bookmakers predictions. We can then follow their strategy and check if we can win.\n",
    "As the goal is to beat the bookmakers, we should find the best way to bet without loosing money. It imply not only to accurately forecast the winner, but also to choose the right game bet on."
   ]
  },
  {
   "cell_type": "markdown",
   "id": "13b8adfc",
   "metadata": {
    "id": "89e52b03"
   },
   "source": [
    "###### Lets imagine we bet € 10 on Nadal with an odd of  1,5. Possible outcomes are :\n",
    "    - Nadal wins : I win € 15\n",
    "    - Nadal loose : I win € 0\n",
    "In the first case, our ROI (Return On Investment) is 50%.\n",
    "In the first case, our ROI (Return On Investment) is -100%.\n",
    "\n",
    "That is to say :\n",
    "    \n",
    "    ROI = (odd * bet - bet) / bet = odd - 1    if prediction right\n",
    "    ROI =                         = - 100 %    if prediction wrong\n",
    "\n",
    "To beat the bookmakers, ROI should be positive."
   ]
  },
  {
   "cell_type": "code",
   "execution_count": null,
   "id": "0f06c9fe",
   "metadata": {
    "id": "713e24ab"
   },
   "outputs": [],
   "source": [
    "def allocation_paris(base_cagnotte=0, mise_min=100, mise_max=1000, sureté=0.8):\n",
    "    y_pred_proba = lr.predict_proba(X_test) \n",
    "    \n",
    "    cagnotte = base_cagnotte\n",
    "    \n",
    "    mise_totale = 0\n",
    "    \n",
    "    y_pred_proba2 = [probas for probas in y_pred_proba]\n",
    "    \n",
    "    for i, probas in zip(y_test.index, y_pred_proba2):\n",
    "    #for i, probas in enumerate(y_pred_proba):    \n",
    "        cotes_1 = df_final[['ps1', 'b365_1']].loc[i]\n",
    "        cotes_2 = df_final[['ps2', 'b365_2']].loc[i]\n",
    "        \n",
    "        probas_test = probas[1]\n",
    "        if probas[1]>sureté:\n",
    "            if y_test.loc[i]==1:\n",
    "                print('bet {}€ on player1 victory -'.format(round(mise_min+(mise_max-mise_min)*(probas_test-sureté)/(1-sureté))) ,\n",
    "                      'match id {}'.format(i),\n",
    "                      'on {}, odd to {} -'.format(cotes_1.idxmax()[:-1], cotes_1.max()),\n",
    "                      'WIN!! - total : {}€'.format(cagnotte + round((mise_min+(mise_max-mise_min)*(probas_test-sureté)/(1-sureté))*(cotes_1.max()-1))))\n",
    "                cagnotte += round((mise_min+(mise_max-mise_min)*(probas_test-sureté)/(1-sureté))*(cotes_1.max()-1))\n",
    "            else:\n",
    "                print('bet {}€ on player1 victory -'.format(round(mise_min+(mise_max-mise_min)*(probas_test-sureté)/(1-sureté))) ,\n",
    "                      'on {}, odd to {} -'.format(cotes_2.idxmax()[:-1], cotes_2.max()),\n",
    "                      'LOOSE!! - total : {}€'.format(cagnotte - round(mise_min+(mise_max-mise_min)*(probas_test-sureté)/(1-sureté))))\n",
    "                cagnotte -= round(mise_min+(mise_max-mise_min)*(probas_test-sureté)/(1-sureté))\n",
    "            mise_totale += round(mise_min+(mise_max-mise_min)*(probas_test-sureté)/(1-sureté))\n",
    "        \n",
    "        probas_test = probas[0]\n",
    "        if probas[0]>sureté:\n",
    "            if y_test.loc[i]==-1:\n",
    "                print('bet {}€ on player2 victory -'.format(round(mise_min+(mise_max-mise_min)*(probas_test-sureté)/(1-sureté))) ,\n",
    "                      'on {}, odd to {} -'.format(cotes_2.idxmax()[:-1], cotes_2.max()),\n",
    "                      'WIN!! - total : {}€'.format(cagnotte + round((mise_min+(mise_max-mise_min)*(probas_test-sureté)/(1-sureté))*(cotes_2.max()-1))))\n",
    "                cagnotte += round((mise_min+(mise_max-mise_min)*(probas_test-sureté)/(1-sureté))*(cotes_2.max()-1))\n",
    "            else:\n",
    "                print('bet {}€ on player2 victory -'.format(round(mise_min+(mise_max-mise_min)*(probas_test-sureté)/(1-sureté))) ,\n",
    "                      'on {}, odd to {} -'.format(cotes_2.idxmax()[:-1], cotes_2.max()),\n",
    "                      'LOOSE!! - total : {}€'.format(cagnotte - round(mise_min+(mise_max-mise_min)*(probas_test-sureté)/(1-sureté))))\n",
    "                cagnotte -= round(mise_min+(mise_max-mise_min)*(probas_test-sureté)/(1-sureté))\n",
    "            mise_totale += round(mise_min+(mise_max-mise_min)*(probas_test-sureté)/(1-sureté))\n",
    "                \n",
    "        \n",
    "    print(\"La mise totale a été de \", mise_totale)\n",
    "    print(\"La cagnote est de \", cagnotte)\n",
    "    return cagnotte"
   ]
  },
  {
   "cell_type": "code",
   "execution_count": null,
   "id": "7162309a",
   "metadata": {
    "id": "54f7c216"
   },
   "outputs": [],
   "source": [
    "def allocation_paris2(base_cagnotte=0, mise_min=100, mise_max=1000, sureté=0.8):\n",
    "    y_pred_proba = lr.predict_proba(X_test) \n",
    "    \n",
    "    cagnotte = base_cagnotte\n",
    "    \n",
    "    mise_totale = 0\n",
    "    \n",
    "    y_pred_proba2 = [probas for probas in y_pred_proba]\n",
    "    \n",
    "    for i, probas in zip(y_test.index, y_pred_proba2):\n",
    "    #for i, probas in enumerate(y_pred_proba):    \n",
    "        cotes_1 = df_final[['ps1', 'b365_1']].loc[i]\n",
    "        cotes_2 = df_final[['ps2', 'b365_2']].loc[i]\n",
    "        \n",
    "        probas_test = probas[1]\n",
    "        if probas_test>sureté:\n",
    "            if y_test.loc[i]==1:\n",
    "                cagnotte += round((mise_min+(mise_max-mise_min)*(probas_test-sureté)/(1-sureté))*(cotes_1.max()-1))\n",
    "            else:\n",
    "                cagnotte -= round(mise_min+(mise_max-mise_min)*(probas_test-sureté)/(1-sureté))\n",
    "            mise_totale += round(mise_min+(mise_max-mise_min)*(probas_test-sureté)/(1-sureté))\n",
    "        \n",
    "        probas_test = probas[0]\n",
    "        if probas_test>sureté:\n",
    "            if y_test.loc[i]==-1:\n",
    "                cagnotte += round((mise_min+(mise_max-mise_min)*(probas_test-sureté)/(1-sureté))*(cotes_2.max()-1))\n",
    "            else:\n",
    "                cagnotte -= round(mise_min+(mise_max-mise_min)*(probas_test-sureté)/(1-sureté))\n",
    "            mise_totale += round(mise_min+(mise_max-mise_min)*(probas_test-sureté)/(1-sureté))\n",
    "            \n",
    "    print('La cagnotte est de : ', cagnotte) \n",
    "    print('...Pour une mise totale de : ', mise_totale)"
   ]
  },
  {
   "cell_type": "code",
   "execution_count": null,
   "id": "e47403c8",
   "metadata": {},
   "outputs": [],
   "source": [
    "def allocation_paris3(base_cagnotte=0, mise_min=100, mise_max=1000, sureté=0.8):\n",
    "    y_pred_proba = lr.predict_proba(X_test) \n",
    "    \n",
    "    cagnotte = base_cagnotte\n",
    "    \n",
    "    mise_totale = 0\n",
    "    \n",
    "    y_pred_proba2 = [probas for probas in y_pred_proba]\n",
    "    \n",
    "    for i, probas in zip(y_test.index, y_pred_proba2):\n",
    "    #for i, probas in enumerate(y_pred_proba):    \n",
    "        cotes_1 = df_final[['ps1', 'b365_1']].loc[i]\n",
    "        cotes_2 = df_final[['ps2', 'b365_2']].loc[i]\n",
    "        \n",
    "        probas_test = probas[1]\n",
    "        if probas_test>sureté:\n",
    "            if y_test.loc[i]==1:\n",
    "                cagnotte += round((mise_min+(mise_max-mise_min)*(probas_test-sureté)/(1-sureté))*(cotes_1.max()-1))\n",
    "            else:\n",
    "                cagnotte -= round(mise_min+(mise_max-mise_min)*(probas_test-sureté)/(1-sureté))\n",
    "            mise_totale += round(mise_min+(mise_max-mise_min)*(probas_test-sureté)/(1-sureté))\n",
    "        \n",
    "        probas_test = probas[0]\n",
    "        if probas_test>sureté:\n",
    "            if y_test.loc[i]==-1:\n",
    "                cagnotte += round((mise_min+(mise_max-mise_min)*(probas_test-sureté)/(1-sureté))*(cotes_2.max()-1))\n",
    "            else:\n",
    "                cagnotte -= round(mise_min+(mise_max-mise_min)*(probas_test-sureté)/(1-sureté))\n",
    "            mise_totale += round(mise_min+(mise_max-mise_min)*(probas_test-sureté)/(1-sureté))\n",
    "            \n",
    "    return cagnotte"
   ]
  },
  {
   "cell_type": "code",
   "execution_count": null,
   "id": "9aa15738",
   "metadata": {
    "colab": {
     "base_uri": "https://localhost:8080/"
    },
    "id": "81d46533",
    "outputId": "9f20f4fd-f370-4891-cddd-c1c1897f0a8b",
    "scrolled": true
   },
   "outputs": [],
   "source": [
    "allocation_paris()"
   ]
  },
  {
   "cell_type": "code",
   "execution_count": null,
   "id": "1ac6d6e1",
   "metadata": {},
   "outputs": [],
   "source": [
    "allocation_paris2()"
   ]
  },
  {
   "cell_type": "code",
   "execution_count": null,
   "id": "a1d57202",
   "metadata": {
    "id": "4331eeed"
   },
   "outputs": [],
   "source": [
    "security = np.arange(0.8,1,0.03)\n",
    "jackpot = []\n",
    "for i in security:\n",
    "    jackpot.append(allocation_paris3(sureté = i))\n",
    "jackpot = np.array(jackpot)"
   ]
  },
  {
   "cell_type": "code",
   "execution_count": null,
   "id": "e685e266",
   "metadata": {
    "colab": {
     "base_uri": "https://localhost:8080/"
    },
    "id": "999922dc",
    "outputId": "176ca785-d790-46a2-a359-0e59668f142f"
   },
   "outputs": [],
   "source": [
    "plt.plot(security, jackpot);"
   ]
  },
  {
   "cell_type": "code",
   "execution_count": null,
   "id": "54396760",
   "metadata": {},
   "outputs": [],
   "source": [
    "# Conclusion\n",
    "# It is not possible to beat the bookmakers"
   ]
  },
  {
   "cell_type": "markdown",
   "id": "6922e9ae",
   "metadata": {
    "id": "62b15135"
   },
   "source": [
    "# 5. Interpretability"
   ]
  },
  {
   "cell_type": "markdown",
   "id": "93b9b7ff",
   "metadata": {},
   "source": [
    "### 5.1 Skater : Features importance"
   ]
  },
  {
   "cell_type": "code",
   "execution_count": null,
   "id": "c88f18a8",
   "metadata": {},
   "outputs": [],
   "source": [
    "pd.Series(np.abs(lr.coef_[0]), X_train.columns).sort_values(ascending=False).plot(kind='barh', figsize=(4,8));"
   ]
  },
  {
   "cell_type": "markdown",
   "id": "cd3cbcd1",
   "metadata": {},
   "source": [
    "### 5.2 SHAP"
   ]
  },
  {
   "cell_type": "code",
   "execution_count": null,
   "id": "757467a0",
   "metadata": {},
   "outputs": [],
   "source": [
    "#!pip install skater"
   ]
  },
  {
   "cell_type": "code",
   "execution_count": null,
   "id": "ccc68b8b",
   "metadata": {},
   "outputs": [],
   "source": [
    "#!pip install shap"
   ]
  },
  {
   "cell_type": "code",
   "execution_count": null,
   "id": "077d6949",
   "metadata": {},
   "outputs": [],
   "source": [
    "import shap\n",
    "\n",
    "\n",
    "explainer = shap.LinearExplainer(lr, X_test)\n",
    "\n",
    "shap_values = explainer.shap_values(X_test)\n",
    "\n",
    "shap.summary_plot(shap_values, X_test, feature_names=X_test.columns)"
   ]
  },
  {
   "cell_type": "code",
   "execution_count": null,
   "id": "5fe5240d",
   "metadata": {},
   "outputs": [],
   "source": [
    "shap.dependence_plot('ps1', shap_values, X_test, interaction_index= \"Tournament\")\n",
    "\n",
    "shap.dependence_plot('b365_2', shap_values, X_test, interaction_index= \"x0_The Final\")\n",
    "\n",
    "shap.dependence_plot(\"Tournament\", shap_values, X_test, interaction_index= \"x0_The Final\")"
   ]
  },
  {
   "cell_type": "code",
   "execution_count": null,
   "id": "b2288cb7",
   "metadata": {},
   "outputs": [],
   "source": [
    "#Utiliser SHAP car PCA uniquement pour variable quantitatives\n",
    "#Models avec et sans bookmakers"
   ]
  }
 ],
 "metadata": {
  "colab": {
   "collapsed_sections": [
    "23ea5678",
    "18f77620",
    "693797fb",
    "21d983de",
    "62fe0090",
    "88cbed4a",
    "5c9c231c",
    "da2cae60",
    "dc650ba0",
    "41953fd4",
    "ca588bc7",
    "383b1b06",
    "adebae29",
    "8e050ec5",
    "b859ce71",
    "5Zuk4dGUjft6"
   ],
   "name": "pyBet.ipynb",
   "provenance": [],
   "toc_visible": true
  },
  "kernelspec": {
   "display_name": "Python 3 (ipykernel)",
   "language": "python",
   "name": "python3"
  },
  "language_info": {
   "codemirror_mode": {
    "name": "ipython",
    "version": 3
   },
   "file_extension": ".py",
   "mimetype": "text/x-python",
   "name": "python",
   "nbconvert_exporter": "python",
   "pygments_lexer": "ipython3",
   "version": "3.9.13"
  }
 },
 "nbformat": 4,
 "nbformat_minor": 5
}
